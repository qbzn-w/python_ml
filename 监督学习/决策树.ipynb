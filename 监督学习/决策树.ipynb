{
 "cells": [
  {
   "cell_type": "code",
   "execution_count": null,
   "metadata": {},
   "outputs": [],
   "source": []
  },
  {
   "cell_type": "code",
   "execution_count": 27,
   "metadata": {},
   "outputs": [
    {
     "data": {
      "text/plain": [
       "1"
      ]
     },
     "execution_count": 27,
     "metadata": {},
     "output_type": "execute_result"
    }
   ],
   "source": [
    "\n",
    "import pandas as pd\n",
    "from sqlalchemy import create_engine\n",
    "import pymysql\n",
    "db = pymysql.connect(host='localhost',\n",
    "                     user='root',\n",
    "                     password='wdg211206324',\n",
    "                     database='test')\n",
    "\n",
    "cursor = db.cursor()"
   ]
  },
  {
   "cell_type": "code",
   "execution_count": null,
   "metadata": {},
   "outputs": [],
   "source": []
  },
  {
   "cell_type": "code",
   "execution_count": 67,
   "metadata": {},
   "outputs": [
    {
     "name": "stdout",
     "output_type": "stream",
     "text": [
      "CPU times: user 1.31 ms, sys: 2.93 ms, total: 4.24 ms\n",
      "Wall time: 6.38 ms\n"
     ]
    }
   ],
   "source": [
    "%%time\n",
    "for i in range(1):\n",
    "    sql = \"INSERT INTO Persons(Id_P, LastName,FirstName, Address,City) VALUES ('%s', '%s', '%s',  '%s',  '%s')\" % (201, 'Mohan','Mo1han', '浙江', '温州')\n",
    "    cursor.execute(sql)\n",
    "db.commit()"
   ]
  },
  {
   "cell_type": "code",
   "execution_count": 65,
   "metadata": {},
   "outputs": [
    {
     "name": "stdout",
     "output_type": "stream",
     "text": [
      "CPU times: user 777 ms, sys: 21.3 ms, total: 798 ms\n",
      "Wall time: 1.56 s\n"
     ]
    }
   ],
   "source": [
    "%%time\n",
    "\n",
    "val = []\n",
    "for i in range(100000):\n",
    "    val.append((\"1111\"+str(i),'Mohan','Mohan', '浙江', '温州'))\n",
    "sql = \"INSERT INTO Persons(Id_P, LastName,FirstName, Address,City) VALUES (%s, %s, %s,  %s, %s)\" \n",
    "val=tuple(val) \n",
    "cursor.executemany(sql,val)\n",
    "db.commit()"
   ]
  },
  {
   "cell_type": "code",
   "execution_count": 69,
   "metadata": {},
   "outputs": [],
   "source": [
    "sql = \"select * from Persons where Id_P='201'\"\n",
    "cursor.execute(sql)\n",
    "db.commit()"
   ]
  },
  {
   "cell_type": "code",
   "execution_count": 57,
   "metadata": {},
   "outputs": [
    {
     "data": {
      "text/plain": [
       "(('1100', 'Mohan', 'Mohan', '浙江', '温州'),\n",
       " ('1100', 'Mohan', 'Mohan', '浙江', '温州'),\n",
       " ('1100', 'Mohan', 'Mohan', '浙江', '温州'),\n",
       " ('1100', 'Mohan', 'Mohan', '浙江', '温州'),\n",
       " ('1100', 'Mohan', 'Mohan', '浙江', '温州'),\n",
       " ('1100', 'Mohan', 'Mohan', '浙江', '温州'),\n",
       " ('1100', 'Mohan', 'Mohan', '浙江', '温州'),\n",
       " ('1100', 'Mohan', 'Mohan', '浙江', '温州'),\n",
       " ('1100', 'Mohan', 'Mohan', '浙江', '温州'),\n",
       " ('1100', 'Mohan', 'Mohan', '浙江', '温州'),\n",
       " ('1100', 'Mohan', 'Mohan', '浙江', '温州'),\n",
       " ('1100', 'Mohan', 'Mohan', '浙江', '温州'),\n",
       " ('1100', 'Mohan', 'Mohan', '浙江', '温州'),\n",
       " ('1100', 'Mohan', 'Mohan', '浙江', '温州'),\n",
       " ('1100', 'Mohan', 'Mohan', '浙江', '温州'),\n",
       " ('1100', 'Mohan', 'Mohan', '浙江', '温州'),\n",
       " ('1100', 'Mohan', 'Mohan', '浙江', '温州'),\n",
       " ('1100', 'Mohan', 'Mohan', '浙江', '温州'),\n",
       " ('1100', 'Mohan', 'Mohan', '浙江', '温州'),\n",
       " ('1100', 'Mohan', 'Mohan', '浙江', '温州'),\n",
       " ('1100', 'Mohan', 'Mohan', '浙江', '温州'),\n",
       " ('1100', 'Mohan', 'Mohan', '浙江', '温州'),\n",
       " ('1100', 'Mohan', 'Mohan', '浙江', '温州'),\n",
       " ('1100', 'Mohan', 'Mohan', '浙江', '温州'),\n",
       " ('1100', 'Mohan', 'Mohan', '浙江', '温州'),\n",
       " ('1100', 'Mohan', 'Mohan', '浙江', '温州'),\n",
       " ('1100', 'Mohan', 'Mohan', '浙江', '温州'),\n",
       " ('1100', 'Mohan', 'Mohan', '浙江', '温州'),\n",
       " ('1100', 'Mohan', 'Mohan', '浙江', '温州'),\n",
       " ('1100', 'Mohan', 'Mohan', '浙江', '温州'),\n",
       " ('1100', 'Mohan', 'Mohan', '浙江', '温州'),\n",
       " ('1100', 'Mohan', 'Mohan', '浙江', '温州'),\n",
       " ('1100', 'Mohan', 'Mohan', '浙江', '温州'),\n",
       " ('1100', 'Mohan', 'Mohan', '浙江', '温州'),\n",
       " ('1100', 'Mohan', 'Mohan', '浙江', '温州'),\n",
       " ('1100', 'Mohan', 'Mohan', '浙江', '温州'),\n",
       " ('1100', 'Mohan', 'Mohan', '浙江', '温州'),\n",
       " ('1100', 'Mohan', 'Mohan', '浙江', '温州'),\n",
       " ('1100', 'Mohan', 'Mohan', '浙江', '温州'),\n",
       " ('1100', 'Mohan', 'Mohan', '浙江', '温州'),\n",
       " ('1100', 'Mohan', 'Mohan', '浙江', '温州'),\n",
       " ('1100', 'Mohan', 'Mohan', '浙江', '温州'),\n",
       " ('1100', 'Mohan', 'Mohan', '浙江', '温州'),\n",
       " ('1100', 'Mohan', 'Mohan', '浙江', '温州'),\n",
       " ('1100', 'Mohan', 'Mohan', '浙江', '温州'),\n",
       " ('1100', 'Mohan', 'Mohan', '浙江', '温州'),\n",
       " ('1100', 'Mohan', 'Mohan', '浙江', '温州'),\n",
       " ('1100', 'Mohan', 'Mohan', '浙江', '温州'),\n",
       " ('1100', 'Mohan', 'Mohan', '浙江', '温州'),\n",
       " ('1100', 'Mohan', 'Mohan', '浙江', '温州'))"
      ]
     },
     "execution_count": 57,
     "metadata": {},
     "output_type": "execute_result"
    }
   ],
   "source": []
  },
  {
   "cell_type": "code",
   "execution_count": null,
   "metadata": {},
   "outputs": [],
   "source": []
  }
 ],
 "metadata": {
  "kernelspec": {
   "display_name": "Python 3",
   "language": "python",
   "name": "python3"
  },
  "language_info": {
   "codemirror_mode": {
    "name": "ipython",
    "version": 3
   },
   "file_extension": ".py",
   "mimetype": "text/x-python",
   "name": "python",
   "nbconvert_exporter": "python",
   "pygments_lexer": "ipython3",
   "version": "3.7.4"
  }
 },
 "nbformat": 4,
 "nbformat_minor": 2
}
