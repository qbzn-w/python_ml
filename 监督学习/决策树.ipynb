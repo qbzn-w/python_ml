{
 "cells": [
  {
   "cell_type": "code",
   "execution_count": 1,
   "metadata": {},
   "outputs": [],
   "source": [
    "import numpy as np\n",
    "import pandas as pd\n",
    "import matplotlib.pyplot as plt\n",
    "%matplotlib inline\n",
    "\n",
    "from sklearn.datasets import load_iris\n",
    "from sklearn.model_selection import train_test_split\n",
    "from collections import Counter\n",
    "import math\n",
    "import numpy as np\n",
    "from math import log\n",
    "import pprint\n",
    "import collections"
   ]
  },
  {
   "cell_type": "code",
   "execution_count": 22,
   "metadata": {},
   "outputs": [],
   "source": [
    "# 书上题目5.1\n",
    "def create_data():\n",
    "    datasets = [['青年', '否', '否', '一般', '否'],\n",
    "               ['青年', '否', '否', '好', '否'],\n",
    "               ['青年', '是', '否', '好', '是'],\n",
    "               ['青年', '是', '是', '一般', '是'],\n",
    "               ['青年', '否', '否', '一般', '否'],\n",
    "               ['中年', '否', '否', '一般', '否'],\n",
    "               ['中年', '否', '否', '好', '否'],\n",
    "               ['中年', '是', '是', '好', '是'],\n",
    "               ['中年', '否', '是', '非常好', '是'],\n",
    "               ['中年', '否', '是', '非常好', '是'],\n",
    "               ['老年', '否', '是', '非常好', '是'],\n",
    "               ['老年', '否', '是', '好', '是'],\n",
    "               ['老年', '是', '否', '好', '是'],\n",
    "               ['老年', '是', '否', '非常好', '是'],\n",
    "               ['老年', '否', '否', '一般', '否'],\n",
    "               ]\n",
    "    labels = [u'年龄', u'有工作', u'有自己的房子', u'信贷情况', u'类别']\n",
    "    # 返回数据集和每个维度的名称\n",
    "    return datasets, labels\n",
    "datasets, labels = create_data()\n",
    "train_data = pd.DataFrame(datasets, columns=labels)\n",
    "train_data\n",
    "datasets=np.array(datasets)"
   ]
  },
  {
   "cell_type": "markdown",
   "metadata": {},
   "source": [
    "特征(年龄) - info_gain - 0.083\n",
    "特征(有工作) - info_gain - 0.324\n",
    "特征(有自己的房子) - info_gain - 0.420\n",
    "特征(信贷情况) - info_gain - 0.363\n",
    "'特征(有自己的房子)的信息增益最大，选择为根节点特征'\n"
   ]
  },
  {
   "cell_type": "code",
   "execution_count": 61,
   "metadata": {},
   "outputs": [
    {
     "name": "stdout",
     "output_type": "stream",
     "text": [
      "特征_年龄信息熵增益_0.08300749985576883\n",
      "特征_有工作信息熵增益_0.32365019815155627\n",
      "特征_有自己的房子信息熵增益_0.4199730940219749\n",
      "特征_信贷情况信息熵增益_0.36298956253708536\n"
     ]
    }
   ],
   "source": [
    "# 熵\n",
    "def calc_ent(datasets):\n",
    "    length = len(datasets)\n",
    "    datasets=np.array(datasets)\n",
    "    \n",
    "    labels=datasets[:,-1]\n",
    "    dicts=dict()\n",
    "    for label in labels:\n",
    "        count =dicts.get(label,0)\n",
    "        count+=1\n",
    "        dicts[label]=count\n",
    "    result=0\n",
    "    for d in dicts:\n",
    "        probability= dicts[d] *1.0 /length\n",
    "        result+=probability*np.log2(probability)\n",
    "    return - result    \n",
    "#条件熵        \n",
    "def conf_ent(datasets,col):\n",
    "    labels=datasets[:,-1]\n",
    "    cols=datasets[:,col]\n",
    "    dicts=dict()\n",
    "    length=len(labels)\n",
    "    for label in cols:\n",
    "        count =dicts.get(label,0)\n",
    "        count+=1\n",
    "        dicts[label]=count\n",
    "    result=0\n",
    "    conf=dict()\n",
    "    for d in dicts:\n",
    "        probability= dicts[d] *1.0 /length\n",
    "        conf[d]=probability\n",
    "    result=0\n",
    "    for c in conf:\n",
    "        result +=calc_ent(datasets[datasets[:,col]==c])*conf[c]\n",
    "    return result\n",
    "# 信息熵增益\n",
    "def info_gian(datasets,col):\n",
    "    ent= calc_ent(datasets)\n",
    "    return ent-conf_ent(datasets,col)\n",
    "def get_gain_train(datasets,labels):\n",
    "    length = datasets.shape[1]-1\n",
    "    for i in range(length):\n",
    "        print(\"特征_\"+labels[i]+\"信息熵增益_\"+str(info_gian(datasets,i)))\n",
    "get_gain_train(datasets,labels)"
   ]
  },
  {
   "cell_type": "code",
   "execution_count": 42,
   "metadata": {},
   "outputs": [
    {
     "data": {
      "text/plain": [
       "array([['青年', '否', '否', '一般', '否'],\n",
       "       ['青年', '否', '否', '好', '否'],\n",
       "       ['青年', '是', '否', '好', '是'],\n",
       "       ['青年', '是', '是', '一般', '是'],\n",
       "       ['青年', '否', '否', '一般', '否']], dtype='<U3')"
      ]
     },
     "execution_count": 42,
     "metadata": {},
     "output_type": "execute_result"
    }
   ],
   "source": [
    "datasets[datasets[:,0]==\"青年\"]"
   ]
  },
  {
   "cell_type": "code",
   "execution_count": 13,
   "metadata": {},
   "outputs": [
    {
     "data": {
      "text/plain": [
       "array([['青年', '否', '否', '一般', '否'],\n",
       "       ['青年', '否', '否', '好', '否'],\n",
       "       ['青年', '是', '否', '好', '是'],\n",
       "       ['青年', '是', '是', '一般', '是'],\n",
       "       ['青年', '否', '否', '一般', '否']], dtype='<U3')"
      ]
     },
     "execution_count": 13,
     "metadata": {},
     "output_type": "execute_result"
    }
   ],
   "source": []
  },
  {
   "cell_type": "code",
   "execution_count": 39,
   "metadata": {},
   "outputs": [
    {
     "name": "stdout",
     "output_type": "stream",
     "text": [
      "6::::15\n",
      "9::::15\n"
     ]
    },
    {
     "data": {
      "text/plain": [
       "0.9709505944546686"
      ]
     },
     "execution_count": 39,
     "metadata": {},
     "output_type": "execute_result"
    }
   ],
   "source": [
    "calc_ent(datasets)"
   ]
  },
  {
   "cell_type": "code",
   "execution_count": 21,
   "metadata": {},
   "outputs": [
    {
     "data": {
      "text/plain": [
       "5"
      ]
     },
     "execution_count": 21,
     "metadata": {},
     "output_type": "execute_result"
    }
   ],
   "source": [
    "\n"
   ]
  },
  {
   "cell_type": "code",
   "execution_count": 25,
   "metadata": {},
   "outputs": [
    {
     "data": {
      "text/plain": [
       "15"
      ]
     },
     "execution_count": 25,
     "metadata": {},
     "output_type": "execute_result"
    }
   ],
   "source": []
  },
  {
   "cell_type": "code",
   "execution_count": null,
   "metadata": {},
   "outputs": [],
   "source": []
  },
  {
   "cell_type": "code",
   "execution_count": null,
   "metadata": {},
   "outputs": [],
   "source": []
  },
  {
   "cell_type": "code",
   "execution_count": null,
   "metadata": {},
   "outputs": [],
   "source": []
  }
 ],
 "metadata": {
  "kernelspec": {
   "display_name": "Python 3",
   "language": "python",
   "name": "python3"
  },
  "language_info": {
   "codemirror_mode": {
    "name": "ipython",
    "version": 3
   },
   "file_extension": ".py",
   "mimetype": "text/x-python",
   "name": "python",
   "nbconvert_exporter": "python",
   "pygments_lexer": "ipython3",
   "version": "3.8.8"
  }
 },
 "nbformat": 4,
 "nbformat_minor": 2
}
