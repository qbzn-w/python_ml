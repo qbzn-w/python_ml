{
 "cells": [
  {
   "cell_type": "code",
   "execution_count": 1,
   "metadata": {},
   "outputs": [],
   "source": [
    "import numpy as np\n",
    "import pandas as pd\n",
    "import matplotlib.pyplot as plt\n",
    "%matplotlib inline\n",
    "\n",
    "from sklearn.datasets import load_iris\n",
    "from sklearn.model_selection import train_test_split\n",
    "from collections import Counter\n",
    "import math\n",
    "import numpy as np\n",
    "from math import log\n",
    "import pprint\n",
    "import collections"
   ]
  },
  {
   "cell_type": "code",
   "execution_count": 2,
   "metadata": {},
   "outputs": [],
   "source": [
    "# 书上题目5.1\n",
    "def create_data():\n",
    "    datasets = [['青年', '否', '否', '一般', '否'],\n",
    "               ['青年', '否', '否', '好', '否'],\n",
    "               ['青年', '是', '否', '好', '是'],\n",
    "               ['青年', '是', '是', '一般', '是'],\n",
    "               ['青年', '否', '否', '一般', '否'],\n",
    "               ['中年', '否', '否', '一般', '否'],\n",
    "               ['中年', '否', '否', '好', '否'],\n",
    "               ['中年', '是', '是', '好', '是'],\n",
    "               ['中年', '否', '是', '非常好', '是'],\n",
    "               ['中年', '否', '是', '非常好', '是'],\n",
    "               ['老年', '否', '是', '非常好', '是'],\n",
    "               ['老年', '否', '是', '好', '是'],\n",
    "               ['老年', '是', '否', '好', '是'],\n",
    "               ['老年', '是', '否', '非常好', '是'],\n",
    "               ['老年', '否', '否', '一般', '否'],\n",
    "               ]\n",
    "    labels = [u'年龄', u'有工作', u'有自己的房子', u'信贷情况', u'类别']\n",
    "    # 返回数据集和每个维度的名称\n",
    "    return datasets, labels\n",
    "datasets, labels = create_data()\n",
    "train_data = pd.DataFrame(datasets, columns=labels)\n",
    "train_data\n",
    "datasets=np.array(datasets)"
   ]
  },
  {
   "cell_type": "markdown",
   "metadata": {},
   "source": [
    "特征(年龄) - info_gain - 0.083\n",
    "特征(有工作) - info_gain - 0.324\n",
    "特征(有自己的房子) - info_gain - 0.420\n",
    "特征(信贷情况) - info_gain - 0.363\n",
    "'特征(有自己的房子)的信息增益最大，选择为根节点特征'\n"
   ]
  },
  {
   "cell_type": "code",
   "execution_count": 5,
   "metadata": {},
   "outputs": [
    {
     "name": "stdout",
     "output_type": "stream",
     "text": [
      "特征_年龄0.08300749985576883\n",
      "特征_有工作0.32365019815155627\n",
      "特征_有自己的房子0.4199730940219749\n",
      "特征_信贷情况0.36298956253708536\n"
     ]
    }
   ],
   "source": [
    "# 熵\n",
    "def calc_ent(datasets):\n",
    "    length = len(datasets)\n",
    "    datasets=np.array(datasets)\n",
    "    \n",
    "    labels=datasets[:,-1]\n",
    "    dicts=dict()\n",
    "    for label in labels:\n",
    "        count =dicts.get(label,0)\n",
    "        count+=1\n",
    "        dicts[label]=count\n",
    "    result=0\n",
    "    for d in dicts:\n",
    "        probability= dicts[d] *1.0 /length\n",
    "        result+=probability*np.log2(probability)\n",
    "    return - result    \n",
    "#条件熵        \n",
    "def conf_ent(datasets,col):\n",
    "    labels=datasets[:,-1]\n",
    "    cols=datasets[:,col]\n",
    "    dicts=dict()\n",
    "    length=len(labels)\n",
    "    for label in cols:\n",
    "        count =dicts.get(label,0)\n",
    "        count+=1\n",
    "        dicts[label]=count\n",
    "    result=0\n",
    "    conf=dict()\n",
    "    for d in dicts:\n",
    "        probability= dicts[d] *1.0 /length\n",
    "        conf[d]=probability\n",
    "    result=0\n",
    "    for c in conf:\n",
    "        result +=calc_ent(datasets[datasets[:,col]==c])*conf[c]\n",
    "    return result\n",
    "# 信息熵增益\n",
    "def info_gian(datasets,col):\n",
    "    ent= calc_ent(datasets)\n",
    "    return ent-conf_ent(datasets,col)\n",
    "def get_gain_train(datasets,labels):\n",
    "    length = datasets.shape[1]-1\n",
    "    for i in range(length):\n",
    "        print(\"特征_\"+labels[i]+str(info_gian(datasets,i)))\n",
    "get_gain_train(datasets,labels)"
   ]
  },
  {
   "cell_type": "code",
   "execution_count": null,
   "metadata": {},
   "outputs": [],
   "source": []
  },
  {
   "cell_type": "code",
   "execution_count": null,
   "metadata": {},
   "outputs": [],
   "source": []
  },
  {
   "cell_type": "code",
   "execution_count": 6,
   "metadata": {},
   "outputs": [
    {
     "ename": "ModuleNotFoundError",
     "evalue": "No module named 'graphviz'",
     "output_type": "error",
     "traceback": [
      "\u001b[0;31m---------------------------------------------------------------------------\u001b[0m",
      "\u001b[0;31mModuleNotFoundError\u001b[0m                       Traceback (most recent call last)",
      "\u001b[0;32m<ipython-input-6-f8cdaf990aee>\u001b[0m in \u001b[0;36m<module>\u001b[0;34m\u001b[0m\n\u001b[1;32m      1\u001b[0m \u001b[0;32mfrom\u001b[0m \u001b[0msklearn\u001b[0m\u001b[0;34m.\u001b[0m\u001b[0mtree\u001b[0m \u001b[0;32mimport\u001b[0m \u001b[0mDecisionTreeClassifier\u001b[0m\u001b[0;34m\u001b[0m\u001b[0;34m\u001b[0m\u001b[0m\n\u001b[1;32m      2\u001b[0m \u001b[0;32mfrom\u001b[0m \u001b[0msklearn\u001b[0m\u001b[0;34m.\u001b[0m\u001b[0mtree\u001b[0m \u001b[0;32mimport\u001b[0m \u001b[0mexport_graphviz\u001b[0m\u001b[0;34m\u001b[0m\u001b[0;34m\u001b[0m\u001b[0m\n\u001b[0;32m----> 3\u001b[0;31m \u001b[0;32mimport\u001b[0m \u001b[0mgraphviz\u001b[0m\u001b[0;34m\u001b[0m\u001b[0;34m\u001b[0m\u001b[0m\n\u001b[0m",
      "\u001b[0;31mModuleNotFoundError\u001b[0m: No module named 'graphviz'"
     ]
    }
   ],
   "source": []
  },
  {
   "cell_type": "code",
   "execution_count": null,
   "metadata": {},
   "outputs": [],
   "source": [
    "\n"
   ]
  },
  {
   "cell_type": "code",
   "execution_count": null,
   "metadata": {},
   "outputs": [],
   "source": []
  },
  {
   "cell_type": "code",
   "execution_count": null,
   "metadata": {},
   "outputs": [],
   "source": []
  },
  {
   "cell_type": "code",
   "execution_count": null,
   "metadata": {},
   "outputs": [],
   "source": []
  },
  {
   "cell_type": "code",
   "execution_count": null,
   "metadata": {},
   "outputs": [],
   "source": []
  }
 ],
 "metadata": {
  "kernelspec": {
   "display_name": "Python 3",
   "language": "python",
   "name": "python3"
  },
  "language_info": {
   "codemirror_mode": {
    "name": "ipython",
    "version": 3
   },
   "file_extension": ".py",
   "mimetype": "text/x-python",
   "name": "python",
   "nbconvert_exporter": "python",
   "pygments_lexer": "ipython3",
   "version": "3.7.4"
  }
 },
 "nbformat": 4,
 "nbformat_minor": 2
}
