{
 "cells": [
  {
   "cell_type": "code",
   "execution_count": 1,
   "id": "5a036f95",
   "metadata": {},
   "outputs": [],
   "source": [
    "# 高斯贝叶斯\n",
    "import numpy as np\n",
    "import operator\n",
    "class GaussianBayes:\n",
    "    def __init__(self):\n",
    "        self.means=None\n",
    "        self.vars=None\n",
    "        self.uniqueY= None\n",
    "        \n",
    "    def fit(self,trainX,trainY):\n",
    "        self.means={}\n",
    "        self.vars={}\n",
    "        self.uniqueY= np.unique(trainY)\n",
    "        for y in self.uniqueY:\n",
    "            X=trainX[trainY==y]\n",
    "           \n",
    "            mean_list=[]\n",
    "            var_list=[]\n",
    "            for i in range(X.shape[1]):\n",
    "                mean_list.append(self.mean(X[:,i]))\n",
    "                var_list.append(self.var(X[:,i]))\n",
    "            self.means[y]=mean_list\n",
    "            self.vars[y]=var_list\n",
    "        \n",
    "#         for i in range(trainX.shape[1]):\n",
    "#             self.means.append(trainX[:,i])\n",
    "#             self.vars.append(trainX[:,i])\n",
    "    # 平均值\n",
    "    def mean(self,x):\n",
    "        return np.mean(x)\n",
    "    # 求方差\n",
    "    def var(self,x):\n",
    "        return np.var(x)\n",
    "    # 预测\n",
    "    def predict(self,trainX):\n",
    "        result=[]\n",
    "        for x in trainX:\n",
    "            result.append(self.singlePredict(x))\n",
    "        return  result       \n",
    "            \n",
    "    def singlePredict(self,x):\n",
    "        result={}\n",
    "        \n",
    "        for type_y in self.uniqueY:\n",
    "            prob=1\n",
    "            mean_list=self.means[type_y]\n",
    "            var_list=self.vars[type_y]\n",
    "            for i in range(len(mean_list)):\n",
    "                prob*=self.prob(mean_list[i],var_list[i],x[i])\n",
    "            result[type_y]=prob    \n",
    "        result =sorted(result.items(),key = operator.itemgetter(1),reverse=True)\n",
    "        return result[0][0]\n",
    "    # 概率密度函数\n",
    "    def prob(self,mean,var,x):\n",
    "        return (1/(np.sqrt(2*np.pi*var))*np.exp(- (x-mean)**2/(2*var)))\n",
    "        \n",
    "    # 求分类分数\n",
    "    def score(self,trainX,trainY):\n",
    "        predictY=self.predict(trainX)\n",
    "        return np.sum(predictY==trainY)/len(trainY)\n",
    "        \n",
    "    \n",
    "    "
   ]
  },
  {
   "cell_type": "code",
   "execution_count": 2,
   "id": "fb56489e",
   "metadata": {},
   "outputs": [
    {
     "data": {
      "text/plain": [
       "0.9736842105263158"
      ]
     },
     "execution_count": 2,
     "metadata": {},
     "output_type": "execute_result"
    }
   ],
   "source": [
    "# 自己写的高斯贝叶斯\n",
    "import numpy as np\n",
    "import sklearn.datasets as datasets\n",
    "from sklearn.model_selection import train_test_split \n",
    "data=datasets.load_iris()\n",
    "trainX,testX,trainY,testY=train_test_split(data.data,data.target)\n",
    "\n",
    "clf=GaussianBayes();\n",
    "clf.fit(trainX,trainY)\n",
    "clf.score(testX,testY)"
   ]
  },
  {
   "cell_type": "code",
   "execution_count": 3,
   "id": "35dd9bd8",
   "metadata": {},
   "outputs": [
    {
     "data": {
      "text/plain": [
       "0.9736842105263158"
      ]
     },
     "execution_count": 3,
     "metadata": {},
     "output_type": "execute_result"
    }
   ],
   "source": [
    "# sklearn 里的高斯贝叶斯\n",
    "from sklearn.naive_bayes import GaussianNB\n",
    "clf = GaussianNB()\n",
    "clf.fit(trainX, trainY)\n",
    "clf.score(testX,testY)"
   ]
  },
  {
   "cell_type": "code",
   "execution_count": null,
   "id": "ac9eb04e",
   "metadata": {},
   "outputs": [],
   "source": []
  },
  {
   "cell_type": "code",
   "execution_count": null,
   "id": "d430fc51",
   "metadata": {},
   "outputs": [],
   "source": []
  },
  {
   "cell_type": "code",
   "execution_count": null,
   "id": "466c5181",
   "metadata": {},
   "outputs": [],
   "source": [
    "\n"
   ]
  },
  {
   "cell_type": "code",
   "execution_count": null,
   "id": "f515ce2d",
   "metadata": {},
   "outputs": [],
   "source": []
  },
  {
   "cell_type": "code",
   "execution_count": null,
   "id": "e5e1912d",
   "metadata": {},
   "outputs": [],
   "source": []
  },
  {
   "cell_type": "code",
   "execution_count": null,
   "id": "fd378f83",
   "metadata": {},
   "outputs": [],
   "source": []
  }
 ],
 "metadata": {
  "kernelspec": {
   "display_name": "Python 3",
   "language": "python",
   "name": "python3"
  },
  "language_info": {
   "codemirror_mode": {
    "name": "ipython",
    "version": 3
   },
   "file_extension": ".py",
   "mimetype": "text/x-python",
   "name": "python",
   "nbconvert_exporter": "python",
   "pygments_lexer": "ipython3",
   "version": "3.8.8"
  }
 },
 "nbformat": 4,
 "nbformat_minor": 5
}
