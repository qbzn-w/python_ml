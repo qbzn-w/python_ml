{
 "cells": [
  {
   "cell_type": "code",
   "execution_count": 27,
   "id": "6f92f898",
   "metadata": {},
   "outputs": [
    {
     "data": {
      "text/plain": [
       "array([['青绿', '蜷缩', '浊响', '清晰', '凹陷', '硬滑', '是'],\n",
       "       ['乌黑', '蜷缩', '沉闷', '清晰', '凹陷', '硬滑', '是'],\n",
       "       ['乌黑', '蜷缩', '浊响', '清晰', '凹陷', '硬滑', '是'],\n",
       "       ['青绿', '蜷缩', '沉闷', '清晰', '凹陷', '硬滑', '是'],\n",
       "       ['浅白', '蜷缩', '浊响', '清晰', '凹陷', '硬滑', '是'],\n",
       "       ['青绿', '稍蜷', '浊响', '清晰', '稍凹', '软粘', '是'],\n",
       "       ['乌黑', '稍蜷', '浊响', '稍糊', '稍凹', '软粘', '是'],\n",
       "       ['乌黑', '稍蜷', '浊响', '清晰', '稍凹', '硬滑', '是'],\n",
       "       ['乌黑', '稍蜷', '沉闷', '稍糊', '稍凹', '硬滑', '否'],\n",
       "       ['青绿', '硬挺', '清脆', '清晰', '平坦', '软粘', '否'],\n",
       "       ['浅白', '硬挺', '清脆', '模糊', '平坦', '硬滑', '否'],\n",
       "       ['浅白', '蜷缩', '浊响', '模糊', '平坦', '软粘', '否'],\n",
       "       ['青绿', '稍蜷', '浊响', '稍糊', '凹陷', '硬滑', '否'],\n",
       "       ['浅白', '稍蜷', '沉闷', '稍糊', '凹陷', '硬滑', '否'],\n",
       "       ['乌黑', '稍蜷', '浊响', '清晰', '稍凹', '软粘', '否'],\n",
       "       ['浅白', '蜷缩', '浊响', '模糊', '平坦', '硬滑', '否'],\n",
       "       ['青绿', '蜷缩', '沉闷', '稍糊', '稍凹', '硬滑', '否']], dtype='<U2')"
      ]
     },
     "execution_count": 27,
     "metadata": {},
     "output_type": "execute_result"
    }
   ],
   "source": [
    "import pandas as pd\n",
    "import numpy as np\n",
    "data = np.array([[\"青绿\", \"蜷缩\", \"浊响\", \"清晰\", \"凹陷\", \"硬滑\", \"是\"],\n",
    "                         [\"乌黑\", \"蜷缩\", \"沉闷\", \"清晰\", \"凹陷\", \"硬滑\", \"是\"],\n",
    "                         [\"乌黑\", \"蜷缩\", \"浊响\", \"清晰\", \"凹陷\", \"硬滑\", \"是\"],\n",
    "                         [\"青绿\", \"蜷缩\", \"沉闷\", \"清晰\", \"凹陷\", \"硬滑\", \"是\"],\n",
    "                         [\"浅白\", \"蜷缩\", \"浊响\", \"清晰\", \"凹陷\", \"硬滑\", \"是\"],\n",
    "                         [\"青绿\", \"稍蜷\", \"浊响\", \"清晰\", \"稍凹\", \"软粘\", \"是\"],\n",
    "                         [\"乌黑\", \"稍蜷\", \"浊响\", \"稍糊\", \"稍凹\", \"软粘\", \"是\"],\n",
    "                         [\"乌黑\", \"稍蜷\", \"浊响\", \"清晰\", \"稍凹\", \"硬滑\", \"是\"],\n",
    "                         [\"乌黑\", \"稍蜷\", \"沉闷\", \"稍糊\", \"稍凹\", \"硬滑\", \"否\"],\n",
    "                         [\"青绿\", \"硬挺\", \"清脆\", \"清晰\", \"平坦\", \"软粘\", \"否\"],\n",
    "                         [\"浅白\", \"硬挺\", \"清脆\", \"模糊\", \"平坦\", \"硬滑\", \"否\"],\n",
    "                         [\"浅白\", \"蜷缩\", \"浊响\", \"模糊\", \"平坦\", \"软粘\", \"否\"],\n",
    "                         [\"青绿\", \"稍蜷\", \"浊响\", \"稍糊\", \"凹陷\", \"硬滑\", \"否\"],\n",
    "                         [\"浅白\", \"稍蜷\", \"沉闷\", \"稍糊\", \"凹陷\", \"硬滑\", \"否\"],\n",
    "                         [\"乌黑\", \"稍蜷\", \"浊响\", \"清晰\", \"稍凹\", \"软粘\", \"否\"],\n",
    "                         [\"浅白\", \"蜷缩\", \"浊响\", \"模糊\", \"平坦\", \"硬滑\", \"否\"],\n",
    "                         [\"青绿\", \"蜷缩\", \"沉闷\", \"稍糊\", \"稍凹\", \"硬滑\", \"否\"]])\n",
    "\n",
    "\n",
    "data"
   ]
  },
  {
   "cell_type": "code",
   "execution_count": 28,
   "id": "e63342ff",
   "metadata": {},
   "outputs": [],
   "source": [
    "trainX=data[:,0:6]\n",
    "trainY=data[:,-1]"
   ]
  },
  {
   "cell_type": "code",
   "execution_count": 29,
   "id": "d9b95c90",
   "metadata": {},
   "outputs": [],
   "source": [
    "from collections import Counter\n",
    "import operator\n",
    "class NaiveBayes:\n",
    "    def __init__(self):\n",
    "        self.py=None\n",
    "        self.cond_prob=None\n",
    "        pass\n",
    "    # 计算py\n",
    "    def cal_py(self,trainY):\n",
    "        self.py={}\n",
    "        self.cond_prob=[]\n",
    "        rowLen=len(trainY)\n",
    "        for key in trainY:\n",
    "            count=self.py.get(key,0)\n",
    "            count+=1\n",
    "            self.py[key]=count\n",
    "        for key in self.py:\n",
    "            self.py[key]=self.py.get(key)/rowLen\n",
    "            print(self.py[key])\n",
    "    #p(x|y)=p(y)p(x|y)/p(x)   ,每个类型的p(x) 相同，所以p(x|y)=p(y)p(x|y)\n",
    "    def fit(self,trainX,trainY):\n",
    "        self.cal_py(trainY)\n",
    "        self.cal_cond_prob(trainX,trainY);\n",
    "        return \"fit success\"\n",
    "    # 计算条件概率p(x|y)\n",
    "    def cal_cond_prob(self,trainX,trainY):\n",
    "#         for x in trainX:\n",
    "#             cal_single_cond_prob(trainX,trainY)\n",
    "        for i in range(trainX.shape[1]):\n",
    "            self.cal_single_cond_prob(trainX[:,i],trainY) \n",
    "        pass\n",
    "    # 计算单个维度的各个属性的概率\n",
    "    def cal_single_cond_prob(self,trainX,trainY):\n",
    "       \n",
    "        uniques=np.unique(trainX)\n",
    "        d=dict()\n",
    "        \n",
    "        for attr in uniques:\n",
    "            for i in range(len(trainX)):\n",
    "                if trainX[i]==attr:\n",
    "                    y=trainY[i]\n",
    "                    key=attr+\"_\"+y\n",
    "                    count=d.get(key,0)\n",
    "                    count+=1\n",
    "                    d[key]=count               \n",
    "        print(d)\n",
    "        c=Counter(trainX)\n",
    "        trainYType=np.unique(trainY)\n",
    "        for attr in c:\n",
    "            attr_value=c[attr]\n",
    "            \n",
    "            for attrY in trainYType:\n",
    "                d_key=str(attr)+\"_\"+str(attrY)\n",
    "                # 拉普拉斯\n",
    "                d[d_key]=(d.get(d_key,0)+1)/(attr_value+1  )\n",
    "        self.cond_prob.append(d)\n",
    "    def singlePredict(self,testX):\n",
    "        uniques=np.unique(trainY)\n",
    "        result={}\n",
    "        for y in  uniques:\n",
    "            prob=0\n",
    "            for i in range(len(testX)):\n",
    "                key=testX[i]+\"_\"+y\n",
    "                prob+=np.log2(self.cond_prob[i].get(key))\n",
    "            prob+=np.log2(self.py[y])\n",
    "            result[y]=prob\n",
    "        result =sorted(result.items(),key = operator.itemgetter(1),reverse=True)\n",
    "        return result[0][0]\n",
    "    def predict(self,testX):\n",
    "        result=[]\n",
    "        for x in testX:\n",
    "            result.append(self.singlePredict(x))\n",
    "        return result\n",
    "    def score(self,trainX,trainY):\n",
    "        predictY=self.predict(trainX)\n",
    "        return np.sum(predictY==trainY)/len(trainY)\n",
    "                 \n",
    "          \n",
    "         \n",
    "        \n",
    "            \n",
    "    "
   ]
  },
  {
   "cell_type": "code",
   "execution_count": 30,
   "id": "0776c37a",
   "metadata": {},
   "outputs": [
    {
     "name": "stdout",
     "output_type": "stream",
     "text": [
      "0.47058823529411764\n",
      "0.5294117647058824\n",
      "{'乌黑_是': 4, '乌黑_否': 2, '浅白_是': 1, '浅白_否': 4, '青绿_是': 3, '青绿_否': 3}\n",
      "{'硬挺_否': 2, '稍蜷_是': 3, '稍蜷_否': 4, '蜷缩_是': 5, '蜷缩_否': 3}\n",
      "{'沉闷_是': 2, '沉闷_否': 3, '浊响_是': 6, '浊响_否': 4, '清脆_否': 2}\n",
      "{'模糊_否': 3, '清晰_是': 7, '清晰_否': 2, '稍糊_是': 1, '稍糊_否': 4}\n",
      "{'凹陷_是': 5, '凹陷_否': 2, '平坦_否': 4, '稍凹_是': 3, '稍凹_否': 3}\n",
      "{'硬滑_是': 6, '硬滑_否': 6, '软粘_是': 2, '软粘_否': 3}\n"
     ]
    },
    {
     "data": {
      "text/plain": [
       "0.8823529411764706"
      ]
     },
     "execution_count": 30,
     "metadata": {},
     "output_type": "execute_result"
    }
   ],
   "source": [
    "clf= NaiveBayes()\n",
    "clf.fit(trainX,trainY)\n",
    "predictY=clf.predict(trainX)\n",
    "clf.score(trainX,trainY)"
   ]
  },
  {
   "cell_type": "code",
   "execution_count": 31,
   "id": "04386e7a",
   "metadata": {},
   "outputs": [
    {
     "name": "stdout",
     "output_type": "stream",
     "text": [
      "----feature_names--- ['x0_乌黑' 'x0_浅白' 'x0_青绿' 'x1_硬挺' 'x1_稍蜷' 'x1_蜷缩' 'x2_沉闷' 'x2_浊响' 'x2_清脆'\n",
      " 'x3_模糊' 'x3_清晰' 'x3_稍糊' 'x4_凹陷' 'x4_平坦' 'x4_稍凹' 'x5_硬滑' 'x5_软粘'] ----\n"
     ]
    },
    {
     "data": {
      "text/plain": [
       "0.8235294117647058"
      ]
     },
     "execution_count": 31,
     "metadata": {},
     "output_type": "execute_result"
    }
   ],
   "source": [
    "# sklearn 里的多项式贝叶斯\n",
    "#one-hot \n",
    "from sklearn.naive_bayes import MultinomialNB\n",
    "from sklearn.preprocessing import OneHotEncoder\n",
    "enc = OneHotEncoder()\n",
    "enc.fit(trainX)\n",
    "\n",
    "\n",
    "train_new = enc.transform(trainX).toarray()\n",
    "\n",
    "print(\"----feature_names---\",enc.get_feature_names(),\"----\")\n",
    "clf = MultinomialNB()\n",
    "clf.fit(train_new, trainY)\n",
    "clf.score(train_new,trainY)"
   ]
  },
  {
   "cell_type": "code",
   "execution_count": null,
   "id": "b957129f",
   "metadata": {},
   "outputs": [],
   "source": []
  },
  {
   "cell_type": "code",
   "execution_count": null,
   "id": "29c66def",
   "metadata": {},
   "outputs": [],
   "source": []
  },
  {
   "cell_type": "code",
   "execution_count": null,
   "id": "91ec47ee",
   "metadata": {},
   "outputs": [],
   "source": []
  },
  {
   "cell_type": "code",
   "execution_count": null,
   "id": "304f95bc",
   "metadata": {},
   "outputs": [],
   "source": [
    "\n"
   ]
  },
  {
   "cell_type": "code",
   "execution_count": null,
   "id": "51c3b6a4",
   "metadata": {},
   "outputs": [],
   "source": []
  }
 ],
 "metadata": {
  "kernelspec": {
   "display_name": "Python 3",
   "language": "python",
   "name": "python3"
  },
  "language_info": {
   "codemirror_mode": {
    "name": "ipython",
    "version": 3
   },
   "file_extension": ".py",
   "mimetype": "text/x-python",
   "name": "python",
   "nbconvert_exporter": "python",
   "pygments_lexer": "ipython3",
   "version": "3.8.8"
  }
 },
 "nbformat": 4,
 "nbformat_minor": 5
}
