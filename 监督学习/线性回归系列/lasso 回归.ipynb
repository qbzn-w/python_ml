{
 "cells": [
  {
   "cell_type": "markdown",
   "metadata": {},
   "source": [
    " 理论来自 https://www.cnblogs.com/zzqingwenn/p/10874522.html"
   ]
  },
  {
   "cell_type": "code",
   "execution_count": 184,
   "metadata": {},
   "outputs": [
    {
     "name": "stdout",
     "output_type": "stream",
     "text": [
      "原始参数：[3, 4, 5, 6, 7, 8, 9]\n",
      "回归参数：[3.0022224267851243, 4.003982844814033, 4.999790289287326, 6.0010168908097254, 7.002295331396681, 7.999518098171848, 9.0638499681736]\n",
      "192726263.4\n",
      "原始参数：[3, 4, 5, 6, 7, 8, 9]\n",
      "回归参数：[3.0022580829619865, 4.004062501118288, 4.999828236348335, 6.001068399464604, 7.00236396824823, 7.999630655116901, 9.043520154423078]\n"
     ]
    }
   ],
   "source": [
    "import numpy as np\n",
    "from sklearn.metrics import r2_score\n",
    "import random\n",
    "import matplotlib.pyplot as plt\n",
    "import numpy as np\n",
    "from numpy import *\n",
    "import itertools\n",
    "def sample_generate(K, n, x_max, noise):\n",
    "    X = [[int(x_max*random.random()) for j in range(len(K)-1)]+[1] for i in range(n)]\n",
    "    Y = [[sum([K[j]*X[i][j] for j in range(len(K))])+int(noise*random.random())] for i in range(n)]\n",
    "    return [X,Y]\n",
    " \n",
    "#L2正则（岭回归）\n",
    "def w_ridge(X,Y):\n",
    "    XTX = np.dot(X.T, X)\n",
    "    c = 1e-5\n",
    "    if np.linalg.det(XTX) == 0:\n",
    "        XTX = XTX + c*np.eye(len*(XTX))\n",
    "    #逆\n",
    "    #w = np.dot(np.linalg.inv(XTX), np.dot(X.T, Y))\n",
    "    #广义逆\n",
    "    w = np.dot(np.linalg.pinv(XTX), np.dot(X.T, Y))\n",
    "    return w\n",
    " \n",
    "def show(K,w):\n",
    "    print(\"原始参数：\"+str(K))\n",
    "    w = w.tolist()\n",
    "    for i in range(len(w)):\n",
    "        w[i] = w[i][0]\n",
    "    print(\"回归参数：\"+str(w))\n",
    " \n",
    "def lost_lasso(X, Y, w, lambd):\n",
    "    return ((Y-X*w).T*(Y-X*w))[0,0] + lambd*sum([abs(w[i,0]) for i in range(w.shape[0])])\n",
    " \n",
    "#L1正则（lasson）   \n",
    "def w_lasson(X, Y, lambd=0.2, threshould=1e-5):\n",
    "    \n",
    "    m,n = X.shape\n",
    "    w = np.matrix(np.ones((n,1)))\n",
    "    lost = lost_lasso(X, Y, w, lambd)\n",
    "    print(lost)\n",
    "    \n",
    "    while True:\n",
    "        for i in range(n):\n",
    "            a = (X[:,i].T*X[:,i])[0,0]\n",
    "            dw = np.matrix(np.zeros((n,1)))\n",
    "            dw[i,0] = w[i,0]\n",
    "            b0 = -2*(X.T*(Y-X*(w-dw)))[i,0]\n",
    "            if b0 <= -lambd:\n",
    "                w[i,0] = (-lambd-b0)/a/2\n",
    "            elif b0 >= lambd:\n",
    "                w[i,0] = (lambd-b0)/a/2\n",
    "            else:\n",
    "                w[i,0] = 0\n",
    "        lost1 = lost_lasso(X, Y, w, lambd)\n",
    "        if abs(lost-lost1) <= threshould:\n",
    "            break\n",
    "        lost = lost1\n",
    "    return w\n",
    "    \n",
    "K = [3,4,5,6,7,8,9]\n",
    "sample =  sample_generate(K, 100, 100, 2)\n",
    "X = np.matrix(sample[0])\n",
    "Y = np.matrix(sample[1])\n",
    "#岭回归\n",
    "w = w_ridge(X,Y)\n",
    "show(K,w)\n",
    "w1 = w_lasson(X, Y)\n",
    "show(K,w1)"
   ]
  },
  {
   "cell_type": "code",
   "execution_count": 181,
   "metadata": {},
   "outputs": [],
   "source": [
    "\n",
    "class Lasso:\n",
    "    def __init__(self,lambd=0.2,max_iter=1000,threshould=1e-5):\n",
    "        self.max_iter=max_iter\n",
    "        self.lambd=lambd\n",
    "        self.threshould=threshould\n",
    "    def fit(self,trainX,trainY):\n",
    "        n=trainX.shape[0]\n",
    "        p=trainX.shape[1]\n",
    "        w=np.ones(p)\n",
    "        print(self.loss_func(trainX,trainY,w))\n",
    "        for iter_ in range(self.max_iter):\n",
    "            for i in range(p):\n",
    "                w_i=w.copy()\n",
    "                w_i[i][0]=0\n",
    "                r_i=np.dot((Y-np.dot(X,w_i)).T,(Y-np.dot(X,w_i)))\n",
    "        pass\n",
    "    # 损失函数\n",
    "    def loss_func(self,X,Y,w):\n",
    "        return (np.dot((Y - np.dot(X,w)).T,(Y - np.dot(X,w)))+np.sum(abs(w))*self.lambd)/len(Y)\n",
    "\n"
   ]
  },
  {
   "cell_type": "code",
   "execution_count": 31,
   "metadata": {},
   "outputs": [],
   "source": [
    "def sample_generate(K, n, x_max, noise):\n",
    "    X = [[int(x_max*random.random()) for j in range(len(K)-1)]+[1] for i in range(n)]\n",
    "    Y = [[sum([K[j]*X[i][j] for j in range(len(K))])+int(noise*random.random())] for i in range(n)]\n",
    "    return [X,Y]"
   ]
  },
  {
   "cell_type": "code",
   "execution_count": 129,
   "metadata": {},
   "outputs": [
    {
     "name": "stdout",
     "output_type": "stream",
     "text": [
      "19390386820.014\n"
     ]
    }
   ],
   "source": [
    "K = [3,4,5,6,7,8,9]\n",
    "sample =  sample_generate(K, 100, 100, 2)\n",
    "X = np.matrix(sample[0])\n",
    "Y = np.matrix(sample[1])\n",
    "lasso= Lasso()\n",
    "lasso.fit(X,Y)"
   ]
  },
  {
   "cell_type": "code",
   "execution_count": 80,
   "metadata": {},
   "outputs": [
    {
     "data": {
      "text/plain": [
       "26.89896139517198"
      ]
     },
     "execution_count": 80,
     "metadata": {},
     "output_type": "execute_result"
    }
   ],
   "source": [
    "from numpy import *\n",
    "np.sum(np.array(((Y-X*w).T*(Y-X*w))))"
   ]
  },
  {
   "cell_type": "code",
   "execution_count": 91,
   "metadata": {},
   "outputs": [
    {
     "data": {
      "text/plain": [
       "68.82376807985838"
      ]
     },
     "execution_count": 91,
     "metadata": {},
     "output_type": "execute_result"
    }
   ],
   "source": [
    "np.sum(((Y-X*w).T*(Y-X*w)))+np.sum(abs(w))"
   ]
  },
  {
   "cell_type": "code",
   "execution_count": 119,
   "metadata": {},
   "outputs": [
    {
     "data": {
      "text/plain": [
       "matrix([[26.45823317]])"
      ]
     },
     "execution_count": 119,
     "metadata": {},
     "output_type": "execute_result"
    }
   ],
   "source": [
    "(np.dot((Y-np.dot(X,w)).T,(Y-np.dot(X,w))))"
   ]
  },
  {
   "cell_type": "code",
   "execution_count": 131,
   "metadata": {},
   "outputs": [
    {
     "data": {
      "text/plain": [
       "matrix([[1263.7109751 ],\n",
       "        [1367.40936722],\n",
       "        [ 903.2842664 ],\n",
       "        [2192.55197591],\n",
       "        [1743.61481187],\n",
       "        [1743.46209254],\n",
       "        [ 868.39793116],\n",
       "        [2379.48821195],\n",
       "        [ 821.51795777],\n",
       "        [1537.72735708],\n",
       "        [1740.52398183],\n",
       "        [1914.75329458],\n",
       "        [2297.54383966],\n",
       "        [1547.34208792],\n",
       "        [1379.64063785],\n",
       "        [ 779.38782495],\n",
       "        [2165.53143757],\n",
       "        [1372.47120584],\n",
       "        [1339.87515447],\n",
       "        [1123.61600759],\n",
       "        [1395.4478434 ],\n",
       "        [1657.44641649],\n",
       "        [1554.44483954],\n",
       "        [1639.85583082],\n",
       "        [2115.64766041],\n",
       "        [1698.62767804],\n",
       "        [1823.5120711 ],\n",
       "        [1800.43135444],\n",
       "        [1775.60937313],\n",
       "        [1404.41256797],\n",
       "        [1887.86428829],\n",
       "        [1915.49661294],\n",
       "        [2075.55700561],\n",
       "        [ 923.47350249],\n",
       "        [1653.31015022],\n",
       "        [1607.59131805],\n",
       "        [1777.21107836],\n",
       "        [1829.56516862],\n",
       "        [1585.41209674],\n",
       "        [1391.45084454],\n",
       "        [1162.58892297],\n",
       "        [1336.48591765],\n",
       "        [1859.70556182],\n",
       "        [2273.61578956],\n",
       "        [2212.58785441],\n",
       "        [1212.44166493],\n",
       "        [1833.33241799],\n",
       "        [2102.51089425],\n",
       "        [2080.34541703],\n",
       "        [1344.43700178],\n",
       "        [2128.74882232],\n",
       "        [1316.62016808],\n",
       "        [1100.40010363],\n",
       "        [2384.79089315],\n",
       "        [1631.41486049],\n",
       "        [1788.54899066],\n",
       "        [1387.60659007],\n",
       "        [1243.39007626],\n",
       "        [1231.34767433],\n",
       "        [1873.78567615],\n",
       "        [1319.45625756],\n",
       "        [1923.63219126],\n",
       "        [2323.81158177],\n",
       "        [1979.53216227],\n",
       "        [1818.72234435],\n",
       "        [1862.72318789],\n",
       "        [1612.68703717],\n",
       "        [1708.7053316 ],\n",
       "        [1214.2070947 ],\n",
       "        [2049.58390596],\n",
       "        [1718.29178499],\n",
       "        [1550.50158292],\n",
       "        [1929.67716969],\n",
       "        [1225.42134018],\n",
       "        [1958.65492776],\n",
       "        [1210.57924416],\n",
       "        [1619.74591114],\n",
       "        [1493.41434226],\n",
       "        [1097.27793989],\n",
       "        [1719.78541781],\n",
       "        [1070.52059339],\n",
       "        [2057.49587625],\n",
       "        [1599.41342522],\n",
       "        [2075.65304885],\n",
       "        [1519.72788877],\n",
       "        [1889.59535083],\n",
       "        [1450.73648404],\n",
       "        [2056.8542503 ],\n",
       "        [1626.61118586],\n",
       "        [2008.84294636],\n",
       "        [1887.74040994],\n",
       "        [1266.28630224],\n",
       "        [1366.62485146],\n",
       "        [1776.76639712],\n",
       "        [ 781.54788413],\n",
       "        [1604.38215681],\n",
       "        [1262.59059951],\n",
       "        [1862.63810014],\n",
       "        [1270.68372294],\n",
       "        [2161.55264215]])"
      ]
     },
     "execution_count": 131,
     "metadata": {},
     "output_type": "execute_result"
    }
   ],
   "source": [
    "np.dot(X,w)"
   ]
  },
  {
   "cell_type": "code",
   "execution_count": 137,
   "metadata": {},
   "outputs": [
    {
     "data": {
      "text/plain": [
       "(1, 100)"
      ]
     },
     "execution_count": 137,
     "metadata": {},
     "output_type": "execute_result"
    }
   ],
   "source": [
    "(Y-np.dot(X,w)).T.shape"
   ]
  },
  {
   "cell_type": "code",
   "execution_count": 169,
   "metadata": {},
   "outputs": [
    {
     "data": {
      "text/plain": [
       "array([[1.],\n",
       "       [1.],\n",
       "       [1.],\n",
       "       [1.],\n",
       "       [1.],\n",
       "       [1.],\n",
       "       [1.]])"
      ]
     },
     "execution_count": 169,
     "metadata": {},
     "output_type": "execute_result"
    }
   ],
   "source": [
    "w=np.ones((X.shape[1],1))\n",
    "w"
   ]
  },
  {
   "cell_type": "code",
   "execution_count": 161,
   "metadata": {},
   "outputs": [
    {
     "data": {
      "text/plain": [
       "matrix([[ 16693706.01158397,  14172853.80889338,  16827899.48643102, ...,\n",
       "          19499585.86447198,  14691820.169955  ,  17210540.98586935],\n",
       "        [ 14172853.80889338,  71223731.45098773,  11135842.94975011, ...,\n",
       "         -49328650.95789723,  59478700.80869605,   2476059.82484345],\n",
       "        [ 16827899.48643102,  11135842.94975011,  17130906.87610178, ...,\n",
       "          23163545.32109192,  12307663.28282852,  17994907.17162037],\n",
       "        ...,\n",
       "        [ 19499585.86447197, -49328650.95789723,  23163545.32109193, ...,\n",
       "          96110091.9479157 , -35159022.30459192,  33611020.07320078],\n",
       "        [ 14691820.169955  ,  59478700.80869605,  12307663.28282852, ...,\n",
       "         -35159022.30459192,  50258452.01998061,   5509438.79966277],\n",
       "        [ 17210540.98586935,   2476059.82484345,  17994907.17162037, ...,\n",
       "          33611020.07320078,   5509438.79966277,  20231461.92040063]])"
      ]
     },
     "execution_count": 161,
     "metadata": {},
     "output_type": "execute_result"
    }
   ],
   "source": [
    "np.dot((Y.T-np.dot(X,w)),(Y.T-np.dot(X,w)).T)"
   ]
  },
  {
   "cell_type": "code",
   "execution_count": 150,
   "metadata": {},
   "outputs": [
    {
     "data": {
      "text/plain": [
       "(1, 100)"
      ]
     },
     "execution_count": 150,
     "metadata": {},
     "output_type": "execute_result"
    }
   ],
   "source": [
    "np.dot(X,w).shape"
   ]
  },
  {
   "cell_type": "code",
   "execution_count": 155,
   "metadata": {},
   "outputs": [
    {
     "data": {
      "text/plain": [
       "-115754669.0"
      ]
     },
     "execution_count": 155,
     "metadata": {},
     "output_type": "execute_result"
    }
   ],
   "source": [
    "1.93078565e+08-308833234.0"
   ]
  },
  {
   "cell_type": "code",
   "execution_count": 189,
   "metadata": {},
   "outputs": [
    {
     "data": {
      "text/plain": [
       "matrix([[0.        ],\n",
       "        [4.00398284],\n",
       "        [4.99979029],\n",
       "        [6.00101689],\n",
       "        [7.00229533],\n",
       "        [7.9995181 ],\n",
       "        [9.06384997]])"
      ]
     },
     "execution_count": 189,
     "metadata": {},
     "output_type": "execute_result"
    }
   ],
   "source": [
    "w[0][0]=0\n",
    "w"
   ]
  },
  {
   "cell_type": "code",
   "execution_count": 180,
   "metadata": {},
   "outputs": [
    {
     "data": {
      "text/plain": [
       "matrix([[1.93246876e+08]])"
      ]
     },
     "execution_count": 180,
     "metadata": {},
     "output_type": "execute_result"
    }
   ],
   "source": []
  },
  {
   "cell_type": "code",
   "execution_count": 185,
   "metadata": {},
   "outputs": [
    {
     "data": {
      "text/plain": [
       "520612.59999999404"
      ]
     },
     "execution_count": 185,
     "metadata": {},
     "output_type": "execute_result"
    }
   ],
   "source": []
  },
  {
   "cell_type": "code",
   "execution_count": null,
   "metadata": {},
   "outputs": [],
   "source": []
  }
 ],
 "metadata": {
  "kernelspec": {
   "display_name": "Python 3",
   "language": "python",
   "name": "python3"
  },
  "language_info": {
   "codemirror_mode": {
    "name": "ipython",
    "version": 3
   },
   "file_extension": ".py",
   "mimetype": "text/x-python",
   "name": "python",
   "nbconvert_exporter": "python",
   "pygments_lexer": "ipython3",
   "version": "3.8.8"
  }
 },
 "nbformat": 4,
 "nbformat_minor": 2
}
