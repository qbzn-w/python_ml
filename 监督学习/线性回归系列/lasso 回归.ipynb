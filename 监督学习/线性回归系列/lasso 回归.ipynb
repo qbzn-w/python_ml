{
 "cells": [
  {
   "cell_type": "markdown",
   "metadata": {},
   "source": [
    " 理论来自 https://www.cnblogs.com/zzqingwenn/p/10874522.html"
   ]
  },
  {
   "cell_type": "code",
   "execution_count": 1,
   "metadata": {},
   "outputs": [
    {
     "name": "stdout",
     "output_type": "stream",
     "text": [
      "原始参数：[3, 4, 5, 6, 7, 8, 9]\n",
      "回归参数：[2.998624370831436, 3.999073505607413, 5.002586943518396, 5.999232615603955, 7.003369025864004, 7.996530745084428, 9.515661684330553]\n",
      "215291414.4\n",
      "原始参数：[3, 4, 5, 6, 7, 8, 9]\n",
      "回归参数：[2.998700976397511, 3.999149077693154, 5.002648857202385, 5.999331820122324, 7.003431796509179, 7.99660632550253, 9.490914959979811]\n"
     ]
    }
   ],
   "source": [
    "import numpy as np\n",
    "from sklearn.metrics import r2_score\n",
    "import random\n",
    "import matplotlib.pyplot as plt\n",
    "import numpy as np\n",
    "from numpy import *\n",
    "import itertools\n",
    "def sample_generate(K, n, x_max, noise):\n",
    "    X = [[int(x_max*random.random()) for j in range(len(K)-1)]+[1] for i in range(n)]\n",
    "    Y = [[sum([K[j]*X[i][j] for j in range(len(K))])+int(noise*random.random())] for i in range(n)]\n",
    "    return [X,Y]\n",
    " \n",
    "#L2正则（岭回归）\n",
    "def w_ridge(X,Y):\n",
    "    XTX = np.dot(X.T, X)\n",
    "    c = 1e-5\n",
    "    if np.linalg.det(XTX) == 0:\n",
    "        XTX = XTX + c*np.eye(len*(XTX))\n",
    "    #逆\n",
    "    #w = np.dot(np.linalg.inv(XTX), np.dot(X.T, Y))\n",
    "    #广义逆\n",
    "    w = np.dot(np.linalg.pinv(XTX), np.dot(X.T, Y))\n",
    "    return w\n",
    " \n",
    "def show(K,w):\n",
    "    print(\"原始参数：\"+str(K))\n",
    "    w = w.tolist()\n",
    "    for i in range(len(w)):\n",
    "        w[i] = w[i][0]\n",
    "    print(\"回归参数：\"+str(w))\n",
    " \n",
    "def lost_lasso(X, Y, w, lambd):\n",
    "    return ((Y-X*w).T*(Y-X*w))[0,0] + lambd*sum([abs(w[i,0]) for i in range(w.shape[0])])\n",
    " \n",
    "#L1正则（lasson）   \n",
    "def w_lasson(X, Y, lambd=0.2, threshould=1e-5):\n",
    "    \n",
    "    m,n = X.shape\n",
    "    w = np.matrix(np.ones((n,1)))\n",
    "    lost = lost_lasso(X, Y, w, lambd)\n",
    "    print(lost)\n",
    "    \n",
    "    while True:\n",
    "        for i in range(n):\n",
    "            a = (X[:,i].T*X[:,i])[0,0]\n",
    "            dw = np.matrix(np.zeros((n,1)))\n",
    "            dw[i,0] = w[i,0]\n",
    "            b0 = -2*(X.T*(Y-X*(w-dw)))[i,0]\n",
    "            if b0 <= -lambd:\n",
    "                w[i,0] = (-lambd-b0)/a/2\n",
    "            elif b0 >= lambd:\n",
    "                w[i,0] = (lambd-b0)/a/2\n",
    "            else:\n",
    "                w[i,0] = 0\n",
    "        lost1 = lost_lasso(X, Y, w, lambd)\n",
    "        if abs(lost-lost1) <= threshould:\n",
    "            break\n",
    "        lost = lost1\n",
    "    return w\n",
    "    \n",
    "K = [3,4,5,6,7,8,9]\n",
    "sample =  sample_generate(K, 100, 100, 2)\n",
    "X = np.matrix(sample[0])\n",
    "Y = np.matrix(sample[1])\n",
    "#岭回归\n",
    "w = w_ridge(X,Y)\n",
    "show(K,w)\n",
    "w1 = w_lasson(X, Y)\n",
    "show(K,w1)"
   ]
  },
  {
   "cell_type": "code",
   "execution_count": 2,
   "metadata": {},
   "outputs": [],
   "source": [
    "\n",
    "class Lasso:\n",
    "    def __init__(self,lambd=0.2,max_iter=1000,threshould=1e-5):\n",
    "        self.max_iter=max_iter\n",
    "        self.lambd=lambd\n",
    "        self.threshould=threshould\n",
    "    def fit(self,trainX,trainY):\n",
    "        n=trainX.shape[0]\n",
    "        p=trainX.shape[1]\n",
    "        w=np.ones(p)\n",
    "        print(self.loss_func(trainX,trainY,w))\n",
    "        for iter_ in range(self.max_iter):\n",
    "            for i in range(p):\n",
    "                w_i=w.copy()\n",
    "                w_i[i][0]=0\n",
    "                r_i=np.dot((Y-np.dot(X,w_i)).T,(Y-np.dot(X,w_i)))\n",
    "        pass\n",
    "    # 损失函数\n",
    "    def loss_func(self,X,Y,w):\n",
    "        return (np.dot((Y - np.dot(X,w)).T,(Y - np.dot(X,w)))+np.sum(abs(w))*self.lambd)/len(Y)\n",
    "\n"
   ]
  },
  {
   "cell_type": "code",
   "execution_count": 3,
   "metadata": {},
   "outputs": [],
   "source": [
    "def sample_generate(K, n, x_max, noise):\n",
    "    X = [[int(x_max*random.random()) for j in range(len(K)-1)]+[1] for i in range(n)]\n",
    "    Y = [[sum([K[j]*X[i][j] for j in range(len(K))])+int(noise*random.random())] for i in range(n)]\n",
    "    return [X,Y]"
   ]
  },
  {
   "cell_type": "code",
   "execution_count": 4,
   "metadata": {},
   "outputs": [
    {
     "name": "stdout",
     "output_type": "stream",
     "text": [
      "[[2042143.044 1897326.904 1946509.744 ... 1829017.404 1939678.794\n",
      "  1712891.254]\n",
      " [1897326.904 1763746.764 1809113.604 ... 1700737.264 1802812.654\n",
      "  1593621.114]\n",
      " [1946509.744 1809113.604 1855776.444 ... 1744304.104 1849295.494\n",
      "  1634127.954]\n",
      " ...\n",
      " [1829017.404 1700737.264 1744304.104 ... 1640227.764 1738253.154\n",
      "  1537361.614]\n",
      " [1939678.794 1802812.654 1849295.494 ... 1738253.154 1842839.544\n",
      "  1628502.004]\n",
      " [1712891.254 1593621.114 1634127.954 ... 1537361.614 1628502.004\n",
      "  1441720.464]]\n"
     ]
    },
    {
     "ename": "TypeError",
     "evalue": "'numpy.float64' object does not support item assignment",
     "output_type": "error",
     "traceback": [
      "\u001b[0;31m---------------------------------------------------------------------------\u001b[0m",
      "\u001b[0;31mTypeError\u001b[0m                                 Traceback (most recent call last)",
      "\u001b[0;32m<ipython-input-4-e871b28a28df>\u001b[0m in \u001b[0;36m<module>\u001b[0;34m\u001b[0m\n\u001b[1;32m      4\u001b[0m \u001b[0mY\u001b[0m \u001b[0;34m=\u001b[0m \u001b[0mnp\u001b[0m\u001b[0;34m.\u001b[0m\u001b[0mmatrix\u001b[0m\u001b[0;34m(\u001b[0m\u001b[0msample\u001b[0m\u001b[0;34m[\u001b[0m\u001b[0;36m1\u001b[0m\u001b[0;34m]\u001b[0m\u001b[0;34m)\u001b[0m\u001b[0;34m\u001b[0m\u001b[0;34m\u001b[0m\u001b[0m\n\u001b[1;32m      5\u001b[0m \u001b[0mlasso\u001b[0m\u001b[0;34m=\u001b[0m \u001b[0mLasso\u001b[0m\u001b[0;34m(\u001b[0m\u001b[0;34m)\u001b[0m\u001b[0;34m\u001b[0m\u001b[0;34m\u001b[0m\u001b[0m\n\u001b[0;32m----> 6\u001b[0;31m \u001b[0mlasso\u001b[0m\u001b[0;34m.\u001b[0m\u001b[0mfit\u001b[0m\u001b[0;34m(\u001b[0m\u001b[0mX\u001b[0m\u001b[0;34m,\u001b[0m\u001b[0mY\u001b[0m\u001b[0;34m)\u001b[0m\u001b[0;34m\u001b[0m\u001b[0;34m\u001b[0m\u001b[0m\n\u001b[0m",
      "\u001b[0;32m<ipython-input-2-d51c3a118799>\u001b[0m in \u001b[0;36mfit\u001b[0;34m(self, trainX, trainY)\u001b[0m\n\u001b[1;32m     12\u001b[0m             \u001b[0;32mfor\u001b[0m \u001b[0mi\u001b[0m \u001b[0;32min\u001b[0m \u001b[0mrange\u001b[0m\u001b[0;34m(\u001b[0m\u001b[0mp\u001b[0m\u001b[0;34m)\u001b[0m\u001b[0;34m:\u001b[0m\u001b[0;34m\u001b[0m\u001b[0;34m\u001b[0m\u001b[0m\n\u001b[1;32m     13\u001b[0m                 \u001b[0mw_i\u001b[0m\u001b[0;34m=\u001b[0m\u001b[0mw\u001b[0m\u001b[0;34m.\u001b[0m\u001b[0mcopy\u001b[0m\u001b[0;34m(\u001b[0m\u001b[0;34m)\u001b[0m\u001b[0;34m\u001b[0m\u001b[0;34m\u001b[0m\u001b[0m\n\u001b[0;32m---> 14\u001b[0;31m                 \u001b[0mw_i\u001b[0m\u001b[0;34m[\u001b[0m\u001b[0mi\u001b[0m\u001b[0;34m]\u001b[0m\u001b[0;34m[\u001b[0m\u001b[0;36m0\u001b[0m\u001b[0;34m]\u001b[0m\u001b[0;34m=\u001b[0m\u001b[0;36m0\u001b[0m\u001b[0;34m\u001b[0m\u001b[0;34m\u001b[0m\u001b[0m\n\u001b[0m\u001b[1;32m     15\u001b[0m                 \u001b[0mr_i\u001b[0m\u001b[0;34m=\u001b[0m\u001b[0mnp\u001b[0m\u001b[0;34m.\u001b[0m\u001b[0mdot\u001b[0m\u001b[0;34m(\u001b[0m\u001b[0;34m(\u001b[0m\u001b[0mY\u001b[0m\u001b[0;34m-\u001b[0m\u001b[0mnp\u001b[0m\u001b[0;34m.\u001b[0m\u001b[0mdot\u001b[0m\u001b[0;34m(\u001b[0m\u001b[0mX\u001b[0m\u001b[0;34m,\u001b[0m\u001b[0mw_i\u001b[0m\u001b[0;34m)\u001b[0m\u001b[0;34m)\u001b[0m\u001b[0;34m.\u001b[0m\u001b[0mT\u001b[0m\u001b[0;34m,\u001b[0m\u001b[0;34m(\u001b[0m\u001b[0mY\u001b[0m\u001b[0;34m-\u001b[0m\u001b[0mnp\u001b[0m\u001b[0;34m.\u001b[0m\u001b[0mdot\u001b[0m\u001b[0;34m(\u001b[0m\u001b[0mX\u001b[0m\u001b[0;34m,\u001b[0m\u001b[0mw_i\u001b[0m\u001b[0;34m)\u001b[0m\u001b[0;34m)\u001b[0m\u001b[0;34m)\u001b[0m\u001b[0;34m\u001b[0m\u001b[0;34m\u001b[0m\u001b[0m\n\u001b[1;32m     16\u001b[0m         \u001b[0;32mpass\u001b[0m\u001b[0;34m\u001b[0m\u001b[0;34m\u001b[0m\u001b[0m\n",
      "\u001b[0;31mTypeError\u001b[0m: 'numpy.float64' object does not support item assignment"
     ]
    }
   ],
   "source": [
    "K = [3,4,5,6,7,8,9]\n",
    "sample =  sample_generate(K, 100, 100, 2)\n",
    "X = np.matrix(sample[0])\n",
    "Y = np.matrix(sample[1])\n",
    "lasso= Lasso()\n",
    "lasso.fit(X,Y)"
   ]
  },
  {
   "cell_type": "code",
   "execution_count": null,
   "metadata": {},
   "outputs": [],
   "source": [
    "from numpy import *\n",
    "np.sum(np.array(((Y-X*w).T*(Y-X*w))))"
   ]
  },
  {
   "cell_type": "code",
   "execution_count": null,
   "metadata": {},
   "outputs": [],
   "source": [
    "np.sum(((Y-X*w).T*(Y-X*w)))+np.sum(abs(w))"
   ]
  },
  {
   "cell_type": "code",
   "execution_count": null,
   "metadata": {},
   "outputs": [],
   "source": [
    "(np.dot((Y-np.dot(X,w)).T,(Y-np.dot(X,w))))"
   ]
  },
  {
   "cell_type": "code",
   "execution_count": null,
   "metadata": {},
   "outputs": [],
   "source": [
    "np.dot(X,w)"
   ]
  },
  {
   "cell_type": "code",
   "execution_count": null,
   "metadata": {},
   "outputs": [],
   "source": [
    "(Y-np.dot(X,w)).T.shape"
   ]
  },
  {
   "cell_type": "code",
   "execution_count": null,
   "metadata": {},
   "outputs": [],
   "source": [
    "w=np.ones((X.shape[1],1))\n",
    "w"
   ]
  },
  {
   "cell_type": "code",
   "execution_count": null,
   "metadata": {},
   "outputs": [],
   "source": [
    "np.dot((Y.T-np.dot(X,w)),(Y.T-np.dot(X,w)).T)"
   ]
  },
  {
   "cell_type": "code",
   "execution_count": null,
   "metadata": {},
   "outputs": [],
   "source": [
    "np.dot(X,w).shape"
   ]
  },
  {
   "cell_type": "code",
   "execution_count": null,
   "metadata": {},
   "outputs": [],
   "source": [
    "1.93078565e+08-308833234.0"
   ]
  },
  {
   "cell_type": "code",
   "execution_count": null,
   "metadata": {},
   "outputs": [],
   "source": []
  },
  {
   "cell_type": "code",
   "execution_count": null,
   "metadata": {},
   "outputs": [],
   "source": []
  },
  {
   "cell_type": "code",
   "execution_count": null,
   "metadata": {},
   "outputs": [],
   "source": []
  },
  {
   "cell_type": "code",
   "execution_count": null,
   "metadata": {},
   "outputs": [],
   "source": []
  }
 ],
 "metadata": {
  "kernelspec": {
   "display_name": "Python 3",
   "language": "python",
   "name": "python3"
  },
  "language_info": {
   "codemirror_mode": {
    "name": "ipython",
    "version": 3
   },
   "file_extension": ".py",
   "mimetype": "text/x-python",
   "name": "python",
   "nbconvert_exporter": "python",
   "pygments_lexer": "ipython3",
   "version": "3.7.4"
  }
 },
 "nbformat": 4,
 "nbformat_minor": 2
}
