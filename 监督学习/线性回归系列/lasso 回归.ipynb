{
 "cells": [
  {
   "cell_type": "markdown",
   "metadata": {},
   "source": [
    " 理论来自 https://www.cnblogs.com/zzqingwenn/p/10874522.html"
   ]
  },
  {
   "cell_type": "code",
   "execution_count": 1,
   "metadata": {},
   "outputs": [],
   "source": [
    "import numpy as np\n",
    "import random\n",
    "class Lasso:\n",
    "    def __init__(self,lambd=1,max_iter=1000,threshould=1e-30):\n",
    "        self.max_iter=max_iter\n",
    "        self.lambd=lambd\n",
    "        self.threshould=threshould\n",
    "    def fit(self,trainX,trainY):\n",
    "        n=trainX.shape[0]\n",
    "        p=trainX.shape[1]\n",
    "        w=np.ones((p,1))\n",
    "        lost=self.loss_func(trainX,trainY,w)\n",
    "        print(lost)\n",
    "        for iter_ in range(self.max_iter):\n",
    "            for i in range(p):\n",
    "                w_i=w.copy()\n",
    "                w_i[i][0]=0\n",
    "                r_i=(Y-np.dot(X,w_i)).T\n",
    "                x_i=trainX[:,i]\n",
    "                b=-2*r_i.dot(x_i)\n",
    "                x_dot_x=x_i.T.dot(x_i)\n",
    "                if b <=self.lambd:\n",
    "                    w_i[i][0]= (-self.lambd-b)/x_dot_x/2\n",
    "                elif b >= self.lambd:\n",
    "                    w_i[i][0] = (self.lambd-b)/x_dot_x/2\n",
    "                else:\n",
    "                    w_i[i][0] = 0\n",
    "                w=w_i.copy()   \n",
    "            lost1 = self.loss_func(trainX, trainY, w)\n",
    "            if abs(lost-lost1) <= self.threshould:\n",
    "                break\n",
    "            lost = lost1\n",
    "        w=w.flatten()    \n",
    "        print(w)           \n",
    "    # 损失函数\n",
    "    def loss_func(self,X,Y,w):\n",
    "        return (np.dot((Y - np.dot(X,w)).T,(Y - np.dot(X,w)))+np.sum(abs(w))*self.lambd)"
   ]
  },
  {
   "cell_type": "code",
   "execution_count": 2,
   "metadata": {},
   "outputs": [],
   "source": [
    "def sample_generate(K, n, x_max, noise):\n",
    "    X = [[int(x_max*random.random()) for j in range(len(K)-1)]+[1] for i in range(n)]\n",
    "    Y = [[sum([K[j]*X[i][j] for j in range(len(K))])+int(noise*random.random())] for i in range(n)]\n",
    "    return [X,Y]\n"
   ]
  },
  {
   "cell_type": "code",
   "execution_count": 3,
   "metadata": {},
   "outputs": [
    {
     "name": "stdout",
     "output_type": "stream",
     "text": [
      "[[3.33469894e+08]]\n",
      "[3.00094055 4.00153587 5.00185378 6.0007312  7.00314308 7.99998257\n",
      " 9.00062909 0.03406475]\n"
     ]
    }
   ],
   "source": [
    "K = [3,4,5,6,7,8,9,0]\n",
    "sample =  sample_generate(K, 100, 100, 2)\n",
    "X = np.matrix(sample[0])\n",
    "Y = np.matrix(sample[1])\n",
    "lasso= Lasso()\n",
    "lasso.fit(X,Y)"
   ]
  },
  {
   "cell_type": "code",
   "execution_count": 4,
   "metadata": {},
   "outputs": [
    {
     "data": {
      "text/plain": [
       "array([2.99721578, 3.99759288, 4.99779725, 5.99649187, 7.00157498,\n",
       "       7.99620512, 8.99761941, 0.        ])"
      ]
     },
     "execution_count": 4,
     "metadata": {},
     "output_type": "execute_result"
    }
   ],
   "source": [
    "from sklearn import linear_model\n",
    "reg=linear_model.Lasso(alpha=2)\n",
    "reg.fit(X,Y )\n",
    "reg.coef_"
   ]
  },
  {
   "cell_type": "code",
   "execution_count": null,
   "metadata": {},
   "outputs": [],
   "source": [
    "\n"
   ]
  },
  {
   "cell_type": "code",
   "execution_count": null,
   "metadata": {},
   "outputs": [],
   "source": []
  },
  {
   "cell_type": "code",
   "execution_count": null,
   "metadata": {},
   "outputs": [],
   "source": []
  },
  {
   "cell_type": "code",
   "execution_count": null,
   "metadata": {},
   "outputs": [],
   "source": []
  },
  {
   "cell_type": "code",
   "execution_count": null,
   "metadata": {},
   "outputs": [],
   "source": []
  },
  {
   "cell_type": "code",
   "execution_count": null,
   "metadata": {},
   "outputs": [],
   "source": []
  },
  {
   "cell_type": "code",
   "execution_count": null,
   "metadata": {},
   "outputs": [],
   "source": []
  },
  {
   "cell_type": "code",
   "execution_count": null,
   "metadata": {},
   "outputs": [],
   "source": []
  },
  {
   "cell_type": "code",
   "execution_count": null,
   "metadata": {},
   "outputs": [],
   "source": []
  },
  {
   "cell_type": "code",
   "execution_count": null,
   "metadata": {},
   "outputs": [],
   "source": []
  },
  {
   "cell_type": "code",
   "execution_count": null,
   "metadata": {},
   "outputs": [],
   "source": []
  },
  {
   "cell_type": "code",
   "execution_count": null,
   "metadata": {},
   "outputs": [],
   "source": []
  },
  {
   "cell_type": "code",
   "execution_count": null,
   "metadata": {},
   "outputs": [],
   "source": []
  }
 ],
 "metadata": {
  "kernelspec": {
   "display_name": "Python 3",
   "language": "python",
   "name": "python3"
  },
  "language_info": {
   "codemirror_mode": {
    "name": "ipython",
    "version": 3
   },
   "file_extension": ".py",
   "mimetype": "text/x-python",
   "name": "python",
   "nbconvert_exporter": "python",
   "pygments_lexer": "ipython3",
   "version": "3.8.8"
  }
 },
 "nbformat": 4,
 "nbformat_minor": 2
}
