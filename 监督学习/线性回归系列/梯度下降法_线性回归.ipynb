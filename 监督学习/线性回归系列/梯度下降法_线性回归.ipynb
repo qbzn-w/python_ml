{
 "cells": [
  {
   "cell_type": "code",
   "execution_count": 3,
   "id": "720acf59",
   "metadata": {},
   "outputs": [
    {
     "data": {
      "image/png": "[encoded data removed]",
      "text/plain": [
       "<Figure size 432x288 with 1 Axes>"
      ]
     },
     "metadata": {
      "needs_background": "light"
     },
     "output_type": "display_data"
    }
   ],
   "source": [
    "import numpy as np\n",
    "import matplotlib.pyplot as plt\n",
    "np.random.seed(666)\n",
    "x = 2 * np.random.random(size=100)\n",
    "y = x * 3. + 4. + np.random.normal(size=100)\n",
    "X = x.reshape(-1, 1)\n",
    "plt.scatter(x, y)\n",
    "plt.show()"
   ]
  },
  {
   "cell_type": "code",
   "execution_count": 65,
   "id": "42a3cb06",
   "metadata": {},
   "outputs": [],
   "source": [
    "import numpy as np\n",
    "# 批量梯度下降法解线性回归\n",
    "class LinearReg:\n",
    "    def __init__(self,max_iter=10000,min_error=1e-8,eta=1e-2):\n",
    "        self.coef=None\n",
    "        self.intercept=None\n",
    "        self.theta=None\n",
    "        self.max_iter=max_iter\n",
    "        self.min_error=min_error\n",
    "        self.eta=eta\n",
    "    def fit(self,trainX,trainY):\n",
    "        trainX=np.hstack((np.ones((len(trainX),1)),trainX))\n",
    "        self.theta=np.ones((trainX.shape[1]))\n",
    "        loss_value=self.loss_function(self.theta,trainX,trainY)\n",
    "        # 循环获取当前梯度的值，通过当前梯度多值求下一次theta，当前theta和下一次theta的损失函数的值小于指定的min_error，停止循环\n",
    "        for i in range(self.max_iter):\n",
    "            gradient=self.d_loss_function(self.theta,trainX,trainY)\n",
    "            last_theta = self.theta\n",
    "            self.theta=self.theta-gradient*self.eta\n",
    "            if np.absolute(self.loss_function(self.theta,trainX,trainY)- self.loss_function(last_theta,trainX,trainY))<self.min_error:\n",
    "                break\n",
    "        self.intercept=self.theta[0]\n",
    "        self.coef=self.theta[1:]\n",
    "    # 损失函数 \n",
    "    def loss_function(self,theta,X,y):\n",
    "        return (X.dot(theta)-y).T.dot((X.dot(theta)-y))*2.0/len(y)\n",
    "     \n",
    "    # 损失函数的梯度                                      \n",
    "    def d_loss_function(self,theta,X,y):        \n",
    "        return X.T.dot(X.dot(theta)-y) *1.0/len(y)\n",
    "        def predict(self,testX):\n",
    "        X_b = np.hstack([np.ones((len(testX), 1)), testX])\n",
    "        return np.dot(self.theta,X_b.T)\n",
    "         "
   ]
  },
  {
   "cell_type": "code",
   "execution_count": 74,
   "id": "d1371bf4",
   "metadata": {},
   "outputs": [
    {
     "name": "stdout",
     "output_type": "stream",
     "text": [
      "[3.00706818]\n",
      "4.021451446472803\n"
     ]
    },
    {
     "data": {
      "image/png": "[encoded data removed]",
      "text/plain": [
       "<Figure size 432x288 with 1 Axes>"
      ]
     },
     "metadata": {
      "needs_background": "light"
     },
     "output_type": "display_data"
    }
   ],
   "source": [
    "lr=LinearReg()\n",
    "lr.fit(X ,y)\n",
    "print(lr.coef)\n",
    "print(lr.intercept)\n",
    "plt.scatter(X[:,0], y)\n",
    "plt.plot(X[:,0],np.hstack((np.ones((len(X),1)),X)).dot(lr.theta),c='r')\n",
    "plt.show()"
   ]
  },
  {
   "cell_type": "code",
   "execution_count": 47,
   "id": "764c9985",
   "metadata": {},
   "outputs": [
    {
     "name": "stdout",
     "output_type": "stream",
     "text": [
      "[3.00517447]\n",
      "4.0236966721039\n"
     ]
    }
   ],
   "source": [
    "# sklean 线性回归\n",
    "from sklearn.linear_model import LinearRegression\n",
    "l=LinearRegression();\n",
    "l.fit(X ,y)\n",
    "print(l.coef_)\n",
    "print(l.intercept_)\n"
   ]
  },
  {
   "cell_type": "code",
   "execution_count": null,
   "id": "d4f70e45",
   "metadata": {},
   "outputs": [],
   "source": []
  },
  {
   "cell_type": "code",
   "execution_count": null,
   "id": "678b13d5",
   "metadata": {},
   "outputs": [],
   "source": []
  }
 ],
 "metadata": {
  "kernelspec": {
   "display_name": "Python 3",
   "language": "python",
   "name": "python3"
  },
  "language_info": {
   "codemirror_mode": {
    "name": "ipython",
    "version": 3
   },
   "file_extension": ".py",
   "mimetype": "text/x-python",
   "name": "python",
   "nbconvert_exporter": "python",
   "pygments_lexer": "ipython3",
   "version": "3.8.8"
  }
 },
 "nbformat": 4,
 "nbformat_minor": 5
}
