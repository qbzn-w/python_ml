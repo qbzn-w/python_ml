{
 "cells": [
  {
   "cell_type": "code",
   "execution_count": 3,
   "metadata": {},
   "outputs": [
    {
     "data": {
      "image/png": "[encoded data removed]",
      "text/plain": [
       "<Figure size 432x288 with 1 Axes>"
      ]
     },
     "metadata": {
      "needs_background": "light"
     },
     "output_type": "display_data"
    }
   ],
   "source": [
    "import numpy as np\n",
    "import matplotlib.pyplot as plt\n",
    "np.random.seed(666)\n",
    "x = 2 * np.random.random(size=100)\n",
    "y = x * 3. + 4. + np.random.normal(size=100)\n",
    "X = x.reshape(-1, 1)\n",
    "plt.scatter(x, y)\n",
    "plt.show()"
   ]
  },
  {
   "cell_type": "code",
   "execution_count": 65,
   "metadata": {},
   "outputs": [],
   "source": [
    "import numpy as np\n",
    "# 批量梯度下降法解线性回归\n",
    "class LinearReg:\n",
    "    def __init__(self,max_iter=10000,min_error=1e-8,eta=1e-2):\n",
    "        self.coef=None\n",
    "        self.intercept=None\n",
    "        self.theta=None\n",
    "        self.max_iter=max_iter\n",
    "        self.min_error=min_error\n",
    "        self.eta=eta\n",
    "    def fit(self,trainX,trainY):\n",
    "        trainX=np.hstack((np.ones((len(trainX),1)),trainX))\n",
    "        self.theta=np.ones((trainX.shape[1]))\n",
    "        loss_value=self.loss_function(self.theta,trainX,trainY)\n",
    "        # 循环获取当前梯度的值，通过当前梯度多值求下一次theta，当前theta和下一次theta的损失函数的值小于指定的min_error，停止循环\n",
    "        for i in range(self.max_iter):\n",
    "            gradient=self.d_loss_function(self.theta,trainX,trainY)\n",
    "            last_theta = self.theta\n",
    "            self.theta=self.theta-gradient*self.eta\n",
    "            if np.absolute(self.loss_function(self.theta,trainX,trainY)- self.loss_function(last_theta,trainX,trainY))<self.min_error:\n",
    "                break\n",
    "        self.intercept=self.theta[0]\n",
    "        self.coef=self.theta[1:]\n",
    "    # 损失函数 \n",
    "    def loss_function(self,theta,X,y):\n",
    "        return (X.dot(theta)-y).T.dot((X.dot(theta)-y))*2.0/len(y)\n",
    "     \n",
    "    # 损失函数的梯度                                      \n",
    "    def d_loss_function(self,theta,X,y):        \n",
    "        return X.T.dot(X.dot(theta)-y) *1.0/len(y)\n",
    "         "
   ]
  },
  {
   "cell_type": "code",
   "execution_count": 73,
   "metadata": {},
   "outputs": [
    {
     "name": "stdout",
     "output_type": "stream",
     "text": [
      "[3.00706818]\n",
      "4.021451446472803\n"
     ]
    },
    {
     "data": {
      "image/png": "[encoded data removed]",
      "text/plain": [
       "<Figure size 432x288 with 1 Axes>"
      ]
     },
     "metadata": {
      "needs_background": "light"
     },
     "output_type": "display_data"
    }
   ],
   "source": [
    "lr=LinearReg()\n",
    "lr.fit(X ,y)\n",
    "print(lr.coef)\n",
    "print(lr.intercept)\n",
    "plt.plot(X[:,0],np.hstack((np.ones((len(X),1)),X)).dot(lr.theta))\n",
    "plt.show()"
   ]
  },
  {
   "cell_type": "code",
   "execution_count": 47,
   "metadata": {},
   "outputs": [
    {
     "name": "stdout",
     "output_type": "stream",
     "text": [
      "[3.00517447]\n",
      "4.0236966721039\n"
     ]
    }
   ],
   "source": [
    "# sklean 线性回归\n",
    "from sklearn.linear_model import LinearRegression\n",
    "l=LinearRegression();\n",
    "l.fit(X ,y)\n",
    "print(l.coef_)\n",
    "print(l.intercept_)\n"
   ]
  },
  {
   "cell_type": "code",
   "execution_count": 72,
   "metadata": {},
   "outputs": [
    {
     "data": {
      "text/plain": [
       "array([1.40087424, 1.68837329, 1.35302867, 1.45571611, 1.90291591,\n",
       "       0.02540639, 0.8271754 , 0.09762559, 0.19985712, 1.01613261,\n",
       "       0.40049508, 1.48830834, 0.38578401, 1.4016895 , 0.58645621,\n",
       "       1.54895891, 0.01021768, 0.22571531, 0.22190734, 0.49533646,\n",
       "       0.0464726 , 1.45464231, 0.68006988, 0.39500631, 1.81835919,\n",
       "       1.95669397, 1.06560509, 0.5182637 , 1.16762524, 0.65138131,\n",
       "       1.77779863, 1.25280905, 1.63774738, 1.09469084, 0.83342401,\n",
       "       1.48609438, 0.73919276, 0.15033309, 1.55038596, 0.43881849,\n",
       "       0.15868425, 0.97356104, 0.3073478 , 1.65693027, 0.38273714,\n",
       "       0.54081791, 1.12206884, 1.80476078, 1.70357668, 0.83616392,\n",
       "       0.78695254, 0.03244103, 0.59842674, 0.70755644, 1.78700533,\n",
       "       1.57227314, 1.54277385, 0.84010971, 1.55205028, 0.92861629,\n",
       "       0.36354033, 1.76805121, 1.43758454, 1.3437626 , 0.51312727,\n",
       "       0.86160364, 0.03290715, 0.46998765, 1.02234262, 0.58401848,\n",
       "       1.00378702, 0.99654626, 0.20754305, 0.89288623, 1.93837834,\n",
       "       1.47694224, 1.43910122, 1.78608677, 1.92534936, 0.39410046,\n",
       "       1.42917993, 0.32384788, 1.73250954, 1.24764049, 1.91891025,\n",
       "       1.04828408, 0.07286576, 1.45374316, 0.00781969, 0.100588  ,\n",
       "       1.98398463, 0.424515  , 1.89474133, 0.9030811 , 1.99758935,\n",
       "       1.29500298, 1.40448142, 0.85916353, 0.33554952, 0.23626619])"
      ]
     },
     "execution_count": 72,
     "metadata": {},
     "output_type": "execute_result"
    }
   ],
   "source": [
    "X[:,0]"
   ]
  },
  {
   "cell_type": "code",
   "execution_count": null,
   "metadata": {},
   "outputs": [],
   "source": []
  }
 ],
 "metadata": {
  "kernelspec": {
   "display_name": "Python 3",
   "language": "python",
   "name": "python3"
  },
  "language_info": {
   "codemirror_mode": {
    "name": "ipython",
    "version": 3
   },
   "file_extension": ".py",
   "mimetype": "text/x-python",
   "name": "python",
   "nbconvert_exporter": "python",
   "pygments_lexer": "ipython3",
   "version": "3.7.4"
  }
 },
 "nbformat": 4,
 "nbformat_minor": 5
}
