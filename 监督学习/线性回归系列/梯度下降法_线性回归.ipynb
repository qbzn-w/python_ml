{
 "cells": [
  {
   "cell_type": "code",
   "execution_count": 3,
   "id": "2260d7dd",
   "metadata": {},
   "outputs": [
    {
     "name": "stdout",
     "output_type": "stream",
     "text": [
      "[[5.6600e-02 0.0000e+00 3.4100e+00 ... 1.7800e+01 3.9690e+02 5.5000e+00]\n",
      " [2.1038e-01 2.0000e+01 3.3300e+00 ... 1.4900e+01 3.9690e+02 4.8500e+00]\n",
      " [2.5387e-01 0.0000e+00 6.9100e+00 ... 1.7900e+01 3.9690e+02 3.0810e+01]\n",
      " ...\n",
      " [6.7191e-01 0.0000e+00 8.1400e+00 ... 2.1000e+01 3.7688e+02 1.4810e+01]\n",
      " [2.8990e-02 4.0000e+01 1.2500e+00 ... 1.9700e+01 3.8985e+02 5.8900e+00]\n",
      " [3.6150e-02 8.0000e+01 4.9500e+00 ... 1.9200e+01 3.9690e+02 4.7000e+00]]\n"
     ]
    }
   ],
   "source": [
    "import numpy as np\n",
    "\n",
    "import matplotlib.pyplot as plt\n",
    "from sklearn import datasets\n",
    "boston = datasets.load_boston()\n",
    "\n",
    "X = boston.data\n",
    "y = boston.target\n",
    "\n",
    "X = X[y < 50.0]\n",
    "y = y[y < 50.0]\n",
    "X.shape\n",
    "\n",
    "\n",
    "trainX, testX, trainY, testY = train_test_split(X, y)\n",
    "print(trainX)"
   ]
  },
  {
   "cell_type": "code",
   "execution_count": 12,
   "id": "19a774f5",
   "metadata": {},
   "outputs": [],
   "source": [
    "import numpy as np\n",
    "class LinearReg:\n",
    "    def __init__(self,max_iter=100):\n",
    "        self.coef=None\n",
    "        self.intercept=None\n",
    "        self.theta=None\n",
    "        self.max_iter=max_iter\n",
    "    def fit(self,trainX,trainY):\n",
    "        X_b=np.hstack((np.ones((len(trainX),1)),trainX))\n",
    "        self.theta=np.zeros((X_b.shape[1]))\n",
    "        for i in range(self.max_iter):\n",
    "            pass\n",
    "        print(self.theta)\n",
    "        pass\n",
    "    def predict(self,testX):\n",
    "        pass\n",
    "    "
   ]
  },
  {
   "cell_type": "code",
   "execution_count": 13,
   "id": "532f8269",
   "metadata": {},
   "outputs": [
    {
     "name": "stdout",
     "output_type": "stream",
     "text": [
      "[0. 0. 0. 0. 0. 0. 0. 0. 0. 0. 0. 0. 0. 0.]\n"
     ]
    }
   ],
   "source": [
    "lr=LinearReg()\n",
    "lr.fit(trainX,trainY)"
   ]
  },
  {
   "cell_type": "code",
   "execution_count": 7,
   "id": "236a295c",
   "metadata": {},
   "outputs": [
    {
     "name": "stdout",
     "output_type": "stream",
     "text": [
      "[-1.20434656e-01  3.95278299e-02 -2.17215703e-02  4.78452628e-01\n",
      " -1.34647468e+01  3.38188799e+00 -2.63055613e-02 -1.31410993e+00\n",
      "  2.85958387e-01 -1.51849414e-02 -9.27674419e-01  7.72394171e-03\n",
      " -3.54183986e-01]\n",
      "37.53034800866911\n"
     ]
    },
    {
     "data": {
      "text/plain": [
       "array([13.54623616, 23.95708212, 23.54812498, 31.57350337, 20.95120759,\n",
       "       12.51369292, 18.93266946, 33.15754219, 17.33193563, 22.37362818,\n",
       "       20.81757993, 28.50858201, 25.03608429, 14.42746993, 19.42265773,\n",
       "       33.05675133, 23.95521531, 34.62044392, 28.67702129, 23.00018731,\n",
       "       35.96732687, 20.69547057, 26.73803508, 31.36764328, 31.94599376,\n",
       "       18.90216608, 13.33788312, 35.65500335, 29.90709706, 16.41698852,\n",
       "       28.61094685, 10.89032506, 22.20793729, 23.03234264, 14.64439524,\n",
       "       21.73289762, 22.48545206, 27.38571594, 24.84678264, 19.3855551 ,\n",
       "       21.81109421, 23.06119805, 30.16250116, 26.5013037 , 25.8821606 ,\n",
       "       15.06737035,  7.98435731, 25.58870226, 21.64003233, 27.89410761,\n",
       "       20.39858206, 26.33729058, 23.3463114 , 26.00485109, 16.5305228 ,\n",
       "       15.44207748, 16.2370134 , 30.87764458, 17.6107402 , 17.72778634,\n",
       "       32.23914874, 24.4361423 , 17.32339595, 15.91330305, 23.82577199,\n",
       "       14.79884038, 30.3858727 , 18.74857536, 12.83996226, 35.31255285,\n",
       "       25.77095047, 16.7679979 , 17.69519607, 16.80816661, 21.38765207,\n",
       "       25.10796289, 19.48161766,  7.29623236, 24.38204129, 28.99255185,\n",
       "       15.5615076 , 20.0303205 , 18.35904736, 23.58402788, 23.49130911,\n",
       "       21.45303294, 28.30915208, 22.63553592, 23.23108389, 27.4031581 ,\n",
       "       26.75620785, 16.99562942,  7.00804702, 24.91961528, 21.42327203,\n",
       "       30.56231233, 22.4778071 , 17.60523037, 23.03809717, 28.66293398,\n",
       "       33.40041818, 24.80108506, 19.35782056, 27.93759702, 11.55400619,\n",
       "       24.88571995, 13.18681852, 19.00938351, 29.65878019, 31.25199364,\n",
       "       29.21419442, 28.04632054, 17.91326921,  7.28256453, 13.29615545,\n",
       "       28.60715503, 24.57198192, 18.56286426, 22.92187876, 12.39220818,\n",
       "        5.11969866, 25.08475985, 22.64909071])"
      ]
     },
     "execution_count": 7,
     "metadata": {},
     "output_type": "execute_result"
    }
   ],
   "source": [
    "# sklean 线性回归\n",
    "from sklearn.linear_model import LinearRegression\n",
    "l=LinearRegression();\n",
    "l.fit(trainX,trainY)\n",
    "print(l.coef_)\n",
    "print(l.intercept_)\n",
    "l.predict(testX)"
   ]
  },
  {
   "cell_type": "code",
   "execution_count": null,
   "id": "5aed5d86",
   "metadata": {},
   "outputs": [],
   "source": []
  }
 ],
 "metadata": {
  "kernelspec": {
   "display_name": "Python 3",
   "language": "python",
   "name": "python3"
  },
  "language_info": {
   "codemirror_mode": {
    "name": "ipython",
    "version": 3
   },
   "file_extension": ".py",
   "mimetype": "text/x-python",
   "name": "python",
   "nbconvert_exporter": "python",
   "pygments_lexer": "ipython3",
   "version": "3.8.8"
  }
 },
 "nbformat": 4,
 "nbformat_minor": 5
}
