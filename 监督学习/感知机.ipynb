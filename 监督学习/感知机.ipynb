{
 "cells": [
  {
   "cell_type": "code",
   "execution_count": 1,
   "id": "4cde82a8",
   "metadata": {},
   "outputs": [
    {
     "data": {
      "image/png": "[encoded data removed]",
      "text/plain": [
       "<Figure size 432x288 with 1 Axes>"
      ]
     },
     "metadata": {
      "needs_background": "light"
     },
     "output_type": "display_data"
    }
   ],
   "source": [
    "from sklearn.datasets import load_iris\n",
    "from sklearn.model_selection import train_test_split\n",
    "from sklearn.preprocessing import StandardScaler\n",
    "import numpy as np\n",
    "import matplotlib.pyplot as plt\n",
    "\n",
    "data=load_iris()\n",
    "X=data.data[:,:2]\n",
    "X=X[data.target<=1,:]\n",
    "Y=data.target[data.target<=1]\n",
    "Y[Y==0]=-1\n",
    "trainX,testX,trainY,testY =train_test_split(X,Y)\n",
    "standard=StandardScaler()\n",
    "standard.fit(trainX)\n",
    "trainX= standard.transform(trainX)\n",
    "testX = standard.transform(testX)\n",
    "plt.scatter(X[Y==-1,0],X[Y==-1,1],color='r')\n",
    "plt.scatter(X[Y==1,0],X[Y==1,1],color='b')\n",
    "plt.show()"
   ]
  },
  {
   "cell_type": "code",
   "execution_count": 2,
   "id": "1390a95f",
   "metadata": {},
   "outputs": [
    {
     "data": {
      "text/plain": [
       "1.0"
      ]
     },
     "execution_count": 2,
     "metadata": {},
     "output_type": "execute_result"
    }
   ],
   "source": [
    "# 感知机\n",
    "class Perceptron:\n",
    "    def __init__(self,max_iter=1000,alpha=1e-2):\n",
    "        self.max_iter_=max_iter\n",
    "        self.alpha=alpha\n",
    "        self.theta=None\n",
    "    def fit(self,trainX,trainY):\n",
    "        X_b=np.hstack((trainX,np.ones((trainX.shape[0],1))))\n",
    "        self.theta=np.ones(X_b.shape[1])\n",
    "        # 随机梯度下降法\n",
    "        for i in range(self.max_iter_):\n",
    "            wrong_count=0\n",
    "            for x_i in range(X_b.shape[0]):\n",
    "                y=trainY[x_i]\n",
    "                x=X_b[x_i]       \n",
    "                if y *np.dot(x.T, self.theta)<0:\n",
    "                    wrong_count+=1\n",
    "                    self.theta = self.theta + self.alpha * np.dot(y, x)\n",
    "            if wrong_count==0:\n",
    "                    break             \n",
    "    def loss_func(self,X,Y):\n",
    "         return np.sum(abs((X.dot(self.theta)))) /np.linalg.norm(self.theta)\n",
    "                \n",
    "    def predict(self,testX):\n",
    "        X_b=np.hstack((testX,np.ones((testX.shape[0],1))))\n",
    "        result = np.array(X_b.dot(self.theta)>0,dtype='int')\n",
    "        result[result==0]=-1\n",
    "        return result\n",
    "    def score(self,testX,testY):\n",
    "        return np.sum(self.predict(testX) == testY)/len(testY)\n",
    "\n",
    "clf = Perceptron()\n",
    "clf.fit(trainX,trainY)\n",
    "x_1=np.linspace(-2,2,100)\n",
    "x_2=-(clf.theta[0]*x_1+clf.theta[2])/(clf.theta[1])\n",
    "clf.score(testX,testY)\n"
   ]
  },
  {
   "cell_type": "code",
   "execution_count": 3,
   "id": "f8adbc4b",
   "metadata": {},
   "outputs": [
    {
     "data": {
      "image/png": "[encoded data removed]",
      "text/plain": [
       "<Figure size 432x288 with 1 Axes>"
      ]
     },
     "metadata": {
      "needs_background": "light"
     },
     "output_type": "display_data"
    }
   ],
   "source": [
    "plt.plot(x_1, x_2)\n",
    "plt.scatter(trainX[trainY==-1,0],trainX[trainY==-1,1],color='r')\n",
    "plt.scatter(trainX[trainY==1,0],trainX[trainY==1,1],color='b')\n",
    "plt.show()"
   ]
  },
  {
   "cell_type": "code",
   "execution_count": null,
   "id": "a2fa859e",
   "metadata": {},
   "outputs": [],
   "source": []
  },
  {
   "cell_type": "code",
   "execution_count": null,
   "id": "b603544f",
   "metadata": {},
   "outputs": [],
   "source": []
  },
  {
   "cell_type": "code",
   "execution_count": null,
   "id": "64d36ac7",
   "metadata": {},
   "outputs": [],
   "source": []
  },
  {
   "cell_type": "code",
   "execution_count": null,
   "id": "081023f0",
   "metadata": {},
   "outputs": [],
   "source": []
  },
  {
   "cell_type": "code",
   "execution_count": null,
   "id": "347c6193",
   "metadata": {},
   "outputs": [],
   "source": []
  },
  {
   "cell_type": "code",
   "execution_count": null,
   "id": "a2a13fa1",
   "metadata": {},
   "outputs": [],
   "source": []
  },
  {
   "cell_type": "code",
   "execution_count": null,
   "id": "60af4b85",
   "metadata": {},
   "outputs": [],
   "source": []
  }
 ],
 "metadata": {
  "kernelspec": {
   "display_name": "Python 3",
   "language": "python",
   "name": "python3"
  },
  "language_info": {
   "codemirror_mode": {
    "name": "ipython",
    "version": 3
   },
   "file_extension": ".py",
   "mimetype": "text/x-python",
   "name": "python",
   "nbconvert_exporter": "python",
   "pygments_lexer": "ipython3",
   "version": "3.8.8"
  }
 },
 "nbformat": 4,
 "nbformat_minor": 5
}
