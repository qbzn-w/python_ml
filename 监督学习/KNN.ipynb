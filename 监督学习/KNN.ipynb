{
 "cells": [
  {
   "cell_type": "code",
   "execution_count": 10,
   "id": "2b31f5b7",
   "metadata": {},
   "outputs": [],
   "source": [
    "class KNN :\n",
    "    def __init__(self,k):\n",
    "        self.k=k\n",
    "    \n",
    "    def fit(self,trainX,trainY):\n",
    "        print(self.k,t)\n",
    "    def predict(self,data):\n",
    "        pass\n",
    "    def score(self,testX,testY):\n",
    "        pass\n",
    "    \n",
    "        "
   ]
  },
  {
   "cell_type": "code",
   "execution_count": 9,
   "id": "c2a364c1",
   "metadata": {},
   "outputs": [
    {
     "name": "stdout",
     "output_type": "stream",
     "text": [
      "3 111\n"
     ]
    }
   ],
   "source": [
    "k=KNN(3)\n"
   ]
  },
  {
   "cell_type": "code",
   "execution_count": null,
   "id": "75221c86",
   "metadata": {},
   "outputs": [],
   "source": []
  }
 ],
 "metadata": {
  "kernelspec": {
   "display_name": "Python 3",
   "language": "python",
   "name": "python3"
  },
  "language_info": {
   "codemirror_mode": {
    "name": "ipython",
    "version": 3
   },
   "file_extension": ".py",
   "mimetype": "text/x-python",
   "name": "python",
   "nbconvert_exporter": "python",
   "pygments_lexer": "ipython3",
   "version": "3.8.8"
  }
 },
 "nbformat": 4,
 "nbformat_minor": 5
}
