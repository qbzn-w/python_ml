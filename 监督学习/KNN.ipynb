{
 "cells": [
  {
   "cell_type": "code",
   "execution_count": 1,
   "id": "ee4dba98",
   "metadata": {},
   "outputs": [],
   "source": [
    "import numpy as np\n",
    "from collections import Counter\n",
    "class KNN :\n",
    "    # 最近k个值做决策\n",
    "    def __init__(self,k):\n",
    "        self.k=k\n",
    "    # fit 设置下训练数据\n",
    "    def fit(self,trainX,trainY):\n",
    "        self.trainX=trainX\n",
    "        self.trainY=trainY\n",
    "        # 来的测试数据，计算和其他点的距离，获得离它最近的k个值做决策\n",
    "    def singlePredict(self,testX):\n",
    "        length=len(self.trainY)\n",
    "        distances=[]\n",
    "        # 计算器\n",
    "        for i in range(length):\n",
    "            distance=(trainX[i]-testX).dot((trainX[i]-testX))\n",
    "            distances.append(distance)\n",
    "      \n",
    "        args=np.argsort(distances)\n",
    "       \n",
    "        c = Counter( trainY[args[0:self.k]])\n",
    "        return c.most_common()[0][0]\n",
    "    def predict(self,testX):\n",
    "        y=[]\n",
    "        for i in range(len(testX)):\n",
    "            y.append(self.singlePredict(testX[i]))\n",
    "        return y \n",
    "    ##获取准确率\n",
    "    def score(self,testX,testY):\n",
    "        predictY=self.predict(testX)\n",
    "        value= np.sum(predictY==testY)*1.0/len(testY)\n",
    "        print(value)\n",
    "        \n",
    "    \n",
    "      "
   ]
  },
  {
   "cell_type": "code",
   "execution_count": 8,
   "id": "f2d7f0b5",
   "metadata": {},
   "outputs": [
    {
     "name": "stdout",
     "output_type": "stream",
     "text": [
      "0.9844444444444445\n"
     ]
    }
   ],
   "source": [
    "from sklearn.datasets  import load_digits\n",
    "from sklearn.model_selection import train_test_split\n",
    "data=load_digits()\n",
    "X=data.data\n",
    "Y=data.target\n",
    "## 训练集测试集划分\n",
    "trainX,testX,trainY,testY=train_test_split(X,Y,random_state=2)  \n",
    "k=KNN(3)\n",
    "k.fit(trainX,trainY)\n",
    "##  准确率\n",
    "k.score(testX,testY)"
   ]
  },
  {
   "cell_type": "code",
   "execution_count": 10,
   "id": "766193d1",
   "metadata": {},
   "outputs": [
    {
     "data": {
      "text/plain": [
       "0.9866666666666667"
      ]
     },
     "execution_count": 10,
     "metadata": {},
     "output_type": "execute_result"
    }
   ],
   "source": [
    "# sklearn KNN\n",
    "from sklearn.neighbors import KNeighborsClassifier \n",
    "knn = KNeighborsClassifier(3)\n",
    "knn.fit(trainX,trainY)\n",
    "knn.score(testX,testY)"
   ]
  },
  {
   "cell_type": "code",
   "execution_count": 6,
   "id": "cb859a1b",
   "metadata": {},
   "outputs": [
    {
     "data": {
      "text/plain": [
       "1.0"
      ]
     },
     "execution_count": 6,
     "metadata": {},
     "output_type": "execute_result"
    }
   ],
   "source": []
  },
  {
   "cell_type": "code",
   "execution_count": null,
   "id": "82df9f9f",
   "metadata": {},
   "outputs": [],
   "source": []
  },
  {
   "cell_type": "code",
   "execution_count": null,
   "id": "a0aad281",
   "metadata": {},
   "outputs": [],
   "source": []
  },
  {
   "cell_type": "code",
   "execution_count": null,
   "id": "0ac9a0e7",
   "metadata": {},
   "outputs": [],
   "source": []
  },
  {
   "cell_type": "code",
   "execution_count": null,
   "id": "86f8f851",
   "metadata": {},
   "outputs": [],
   "source": []
  },
  {
   "cell_type": "code",
   "execution_count": null,
   "id": "b44b5a60",
   "metadata": {},
   "outputs": [],
   "source": []
  },
  {
   "cell_type": "code",
   "execution_count": null,
   "id": "a330e503",
   "metadata": {},
   "outputs": [],
   "source": []
  },
  {
   "cell_type": "code",
   "execution_count": null,
   "id": "ef692ade",
   "metadata": {},
   "outputs": [],
   "source": []
  },
  {
   "cell_type": "code",
   "execution_count": null,
   "id": "26439004",
   "metadata": {},
   "outputs": [],
   "source": []
  },
  {
   "cell_type": "code",
   "execution_count": null,
   "id": "92ddee17",
   "metadata": {},
   "outputs": [],
   "source": []
  }
 ],
 "metadata": {
  "kernelspec": {
   "display_name": "Python 3",
   "language": "python",
   "name": "python3"
  },
  "language_info": {
   "codemirror_mode": {
    "name": "ipython",
    "version": 3
   },
   "file_extension": ".py",
   "mimetype": "text/x-python",
   "name": "python",
   "nbconvert_exporter": "python",
   "pygments_lexer": "ipython3",
   "version": "3.8.8"
  }
 },
 "nbformat": 4,
 "nbformat_minor": 5
}
