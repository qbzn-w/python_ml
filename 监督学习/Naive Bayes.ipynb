{
 "cells": [
  {
   "cell_type": "code",
   "execution_count": 11,
   "id": "adb41914",
   "metadata": {},
   "outputs": [
    {
     "ename": "TypeError",
     "evalue": "'(slice(None, None, None), slice(None, None, None))' is an invalid key",
     "output_type": "error",
     "traceback": [
      "\u001b[1;31m---------------------------------------------------------------------------\u001b[0m",
      "\u001b[1;31mTypeError\u001b[0m                                 Traceback (most recent call last)",
      "\u001b[1;32m<ipython-input-11-55de399f85d3>\u001b[0m in \u001b[0;36m<module>\u001b[1;34m\u001b[0m\n\u001b[0;32m     19\u001b[0m                         columns=[\"色泽\", \"根蒂\", \"敲声\", \"纹理\", \"脐部\", \"触感\", \"好瓜\"])\n\u001b[0;32m     20\u001b[0m \u001b[1;33m\u001b[0m\u001b[0m\n\u001b[1;32m---> 21\u001b[1;33m \u001b[0mtrainX\u001b[0m\u001b[1;33m=\u001b[0m\u001b[0mdata\u001b[0m\u001b[1;33m[\u001b[0m\u001b[1;33m:\u001b[0m\u001b[1;33m,\u001b[0m\u001b[1;33m:\u001b[0m\u001b[1;33m]\u001b[0m\u001b[1;33m\u001b[0m\u001b[1;33m\u001b[0m\u001b[0m\n\u001b[0m\u001b[0;32m     22\u001b[0m \u001b[0mtrainX\u001b[0m\u001b[1;33m\u001b[0m\u001b[1;33m\u001b[0m\u001b[0m\n",
      "\u001b[1;32m~\\anaconda3\\lib\\site-packages\\pandas\\core\\frame.py\u001b[0m in \u001b[0;36m__getitem__\u001b[1;34m(self, key)\u001b[0m\n\u001b[0;32m   3022\u001b[0m             \u001b[1;32mif\u001b[0m \u001b[0mself\u001b[0m\u001b[1;33m.\u001b[0m\u001b[0mcolumns\u001b[0m\u001b[1;33m.\u001b[0m\u001b[0mnlevels\u001b[0m \u001b[1;33m>\u001b[0m \u001b[1;36m1\u001b[0m\u001b[1;33m:\u001b[0m\u001b[1;33m\u001b[0m\u001b[1;33m\u001b[0m\u001b[0m\n\u001b[0;32m   3023\u001b[0m                 \u001b[1;32mreturn\u001b[0m \u001b[0mself\u001b[0m\u001b[1;33m.\u001b[0m\u001b[0m_getitem_multilevel\u001b[0m\u001b[1;33m(\u001b[0m\u001b[0mkey\u001b[0m\u001b[1;33m)\u001b[0m\u001b[1;33m\u001b[0m\u001b[1;33m\u001b[0m\u001b[0m\n\u001b[1;32m-> 3024\u001b[1;33m             \u001b[0mindexer\u001b[0m \u001b[1;33m=\u001b[0m \u001b[0mself\u001b[0m\u001b[1;33m.\u001b[0m\u001b[0mcolumns\u001b[0m\u001b[1;33m.\u001b[0m\u001b[0mget_loc\u001b[0m\u001b[1;33m(\u001b[0m\u001b[0mkey\u001b[0m\u001b[1;33m)\u001b[0m\u001b[1;33m\u001b[0m\u001b[1;33m\u001b[0m\u001b[0m\n\u001b[0m\u001b[0;32m   3025\u001b[0m             \u001b[1;32mif\u001b[0m \u001b[0mis_integer\u001b[0m\u001b[1;33m(\u001b[0m\u001b[0mindexer\u001b[0m\u001b[1;33m)\u001b[0m\u001b[1;33m:\u001b[0m\u001b[1;33m\u001b[0m\u001b[1;33m\u001b[0m\u001b[0m\n\u001b[0;32m   3026\u001b[0m                 \u001b[0mindexer\u001b[0m \u001b[1;33m=\u001b[0m \u001b[1;33m[\u001b[0m\u001b[0mindexer\u001b[0m\u001b[1;33m]\u001b[0m\u001b[1;33m\u001b[0m\u001b[1;33m\u001b[0m\u001b[0m\n",
      "\u001b[1;32m~\\anaconda3\\lib\\site-packages\\pandas\\core\\indexes\\base.py\u001b[0m in \u001b[0;36mget_loc\u001b[1;34m(self, key, method, tolerance)\u001b[0m\n\u001b[0;32m   3078\u001b[0m             \u001b[0mcasted_key\u001b[0m \u001b[1;33m=\u001b[0m \u001b[0mself\u001b[0m\u001b[1;33m.\u001b[0m\u001b[0m_maybe_cast_indexer\u001b[0m\u001b[1;33m(\u001b[0m\u001b[0mkey\u001b[0m\u001b[1;33m)\u001b[0m\u001b[1;33m\u001b[0m\u001b[1;33m\u001b[0m\u001b[0m\n\u001b[0;32m   3079\u001b[0m             \u001b[1;32mtry\u001b[0m\u001b[1;33m:\u001b[0m\u001b[1;33m\u001b[0m\u001b[1;33m\u001b[0m\u001b[0m\n\u001b[1;32m-> 3080\u001b[1;33m                 \u001b[1;32mreturn\u001b[0m \u001b[0mself\u001b[0m\u001b[1;33m.\u001b[0m\u001b[0m_engine\u001b[0m\u001b[1;33m.\u001b[0m\u001b[0mget_loc\u001b[0m\u001b[1;33m(\u001b[0m\u001b[0mcasted_key\u001b[0m\u001b[1;33m)\u001b[0m\u001b[1;33m\u001b[0m\u001b[1;33m\u001b[0m\u001b[0m\n\u001b[0m\u001b[0;32m   3081\u001b[0m             \u001b[1;32mexcept\u001b[0m \u001b[0mKeyError\u001b[0m \u001b[1;32mas\u001b[0m \u001b[0merr\u001b[0m\u001b[1;33m:\u001b[0m\u001b[1;33m\u001b[0m\u001b[1;33m\u001b[0m\u001b[0m\n\u001b[0;32m   3082\u001b[0m                 \u001b[1;32mraise\u001b[0m \u001b[0mKeyError\u001b[0m\u001b[1;33m(\u001b[0m\u001b[0mkey\u001b[0m\u001b[1;33m)\u001b[0m \u001b[1;32mfrom\u001b[0m \u001b[0merr\u001b[0m\u001b[1;33m\u001b[0m\u001b[1;33m\u001b[0m\u001b[0m\n",
      "\u001b[1;32mpandas\\_libs\\index.pyx\u001b[0m in \u001b[0;36mpandas._libs.index.IndexEngine.get_loc\u001b[1;34m()\u001b[0m\n",
      "\u001b[1;32mpandas\\_libs\\index.pyx\u001b[0m in \u001b[0;36mpandas._libs.index.IndexEngine.get_loc\u001b[1;34m()\u001b[0m\n",
      "\u001b[1;31mTypeError\u001b[0m: '(slice(None, None, None), slice(None, None, None))' is an invalid key"
     ]
    }
   ],
   "source": [
    "import pandas as pd\n",
    "data = pd.DataFrame([[\"青绿\", \"蜷缩\", \"浊响\", \"清晰\", \"凹陷\", \"硬滑\", \"是\"],\n",
    "                         [\"乌黑\", \"蜷缩\", \"沉闷\", \"清晰\", \"凹陷\", \"硬滑\", \"是\"],\n",
    "                         [\"乌黑\", \"蜷缩\", \"浊响\", \"清晰\", \"凹陷\", \"硬滑\", \"是\"],\n",
    "                         [\"青绿\", \"蜷缩\", \"沉闷\", \"清晰\", \"凹陷\", \"硬滑\", \"是\"],\n",
    "                         [\"浅白\", \"蜷缩\", \"浊响\", \"清晰\", \"凹陷\", \"硬滑\", \"是\"],\n",
    "                         [\"青绿\", \"稍蜷\", \"浊响\", \"清晰\", \"稍凹\", \"软粘\", \"是\"],\n",
    "                         [\"乌黑\", \"稍蜷\", \"浊响\", \"稍糊\", \"稍凹\", \"软粘\", \"是\"],\n",
    "                         [\"乌黑\", \"稍蜷\", \"浊响\", \"清晰\", \"稍凹\", \"硬滑\", \"是\"],\n",
    "                         [\"乌黑\", \"稍蜷\", \"沉闷\", \"稍糊\", \"稍凹\", \"硬滑\", \"否\"],\n",
    "                         [\"青绿\", \"硬挺\", \"清脆\", \"清晰\", \"平坦\", \"软粘\", \"否\"],\n",
    "                         [\"浅白\", \"硬挺\", \"清脆\", \"模糊\", \"平坦\", \"硬滑\", \"否\"],\n",
    "                         [\"浅白\", \"蜷缩\", \"浊响\", \"模糊\", \"平坦\", \"软粘\", \"否\"],\n",
    "                         [\"青绿\", \"稍蜷\", \"浊响\", \"稍糊\", \"凹陷\", \"硬滑\", \"否\"],\n",
    "                         [\"浅白\", \"稍蜷\", \"沉闷\", \"稍糊\", \"凹陷\", \"硬滑\", \"否\"],\n",
    "                         [\"乌黑\", \"稍蜷\", \"浊响\", \"清晰\", \"稍凹\", \"软粘\", \"否\"],\n",
    "                         [\"浅白\", \"蜷缩\", \"浊响\", \"模糊\", \"平坦\", \"硬滑\", \"否\"],\n",
    "                         [\"青绿\", \"蜷缩\", \"沉闷\", \"稍糊\", \"稍凹\", \"硬滑\", \"否\"]],\n",
    "                        columns=[\"色泽\", \"根蒂\", \"敲声\", \"纹理\", \"脐部\", \"触感\", \"好瓜\"])\n",
    "\n",
    "trainX=data[:,:]\n",
    "trainX"
   ]
  },
  {
   "cell_type": "code",
   "execution_count": null,
   "id": "924bd134",
   "metadata": {},
   "outputs": [],
   "source": []
  }
 ],
 "metadata": {
  "kernelspec": {
   "display_name": "Python 3",
   "language": "python",
   "name": "python3"
  },
  "language_info": {
   "codemirror_mode": {
    "name": "ipython",
    "version": 3
   },
   "file_extension": ".py",
   "mimetype": "text/x-python",
   "name": "python",
   "nbconvert_exporter": "python",
   "pygments_lexer": "ipython3",
   "version": "3.8.8"
  }
 },
 "nbformat": 4,
 "nbformat_minor": 5
}
