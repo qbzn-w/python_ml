{
 "cells": [
  {
   "cell_type": "markdown",
   "id": "e2f61274",
   "metadata": {},
   "source": [
    "\n",
    "https://zhuanlan.zhihu.com/p/65472471\n",
    "\n"
   ]
  },
  {
   "cell_type": "markdown",
   "id": "ea329b6e",
   "metadata": {},
   "source": [
    "https://zhuanlan.zhihu.com/p/66534632\n"
   ]
  },
  {
   "cell_type": "markdown",
   "id": "29ea4487",
   "metadata": {},
   "source": [
    "https://zhuanlan.zhihu.com/p/67682601"
   ]
  },
  {
   "cell_type": "code",
   "execution_count": 2,
   "id": "8f79c642",
   "metadata": {},
   "outputs": [
    {
     "data": {
      "text/plain": [
       "111"
      ]
     },
     "execution_count": 2,
     "metadata": {},
     "output_type": "execute_result"
    }
   ],
   "source": [
    "111"
   ]
  },
  {
   "cell_type": "code",
   "execution_count": null,
   "id": "8aec4830",
   "metadata": {},
   "outputs": [],
   "source": []
  }
 ],
 "metadata": {
  "kernelspec": {
   "display_name": "Python 3",
   "language": "python",
   "name": "python3"
  },
  "language_info": {
   "codemirror_mode": {
    "name": "ipython",
    "version": 3
   },
   "file_extension": ".py",
   "mimetype": "text/x-python",
   "name": "python",
   "nbconvert_exporter": "python",
   "pygments_lexer": "ipython3",
   "version": "3.6.8"
  }
 },
 "nbformat": 4,
 "nbformat_minor": 5
}
