{
 "cells": [
  {
   "cell_type": "markdown",
   "id": "f2430e63",
   "metadata": {},
   "source": [
    "\n",
    "https://zhuanlan.zhihu.com/p/65472471\n",
    "\n"
   ]
  },
  {
   "cell_type": "markdown",
   "id": "97fbd8f8",
   "metadata": {},
   "source": [
    "https://zhuanlan.zhihu.com/p/66534632\n"
   ]
  },
  {
   "cell_type": "markdown",
   "id": "2bb40518",
   "metadata": {},
   "source": [
    "https://zhuanlan.zhihu.com/p/67682601"
   ]
  },
  {
   "cell_type": "code",
   "execution_count": null,
   "id": "da8afc94",
   "metadata": {},
   "outputs": [],
   "source": []
  }
 ],
 "metadata": {
  "kernelspec": {
   "display_name": "Python 3",
   "language": "python",
   "name": "python3"
  },
  "language_info": {
   "codemirror_mode": {
    "name": "ipython",
    "version": 3
   },
   "file_extension": ".py",
   "mimetype": "text/x-python",
   "name": "python",
   "nbconvert_exporter": "python",
   "pygments_lexer": "ipython3",
   "version": "3.6.8"
  }
 },
 "nbformat": 4,
 "nbformat_minor": 5
}
