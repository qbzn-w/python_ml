{
 "cells": [
  {
   "cell_type": "code",
   "execution_count": 3,
   "id": "1f23321a",
   "metadata": {},
   "outputs": [
    {
     "name": "stdout",
     "output_type": "stream",
     "text": [
      "[0.077  0.1104 0.0606]\n",
      "[0.04187  0.035512 0.052836]\n"
     ]
    },
    {
     "data": {
      "text/plain": [
       "0.130218"
      ]
     },
     "execution_count": 3,
     "metadata": {},
     "output_type": "execute_result"
    }
   ],
   "source": [
    "import numpy as np\n",
    "# 前向算法\n",
    "class ForwardHmm:\n",
    "    def __init__(self,n_components,observations):\n",
    "        self.n_components=n_components\n",
    "        self.observations=observations\n",
    "    def fit(self,start_probability,transition_probability,emission_probability):\n",
    "        self.start_probability=start_probability\n",
    "        self.transition_probability=transition_probability\n",
    "        self.emission_probability=emission_probability\n",
    "    def predict(self,test_data):\n",
    "        t=len(test_data)\n",
    "        if t<1:\n",
    "            print(\"t<1\")\n",
    "            return\n",
    "        target_type=test_data[0]\n",
    "        target_index=self.observations.index(target_type)\n",
    "        \n",
    "        self.start_probability=self.start_probability*self.emission_probability[:,target_index]\n",
    "        if t==1:\n",
    "            return np.sum(self.start_probability)\n",
    "        for i in range(t-1):\n",
    "            target_type=test_data[i+1]\n",
    "            target_index=self.observations.index(target_type)\n",
    "            pi=[]\n",
    "            for i in range(len(self.transition_probability)):\n",
    "                pi.append(self.transition_probability[:,i].dot(self.start_probability)*self.emission_probability[:,target_index][i])\n",
    "            self.start_probability=np.array(pi)\n",
    "            print(self.start_probability)\n",
    "        return np.sum(self.start_probability)\n",
    "                \n",
    "# 设定隐藏状态的集合 \n",
    "states = [\"box 1\", \"box 2\", \"box3\"] \n",
    "n_states = len(states) \n",
    "# 设定观察状态的集合 \n",
    "observations = [\"red\", \"white\"] \n",
    "n_observations = len(observations)\n",
    "# 设定初始状态分布 \n",
    "start_probability = np.array([0.2, 0.4, 0.4])\n",
    "# 设定状态转移概率分布矩阵 \n",
    "transition_probability = np.array([ [0.5, 0.2, 0.3], [0.3, 0.5, 0.2], [0.2, 0.3, 0.5]])\n",
    "# 设定观测状态概率矩阵 \n",
    "emission_probability = np.array([ [0.5, 0.5], [0.4, 0.6], [0.7, 0.3] ])\n",
    "\n",
    "my_hmm=ForwardHmm(states,observations)\n",
    "my_hmm.fit(start_probability,transition_probability,emission_probability)\n",
    "test_data=[\"red\", \"white\",\"red\"]\n",
    "my_hmm.predict(test_data)"
   ]
  },
  {
   "cell_type": "code",
   "execution_count": 2,
   "id": "d18aa78a",
   "metadata": {},
   "outputs": [
    {
     "data": {
      "text/plain": [
       "[3, 3, 3]"
      ]
     },
     "execution_count": 2,
     "metadata": {},
     "output_type": "execute_result"
    }
   ],
   "source": [
    "import numpy as np\n",
    "# 维比特算法\n",
    "class ViterbiHmm:\n",
    "    def __init__(self,n_components,observations):\n",
    "        self.n_components=n_components\n",
    "        self.observations=observations\n",
    "    def fit(self,start_probability,transition_probability,emission_probability):\n",
    "        self.start_probability=start_probability\n",
    "        self.transition_probability=transition_probability\n",
    "        self.emission_probability=emission_probability\n",
    "    def predict(self,test_data):\n",
    "        t=len(test_data)\n",
    "        if t<1:\n",
    "            print(\"t<1\")\n",
    "            return\n",
    "        target_type=test_data[0]\n",
    "        target_index=self.observations.index(target_type)\n",
    "        \n",
    "        self.start_probability=self.start_probability*self.emission_probability[:,target_index]\n",
    "        first_select=self.transform_arg(np.argmax(self.start_probability))\n",
    "        if t==1: \n",
    "            return self.transform_arg(np.argmax(self.start_probability))\n",
    "        loop_result=[]\n",
    "        pis=[]\n",
    "        for i in range(t-1):\n",
    "            loop_mid_result=[]\n",
    "            target_type=test_data[i+1]\n",
    "            target_index=self.observations.index(target_type)\n",
    "            pi=[]\n",
    "            for i in range(len(self.transition_probability)):\n",
    "                mid_result=self.transition_probability[:,i]*self.start_probability*self.emission_probability[:,target_index][i]\n",
    "                pi.append((self.transition_probability[:,i]*self.start_probability*self.emission_probability[:,target_index][i])[np.argmax(mid_result)])\n",
    "                loop_mid_result.append(self.transition_probability[:,i]*self.start_probability*self.emission_probability[:,target_index][i])\n",
    "            loop_result.append(loop_mid_result)\n",
    "            self.start_probability=np.array(pi)\n",
    "            pis.append(pi)\n",
    "        select_list=[]\n",
    "        select_list.append(self.transform_arg(np.argmax(self.start_probability)))\n",
    "        for i in reversed(range(len(pis)-1)):\n",
    "            select_list.append(self.transform_arg(np.argmax(loop_result[i][np.argmax(pis[i])])))\n",
    "        select_list.append(first_select)\n",
    "        \n",
    "        return list(reversed(select_list))\n",
    "            \n",
    "    def transform_arg(self,args):\n",
    "        return args+1\n",
    "# 设定隐藏状态的集合 \n",
    "states = [\"box 1\", \"box 2\", \"box3\"] \n",
    "n_states = len(states) \n",
    "# 设定观察状态的集合 \n",
    "observations = [\"red\", \"white\"] \n",
    "n_observations = len(observations)\n",
    "# 设定初始状态分布 \n",
    "start_probability = np.array([0.2, 0.4, 0.4])\n",
    "# 设定状态转移概率分布矩阵 \n",
    "transition_probability = np.array([ [0.5, 0.2, 0.3], [0.3, 0.5, 0.2], [0.2, 0.3, 0.5]])\n",
    "# 设定观测状态概率矩阵 \n",
    "emission_probability = np.array([ [0.5, 0.5], [0.4, 0.6], [0.7, 0.3] ])\n",
    "\n",
    "vHmm=ViterbiHmm(states,observations)\n",
    "vHmm.fit(start_probability,transition_probability,emission_probability)\n",
    "test_data=np.array([\"red\", \"white\",\"red\"])\n",
    "vHmm.predict(test_data)"
   ]
  },
  {
   "cell_type": "code",
   "execution_count": null,
   "id": "733530ba",
   "metadata": {},
   "outputs": [],
   "source": []
  },
  {
   "cell_type": "code",
   "execution_count": null,
   "id": "e66e883b",
   "metadata": {},
   "outputs": [],
   "source": []
  },
  {
   "cell_type": "code",
   "execution_count": null,
   "id": "cb9d17f6",
   "metadata": {},
   "outputs": [],
   "source": []
  },
  {
   "cell_type": "code",
   "execution_count": null,
   "id": "f18d0447",
   "metadata": {},
   "outputs": [],
   "source": []
  },
  {
   "cell_type": "code",
   "execution_count": null,
   "id": "ed2bb009",
   "metadata": {},
   "outputs": [],
   "source": []
  }
 ],
 "metadata": {
  "kernelspec": {
   "display_name": "Python 3",
   "language": "python",
   "name": "python3"
  },
  "language_info": {
   "codemirror_mode": {
    "name": "ipython",
    "version": 3
   },
   "file_extension": ".py",
   "mimetype": "text/x-python",
   "name": "python",
   "nbconvert_exporter": "python",
   "pygments_lexer": "ipython3",
   "version": "3.8.8"
  }
 },
 "nbformat": 4,
 "nbformat_minor": 5
}
