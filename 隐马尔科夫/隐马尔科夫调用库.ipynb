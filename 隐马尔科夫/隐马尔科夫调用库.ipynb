{
 "cells": [
  {
   "cell_type": "code",
   "execution_count": 1,
   "id": "5ddfb1ee",
   "metadata": {},
   "outputs": [],
   "source": [
    "import numpy as np\n",
    "from hmmlearn import hmm\n",
    "# 设定隐藏状态的集合 \n",
    "states = [\"box 1\", \"box 2\", \"box3\"] \n",
    "n_states = len(states) \n",
    "# 设定观察状态的集合 \n",
    "observations = [\"red\", \"white\"] \n",
    "n_observations = len(observations) \n",
    "# 设定初始状态分布 \n",
    "start_probability = np.array([0.2, 0.4, 0.4])\n",
    "# 设定状态转移概率分布矩阵 \n",
    "transition_probability = np.array([ [0.5, 0.2, 0.3], [0.3, 0.5, 0.2], [0.2, 0.3, 0.5]])\n",
    "# 设定观测状态概率矩阵 \n",
    "emission_probability = np.array([ [0.5, 0.5], [0.4, 0.6], [0.7, 0.3] ])"
   ]
  },
  {
   "cell_type": "code",
   "execution_count": 2,
   "id": "188e2cdd",
   "metadata": {},
   "outputs": [
    {
     "ename": "SyntaxError",
     "evalue": "invalid character in identifier (<ipython-input-2-f57ca166c0dd>, line 14)",
     "output_type": "error",
     "traceback": [
      "\u001b[1;36m  File \u001b[1;32m\"<ipython-input-2-f57ca166c0dd>\"\u001b[1;36m, line \u001b[1;32m14\u001b[0m\n\u001b[1;33m    print(\"最可能的隐藏状态序列为:\\n\"， \", \".join(map(lambda x: states[x], box)))\u001b[0m\n\u001b[1;37m                          ^\u001b[0m\n\u001b[1;31mSyntaxError\u001b[0m\u001b[1;31m:\u001b[0m invalid character in identifier\n"
     ]
    }
   ],
   "source": [
    "# 设定模型参数 \n",
    "model = hmm.MultinomialHMM(n_components=n_states) \n",
    "model.startprob_=start_probability \n",
    "# 初始状态分布 \n",
    "model.transmat_=transition_probability \n",
    "# 状态转移概率分布矩阵 \n",
    "model.emissionprob_=emission_probability \n",
    "# 观测状态概率矩阵\n",
    "seen = np.array([[0,1,0]]).T \n",
    "# 设定观测序列 \n",
    "box = model.predict(seen) \n",
    "print(\"球的观测顺序为：\\n\", \", \".join(map(lambda x: observations[x], seen.flatten()))) \n",
    "# 注意：需要使⽤flatten⽅法，把seen从⼆维变成⼀维 \n",
    "print(\"最可能的隐藏状态序列为:\\n\"， \", \".join(map(lambda x: states[x], box)))\n",
    "print(model.score(seen))"
   ]
  },
  {
   "cell_type": "code",
   "execution_count": null,
   "id": "1f23321a",
   "metadata": {},
   "outputs": [],
   "source": []
  }
 ],
 "metadata": {
  "kernelspec": {
   "display_name": "Python 3",
   "language": "python",
   "name": "python3"
  },
  "language_info": {
   "codemirror_mode": {
    "name": "ipython",
    "version": 3
   },
   "file_extension": ".py",
   "mimetype": "text/x-python",
   "name": "python",
   "nbconvert_exporter": "python",
   "pygments_lexer": "ipython3",
   "version": "3.8.8"
  }
 },
 "nbformat": 4,
 "nbformat_minor": 5
}
