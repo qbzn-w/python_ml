{
 "cells": [
  {
   "cell_type": "code",
   "execution_count": 1,
   "id": "5ddfb1ee",
   "metadata": {},
   "outputs": [],
   "source": [
    "import numpy as np\n",
    "from hmmlearn import hmm\n",
    "# 设定隐藏状态的集合 \n",
    "states = [\"box 1\", \"box 2\", \"box3\"] \n",
    "n_states = len(states) \n",
    "# 设定观察状态的集合 \n",
    "observations = [\"red\", \"white\"] \n",
    "n_observations = len(observations) \n",
    "# 设定初始状态分布 \n",
    "start_probability = np.array([0.2, 0.4, 0.4])\n",
    "# 设定状态转移概率分布矩阵 \n",
    "transition_probability = np.array([ [0.5, 0.2, 0.3], [0.3, 0.5, 0.2], [0.2, 0.3, 0.5]])\n",
    "# 设定观测状态概率矩阵 \n",
    "emission_probability = np.array([ [0.5, 0.5], [0.4, 0.6], [0.7, 0.3] ])"
   ]
  },
  {
   "cell_type": "code",
   "execution_count": 4,
   "id": "188e2cdd",
   "metadata": {},
   "outputs": [
    {
     "name": "stdout",
     "output_type": "stream",
     "text": [
      "-2.038545309915233\n"
     ]
    },
    {
     "data": {
      "text/plain": [
       "array([2, 2, 2])"
      ]
     },
     "execution_count": 4,
     "metadata": {},
     "output_type": "execute_result"
    }
   ],
   "source": [
    "# 设定模型参数 \n",
    "model = hmm.MultinomialHMM(n_components=n_states) \n",
    "model.startprob_=start_probability \n",
    "# 初始状态分布 \n",
    "model.transmat_=transition_probability \n",
    "# 状态转移概率分布矩阵 \n",
    "model.emissionprob_=emission_probability \n",
    "# 观测状态概率矩阵\n",
    "seen = np.array([[0,1,0]]).T \n",
    "# 设定观测序列 \n",
    "box = model.predict(seen) \n",
    "# print(\"球的观测顺序为：\\n\", \", \".join(map(lambda x: observations[x], seen.flatten()))) \n",
    "# # 注意：需要使⽤flatten⽅法，把seen从⼆维变成⼀维 \n",
    "# print(\"最可能的隐藏状态序列为:\\n\"， \", \".join(map(lambda x: states[x], box)))\n",
    "print(model.score(seen))\n",
    "box"
   ]
  },
  {
   "cell_type": "code",
   "execution_count": 95,
   "id": "1f23321a",
   "metadata": {},
   "outputs": [
    {
     "name": "stdout",
     "output_type": "stream",
     "text": [
      "[0.077  0.1104 0.0606]\n",
      "[0.04187  0.035512 0.052836]\n"
     ]
    },
    {
     "data": {
      "text/plain": [
       "0.130218"
      ]
     },
     "execution_count": 95,
     "metadata": {},
     "output_type": "execute_result"
    }
   ],
   "source": [
    "import numpy as np\n",
    "# 前向算法\n",
    "class ForwardHmm:\n",
    "    def __init__(self,n_components,observations):\n",
    "        self.n_components=n_components\n",
    "        self.observations=observations\n",
    "    def fit(self,start_probability,transition_probability,emission_probability):\n",
    "        self.start_probability=start_probability\n",
    "        self.transition_probability=transition_probability\n",
    "        self.emission_probability=emission_probability\n",
    "    def predict(self,test_data):\n",
    "        t=len(test_data)\n",
    "        if t<1:\n",
    "            print(\"t<1\")\n",
    "            return\n",
    "        target_type=test_data[0]\n",
    "        target_index=self.observations.index(target_type)\n",
    "        \n",
    "        self.start_probability=self.start_probability*self.emission_probability[:,target_index]\n",
    "        if t==1:\n",
    "            return np.sum(self.start_probability)\n",
    "        for i in range(t-1):\n",
    "            target_type=test_data[i+1]\n",
    "            target_index=self.observations.index(target_type)\n",
    "            pi=[]\n",
    "            for i in range(len(self.transition_probability)):\n",
    "                pi.append(self.transition_probability[:,i].dot(self.start_probability)*self.emission_probability[:,target_index][i])\n",
    "            self.start_probability=np.array(pi)\n",
    "            print(self.start_probability)\n",
    "        return np.sum(self.start_probability)\n",
    "                \n",
    "# 设定隐藏状态的集合 \n",
    "states = [\"box 1\", \"box 2\", \"box3\"] \n",
    "n_states = len(states) \n",
    "# 设定观察状态的集合 \n",
    "observations = [\"red\", \"white\"] \n",
    "n_observations = len(observations)\n",
    "# 设定初始状态分布 \n",
    "start_probability = np.array([0.2, 0.4, 0.4])\n",
    "# 设定状态转移概率分布矩阵 \n",
    "transition_probability = np.array([ [0.5, 0.2, 0.3], [0.3, 0.5, 0.2], [0.2, 0.3, 0.5]])\n",
    "# 设定观测状态概率矩阵 \n",
    "emission_probability = np.array([ [0.5, 0.5], [0.4, 0.6], [0.7, 0.3] ])\n",
    "\n",
    "my_hmm=ForwardHmm(states,observations)\n",
    "my_hmm.fit(start_probability,transition_probability,emission_probability)\n",
    "test_data=[\"red\", \"white\",\"red\"]\n",
    "my_hmm.predict(test_data)"
   ]
  },
  {
   "cell_type": "code",
   "execution_count": 38,
   "id": "f98db6eb",
   "metadata": {},
   "outputs": [
    {
     "data": {
      "text/plain": [
       "3"
      ]
     },
     "execution_count": 38,
     "metadata": {},
     "output_type": "execute_result"
    }
   ],
   "source": [
    "len(transition_probability)"
   ]
  },
  {
   "cell_type": "code",
   "execution_count": 88,
   "id": "733530ba",
   "metadata": {},
   "outputs": [
    {
     "name": "stdout",
     "output_type": "stream",
     "text": [
      "--------------------Load Data------------------------\n",
      "<class 'numpy.matrix'> 199 <class 'numpy.matrix'> 199\n",
      "<class 'numpy.matrix'> 4864 <class 'numpy.matrix'> 4864\n",
      "--------------------Parameter Setup------------------\n",
      "-------------------Save LSSVM Model-----------------\n",
      "------------------Predict Result------------------ -\n",
      "-------------------Average Error------------------ -\n",
      "-------------------Average Error------------------ - 18898.045648761607\n"
     ]
    }
   ],
   "source": []
  },
  {
   "cell_type": "code",
   "execution_count": 85,
   "id": "e66e883b",
   "metadata": {},
   "outputs": [],
   "source": []
  },
  {
   "cell_type": "code",
   "execution_count": 86,
   "id": "cb9d17f6",
   "metadata": {},
   "outputs": [
    {
     "data": {
      "text/plain": [
       "matrix([[1313],\n",
       "        [ 678],\n",
       "        [3464],\n",
       "        ...,\n",
       "        [3092],\n",
       "        [3772],\n",
       "        [ 860]], dtype=int64)"
      ]
     },
     "execution_count": 86,
     "metadata": {},
     "output_type": "execute_result"
    }
   ],
   "source": []
  },
  {
   "cell_type": "code",
   "execution_count": 82,
   "id": "f18d0447",
   "metadata": {},
   "outputs": [
    {
     "data": {
      "text/plain": [
       "4864"
      ]
     },
     "execution_count": 82,
     "metadata": {},
     "output_type": "execute_result"
    }
   ],
   "source": []
  },
  {
   "cell_type": "code",
   "execution_count": null,
   "id": "ed2bb009",
   "metadata": {},
   "outputs": [],
   "source": []
  }
 ],
 "metadata": {
  "kernelspec": {
   "display_name": "Python 3",
   "language": "python",
   "name": "python3"
  },
  "language_info": {
   "codemirror_mode": {
    "name": "ipython",
    "version": 3
   },
   "file_extension": ".py",
   "mimetype": "text/x-python",
   "name": "python",
   "nbconvert_exporter": "python",
   "pygments_lexer": "ipython3",
   "version": "3.8.8"
  }
 },
 "nbformat": 4,
 "nbformat_minor": 5
}
