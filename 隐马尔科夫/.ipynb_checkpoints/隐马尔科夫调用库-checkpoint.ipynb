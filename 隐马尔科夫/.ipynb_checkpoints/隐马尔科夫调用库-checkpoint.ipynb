{
 "cells": [
  {
   "cell_type": "code",
   "execution_count": 1,
   "id": "57acf7d4",
   "metadata": {},
   "outputs": [],
   "source": [
    "import numpy as np\n",
    "from hmmlearn import hmm\n",
    "# 设定隐藏状态的集合 \n",
    "states = [\"box 1\", \"box 2\", \"box3\"] \n",
    "n_states = len(states) \n",
    "# 设定观察状态的集合 \n",
    "observations = [\"red\", \"white\"] \n",
    "n_observations = len(observations) \n",
    "# 设定初始状态分布 \n",
    "start_probability = np.array([0.2, 0.4, 0.4])\n",
    "# 设定状态转移概率分布矩阵 \n",
    "transition_probability = np.array([ [0.5, 0.2, 0.3], [0.3, 0.5, 0.2], [0.2, 0.3, 0.5]])\n",
    "# 设定观测状态概率矩阵 \n",
    "emission_probability = np.array([ [0.5, 0.5], [0.4, 0.6], [0.7, 0.3] ])"
   ]
  },
  {
   "cell_type": "code",
   "execution_count": null,
   "id": "c37f45f6",
   "metadata": {},
   "outputs": [],
   "source": [
    "# 设定模型参数 \n",
    "model = hmm.MultinomialHMM(n_components=n_states) \n",
    "model.startprob_=start_probability \n",
    "# 初始状态分布 \n",
    "model.transmat_=transition_probability \n",
    "# 状态转移概率分布矩阵 \n",
    "model.emissionprob_=emission_probability \n",
    "# 观测状态概率矩阵"
   ]
  }
 ],
 "metadata": {
  "kernelspec": {
   "display_name": "Python 3",
   "language": "python",
   "name": "python3"
  },
  "language_info": {
   "codemirror_mode": {
    "name": "ipython",
    "version": 3
   },
   "file_extension": ".py",
   "mimetype": "text/x-python",
   "name": "python",
   "nbconvert_exporter": "python",
   "pygments_lexer": "ipython3",
   "version": "3.8.8"
  }
 },
 "nbformat": 4,
 "nbformat_minor": 5
}
