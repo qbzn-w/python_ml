{
 "cells": [
  {
   "cell_type": "code",
   "execution_count": 1,
   "id": "9222ebcf",
   "metadata": {},
   "outputs": [],
   "source": [
    "import sklearn.datasets as datasets\n",
    "from sklearn.model_selection import train_test_split\n",
    "from sklearn.linear_model import LogisticRegression\n",
    "import numpy as np\n",
    "data=datasets.load_digits()\n",
    "trainX,testX,trainY,testY=train_test_split(data.data,data.target)\n",
    "# 设置有偏数据集，变为只有0和1两类\n",
    "trainY[trainY!=0]=1\n",
    "testY[testY!=0]=1"
   ]
  },
  {
   "cell_type": "code",
   "execution_count": 2,
   "id": "caf55997",
   "metadata": {},
   "outputs": [
    {
     "name": "stderr",
     "output_type": "stream",
     "text": [
      "C:\\Users\\Administrator\\anaconda3\\lib\\site-packages\\sklearn\\linear_model\\_logistic.py:763: ConvergenceWarning: lbfgs failed to converge (status=1):\n",
      "STOP: TOTAL NO. of ITERATIONS REACHED LIMIT.\n",
      "\n",
      "Increase the number of iterations (max_iter) or scale the data as shown in:\n",
      "    https://scikit-learn.org/stable/modules/preprocessing.html\n",
      "Please also refer to the documentation for alternative solver options:\n",
      "    https://scikit-learn.org/stable/modules/linear_model.html#logistic-regression\n",
      "  n_iter_i = _check_optimize_result(\n"
     ]
    }
   ],
   "source": [
    "clf=LogisticRegression()\n",
    "clf.fit(trainX,trainY)\n",
    "y_predict=clf.predict(testX)"
   ]
  },
  {
   "cell_type": "code",
   "execution_count": 3,
   "id": "8cdde1f0",
   "metadata": {},
   "outputs": [],
   "source": [
    "def TN(testY,predictY):\n",
    "    return  np.sum((y_predict==0) &(testY==0))\n",
    "\n",
    "def FP(testY,predictY):\n",
    "    return  np.sum((y_predict==1) &(testY==0))\n",
    "def FN(testY,predictY):\n",
    "    return  np.sum((y_predict==0) &(testY==1))\n",
    "def TP(testY,predictY):\n",
    "    return  np.sum((y_predict==1) &(testY==1))\n",
    "# 精准率 精准率就是“预测为正例的那些数据里预测正确的数据个数”\n",
    "def precision_score(testY,predictY):\n",
    "    return  TP(testY,predictY)/(TP(testY,predictY)+FP(testY,predictY))\n",
    "# 召回率 召回率就是“真实为正例的那些数据里预测正确的数据个数”\n",
    "def recall_score(testY,predictY):\n",
    "    return  TP(testY,predictY)/(TP(testY,predictY)+FN(testY,predictY))\n",
    "# 在预测股票的时候，我们更关心精准率，即我们预测升的那些股票里，真的升了有多少，\n",
    "# 因为那些我们预测升的股票都是我们投钱的。而在预测病患的场景下，我们更关注召回率，\n",
    "# 即真的患病的那些人里我们预测错了情况应该越少越好，因为真的患病如果没有检测出来，\n",
    "# 结果其实是很严重的，之前那个无脑的算法，召回率就是 0。\n",
    "def confusion_matrix(testY,predictY):\n",
    "    return np.array([[TN(testY,predictY),FP(testY,predictY)],[FN(testY,predictY),TP(testY,predictY)]])\n",
    "def f1_score(testY,predictY):\n",
    "    return 2* precision_score(testY,predictY)*recall_score(testY,predictY)/((precision_score(testY,predictY)+recall_score(testY,predictY)))"
   ]
  },
  {
   "cell_type": "code",
   "execution_count": 4,
   "id": "8d2b9edb",
   "metadata": {},
   "outputs": [
    {
     "name": "stdout",
     "output_type": "stream",
     "text": [
      "精准率: 0.9975369458128078\n",
      "召回率: 1.0\n",
      "矩阵: [[ 44   1]\n",
      " [  0 405]]\n",
      "f1score: 0.9987669543773119\n"
     ]
    }
   ],
   "source": [
    "print(\"精准率:\",precision_score(testY,y_predict))\n",
    "print(\"召回率:\",recall_score(testY,y_predict))\n",
    "print(\"矩阵:\",confusion_matrix(testY,y_predict))\n",
    "print(\"f1score:\",f1_score(testY,y_predict))\n",
    "\n"
   ]
  },
  {
   "cell_type": "code",
   "execution_count": 5,
   "id": "8bcdbfae",
   "metadata": {},
   "outputs": [
    {
     "name": "stdout",
     "output_type": "stream",
     "text": [
      "精准率: 0.9975369458128078\n",
      "召回率: 1.0\n",
      "矩阵: [[ 44   1]\n",
      " [  0 405]]\n",
      "f1score: 0.9987669543773119\n"
     ]
    }
   ],
   "source": [
    "# sklearn 里的精确率\n",
    "from sklearn.metrics import precision_score\n",
    "from sklearn.metrics import recall_score\n",
    "from sklearn.metrics import confusion_matrix\n",
    "from sklearn.metrics import f1_score\n",
    "print(\"精准率:\",precision_score(testY,y_predict))\n",
    "print(\"召回率:\",recall_score(testY,y_predict))\n",
    "print(\"矩阵:\",confusion_matrix(testY,y_predict))\n",
    "print(\"f1score:\",f1_score(testY,y_predict))"
   ]
  },
  {
   "cell_type": "markdown",
   "id": "b1420815",
   "metadata": {},
   "source": [
    "# 精准率-召回率曲线"
   ]
  },
  {
   "cell_type": "code",
   "execution_count": 6,
   "id": "3859be9b",
   "metadata": {},
   "outputs": [
    {
     "name": "stderr",
     "output_type": "stream",
     "text": [
      "C:\\Users\\Administrator\\anaconda3\\lib\\site-packages\\sklearn\\linear_model\\_logistic.py:763: ConvergenceWarning: lbfgs failed to converge (status=1):\n",
      "STOP: TOTAL NO. of ITERATIONS REACHED LIMIT.\n",
      "\n",
      "Increase the number of iterations (max_iter) or scale the data as shown in:\n",
      "    https://scikit-learn.org/stable/modules/preprocessing.html\n",
      "Please also refer to the documentation for alternative solver options:\n",
      "    https://scikit-learn.org/stable/modules/linear_model.html#logistic-regression\n",
      "  n_iter_i = _check_optimize_result(\n"
     ]
    }
   ],
   "source": [
    "import sklearn.datasets as datasets\n",
    "from sklearn.model_selection import train_test_split\n",
    "from sklearn.linear_model import LogisticRegression\n",
    "import numpy as np\n",
    "from sklearn.metrics import precision_score\n",
    "from sklearn.metrics import recall_score\n",
    "from sklearn.metrics import confusion_matrix\n",
    "import matplotlib.pyplot as plt\n",
    "data=datasets.load_digits()\n",
    "trainX,testX,trainY,testY=train_test_split(data.data,data.target)\n",
    "# 设置有偏数据集，变为只有0和1两类\n",
    "trainY[trainY!=0]=1\n",
    "testY[testY!=0]=1\n",
    "clf=LogisticRegression()\n",
    "clf.fit(trainX,trainY)\n",
    "y_predict=clf.predict(testX)"
   ]
  },
  {
   "cell_type": "code",
   "execution_count": 7,
   "id": "c2112616",
   "metadata": {},
   "outputs": [
    {
     "name": "stderr",
     "output_type": "stream",
     "text": [
      "C:\\Users\\Administrator\\anaconda3\\lib\\site-packages\\sklearn\\linear_model\\_logistic.py:763: ConvergenceWarning: lbfgs failed to converge (status=1):\n",
      "STOP: TOTAL NO. of ITERATIONS REACHED LIMIT.\n",
      "\n",
      "Increase the number of iterations (max_iter) or scale the data as shown in:\n",
      "    https://scikit-learn.org/stable/modules/preprocessing.html\n",
      "Please also refer to the documentation for alternative solver options:\n",
      "    https://scikit-learn.org/stable/modules/linear_model.html#logistic-regression\n",
      "  n_iter_i = _check_optimize_result(\n"
     ]
    },
    {
     "name": "stdout",
     "output_type": "stream",
     "text": [
      "精准率: 0.9511111111111111\n",
      "召回率: 0.9511111111111111\n"
     ]
    },
    {
     "data": {
      "image/png": "[encoded data removed]",
      "text/plain": [
       "<Figure size 288x288 with 1 Axes>"
      ]
     },
     "metadata": {
      "needs_background": "light"
     },
     "output_type": "display_data"
    }
   ],
   "source": [
    "#多分类精准率召回率\n",
    "import sklearn.datasets as datasets\n",
    "from sklearn.model_selection import train_test_split\n",
    "from sklearn.linear_model import LogisticRegression\n",
    "import numpy as np\n",
    "from sklearn.metrics import precision_score\n",
    "from sklearn.metrics import recall_score\n",
    "from sklearn.metrics import confusion_matrix\n",
    "data=datasets.load_digits()\n",
    "trainX,testX,trainY,testY=train_test_split(data.data,data.target)\n",
    "clf=LogisticRegression()\n",
    "clf.fit(trainX,trainY)\n",
    "y_predict=clf.predict(testX)\n",
    "print(\"精准率:\",precision_score(testY,y_predict,average='micro'))\n",
    "print(\"召回率:\",recall_score(testY,y_predict,average='micro'))\n",
    "confusion_matrix=confusion_matrix(testY,y_predict)\n",
    "plt.matshow(confusion_matrix, cmap=plt.cm.gray)\n",
    "plt.show()"
   ]
  },
  {
   "cell_type": "code",
   "execution_count": null,
   "id": "851ba36c",
   "metadata": {},
   "outputs": [],
   "source": [
    "\n"
   ]
  },
  {
   "cell_type": "code",
   "execution_count": null,
   "id": "025436aa",
   "metadata": {},
   "outputs": [],
   "source": []
  },
  {
   "cell_type": "code",
   "execution_count": null,
   "id": "aa96a3f8",
   "metadata": {},
   "outputs": [],
   "source": []
  },
  {
   "cell_type": "code",
   "execution_count": null,
   "id": "7f345b5c",
   "metadata": {},
   "outputs": [],
   "source": []
  }
 ],
 "metadata": {
  "kernelspec": {
   "display_name": "Python 3",
   "language": "python",
   "name": "python3"
  },
  "language_info": {
   "codemirror_mode": {
    "name": "ipython",
    "version": 3
   },
   "file_extension": ".py",
   "mimetype": "text/x-python",
   "name": "python",
   "nbconvert_exporter": "python",
   "pygments_lexer": "ipython3",
   "version": "3.8.8"
  }
 },
 "nbformat": 4,
 "nbformat_minor": 5
}
