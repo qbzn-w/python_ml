{
 "cells": [
  {
   "cell_type": "code",
   "execution_count": 8,
   "metadata": {
    "scrolled": true
   },
   "outputs": [
    {
     "data": {
      "text/plain": [
       "[['1', '3', '4'], ['2', '3', '5'], ['1', '2', '3', '5'], ['2', '5']]"
      ]
     },
     "execution_count": 8,
     "metadata": {},
     "output_type": "execute_result"
    }
   ],
   "source": [
    "def load_data_set():\n",
    "    data_set = [['1', '3', '4'], ['2', '3',\"5\"], ['1', '2','3','5'],\n",
    "            ['2', '5']]\n",
    "    return data_set\n",
    "data = load_data_set()\n",
    "data\n",
    "# https://www.cnblogs.com/pinard/p/6293298.html 参考这篇文章实现"
   ]
  },
  {
   "cell_type": "code",
   "execution_count": 22,
   "metadata": {},
   "outputs": [],
   "source": [
    "from collections import Counter\n",
    "class Apriori:\n",
    "    # k 最大项数，min_sup 最小支持度，data数据\n",
    "    def __init__(self,k,min_sup,data):\n",
    "        self.k=k\n",
    "        self.min=min_sup\n",
    "        self.data=data\n",
    "        self.data_num=len(data)\n",
    "        self.min_num=int(self.data_num*min_sup)\n",
    "        # 把列表数据拼接成字符串好统计支持度\n",
    "    def generate_str_list(self):\n",
    "        self.str_list=[]\n",
    "        for li in self.data:\n",
    "            self.str_list.append(self.listToStr(sorted(li)))   \n",
    "    def fit(self):\n",
    "        self.generate_str_list()\n",
    "        # k=1\n",
    "        joinL= self.generateL_1()\n",
    "        for i in range(self.k-1):\n",
    "            next_C=self.generate_C(joinL,i+2)\n",
    "           \n",
    "                \n",
    "            joinL=self.generate_L(next_C)\n",
    "            self.joinL=joinL\n",
    "            if len(joinL)==0:\n",
    "                \n",
    "                return\n",
    "            self.print_sup(joinL)\n",
    "            self.print_confidence(joinL)\n",
    "    # 输出支持度        \n",
    "    def print_sup(self,joinL):\n",
    "        print_content={}\n",
    "        print(\"*\"*50)\n",
    "        for key in joinL:\n",
    "            print_content[key]=str(joinL[key] *100.0/self.data_num) +\"%\"\n",
    "        print('支持度:',print_content)    \n",
    "     # 输出置信度   \n",
    "    def print_confidence(self,joinL):\n",
    "        print_content={}\n",
    "        print(\"*\"*50)\n",
    "        for key in joinL:\n",
    "            key_1=key[:-1]\n",
    "            key_2=key[-1]\n",
    "            count_1=0\n",
    "            count=0\n",
    "            for str_ in self.str_list:\n",
    "                if self.str_in_str(key_1,str_):\n",
    "                    count_1+=1\n",
    "                if self.str_in_str(key,str_):\n",
    "                    count+=1\n",
    "            print_content[key_1+\"---->\"+key_2]= str(100*(count /self.data_num )*1./ (count_1 /self.data_num )) +\"%\"  \n",
    "            \n",
    "        print('置信度:',print_content)  \n",
    "    \n",
    "    # 生成 L1\n",
    "    def generateL_1(self):\n",
    "        \n",
    "        self.L_1={}\n",
    "        split_list = [i for k in self.data for i in k]\n",
    "        counter =Counter(split_list)\n",
    "        result_dict=dict(counter)\n",
    "        for key  in result_dict:\n",
    "            value=result_dict[key]\n",
    "            if value >=self.min_num:\n",
    "                self.L_1[key]=value       \n",
    "        return self.L_1\n",
    "    # 生成 候选频繁项C\n",
    "    def generate_C(self,join,k):\n",
    "        next_C=set()\n",
    "        dict_c={}\n",
    "        for key_1 in join:\n",
    "            for key_2 in self.L_1:\n",
    "                if key_1 != key_2 and len(set(key_1+key_2)) >=k:\n",
    "                    next_C.add(self.listToStr(sorted(key_1+key_2)))            \n",
    "        for next_c in next_C:\n",
    "            count=0\n",
    "            for key in self.str_list:\n",
    "                if self.str_in_str(next_c,key):\n",
    "                    count+=1\n",
    "                dict_c[next_c]=count        \n",
    "        return dict_c\n",
    "    # 生成频繁项L\n",
    "    def generate_L(self,next_C):\n",
    "        \n",
    "        joinL={}\n",
    "        for key in next_C:\n",
    "            if next_C[key]>=self.min_num:\n",
    "                joinL[key]=next_C[key]\n",
    "        return joinL\n",
    "    # 列表变字符串\n",
    "    def listToStr(self,list_str):\n",
    "        str_list=\"\"\n",
    "        for c in list_str:\n",
    "            str_list+=c;\n",
    "        return str_list\n",
    "    # 判断字符串 str_1 是否在字符串2里\n",
    "    def str_in_str(self,str_1,str_2):\n",
    "        if str_1 ==str_2:\n",
    "            return True\n",
    "        if len(str_1)> len(str_2):\n",
    "            return False\n",
    "        str_list_1=sorted(str_1)\n",
    "        str_list_2=sorted(str_2)\n",
    "        count=0\n",
    "        for c_1 in str_list_1:\n",
    "\n",
    "            for c_2 in str_list_2:\n",
    "                if c_1 == c_2:\n",
    "                    count+=1\n",
    "                    break\n",
    "        if len(str_list_1)==count:\n",
    "            return True\n",
    "        else :\n",
    "            return False\n",
    " \n"
   ]
  },
  {
   "cell_type": "code",
   "execution_count": 23,
   "metadata": {},
   "outputs": [
    {
     "name": "stdout",
     "output_type": "stream",
     "text": [
      "**************************************************\n",
      "支持度: {'23': '50.0%', '35': '50.0%', '13': '50.0%', '25': '75.0%'}\n",
      "**************************************************\n",
      "置信度: {'2---->3': '66.66666666666667%', '3---->5': '66.66666666666667%', '1---->3': '100.0%', '2---->5': '100.0%'}\n",
      "**************************************************\n",
      "支持度: {'235': '50.0%'}\n",
      "**************************************************\n",
      "置信度: {'23---->5': '100.0%'}\n"
     ]
    }
   ],
   "source": [
    "model= Apriori(4,0.5,data)\n",
    "model.fit()"
   ]
  },
  {
   "cell_type": "code",
   "execution_count": 68,
   "metadata": {},
   "outputs": [
    {
     "data": {
      "text/plain": [
       "'23'"
      ]
     },
     "execution_count": 68,
     "metadata": {},
     "output_type": "execute_result"
    }
   ],
   "source": []
  },
  {
   "cell_type": "code",
   "execution_count": 67,
   "metadata": {},
   "outputs": [],
   "source": [
    "   "
   ]
  },
  {
   "cell_type": "code",
   "execution_count": 79,
   "metadata": {},
   "outputs": [
    {
     "name": "stdout",
     "output_type": "stream",
     "text": [
      "134\n",
      "235\n",
      "1235\n",
      "25\n"
     ]
    }
   ],
   "source": []
  },
  {
   "cell_type": "code",
   "execution_count": 83,
   "metadata": {},
   "outputs": [
    {
     "name": "stdout",
     "output_type": "stream",
     "text": [
      "['134', '235', '1235', '25']\n"
     ]
    }
   ],
   "source": []
  },
  {
   "cell_type": "code",
   "execution_count": 109,
   "metadata": {},
   "outputs": [
    {
     "data": {
      "text/plain": [
       "False"
      ]
     },
     "execution_count": 109,
     "metadata": {},
     "output_type": "execute_result"
    }
   ],
   "source": []
  },
  {
   "cell_type": "code",
   "execution_count": 96,
   "metadata": {},
   "outputs": [
    {
     "data": {
      "text/plain": [
       "1"
      ]
     },
     "execution_count": 96,
     "metadata": {},
     "output_type": "execute_result"
    }
   ],
   "source": [
    "c=0\n",
    "c+=1\n",
    "c"
   ]
  },
  {
   "cell_type": "code",
   "execution_count": 127,
   "metadata": {},
   "outputs": [],
   "source": [
    "def str_in_str(str_1,str_2):\n",
    "    if str_1 ==str_2:\n",
    "        return True\n",
    "    if len(str_1)> len(str_2):\n",
    "        return False\n",
    "    str_list_1=sorted(str_1)\n",
    "    str_list_2=sorted(str_2)\n",
    "    count=0\n",
    "    for c_1 in str_list_1:\n",
    "\n",
    "        for c_2 in str_list_2:\n",
    "            if c_1 == c_2:\n",
    "                count+=1\n",
    "                break\n",
    "    if len(str_list_1)==count:\n",
    "        return True\n",
    "    else :\n",
    "        return False\n",
    "        "
   ]
  },
  {
   "cell_type": "code",
   "execution_count": 128,
   "metadata": {},
   "outputs": [
    {
     "data": {
      "text/plain": [
       "False"
      ]
     },
     "execution_count": 128,
     "metadata": {},
     "output_type": "execute_result"
    }
   ],
   "source": [
    "str_in_str(\"2212\",\"221\")"
   ]
  },
  {
   "cell_type": "code",
   "execution_count": 143,
   "metadata": {},
   "outputs": [
    {
     "data": {
      "text/plain": [
       "{'1': 2, '3': 3, '2': 3, '5': 3}"
      ]
     },
     "execution_count": 143,
     "metadata": {},
     "output_type": "execute_result"
    }
   ],
   "source": [
    " model.generateL_1()"
   ]
  },
  {
   "cell_type": "code",
   "execution_count": 3,
   "metadata": {},
   "outputs": [
    {
     "data": {
      "text/plain": [
       "'12345'"
      ]
     },
     "execution_count": 3,
     "metadata": {},
     "output_type": "execute_result"
    }
   ],
   "source": [
    "\"123456\"[:-1]"
   ]
  },
  {
   "cell_type": "code",
   "execution_count": 4,
   "metadata": {},
   "outputs": [
    {
     "data": {
      "text/plain": [
       "'6'"
      ]
     },
     "execution_count": 4,
     "metadata": {},
     "output_type": "execute_result"
    }
   ],
   "source": [
    "\"123456\"[-1]"
   ]
  },
  {
   "cell_type": "code",
   "execution_count": null,
   "metadata": {},
   "outputs": [],
   "source": []
  }
 ],
 "metadata": {
  "kernelspec": {
   "display_name": "Python 3",
   "language": "python",
   "name": "python3"
  },
  "language_info": {
   "codemirror_mode": {
    "name": "ipython",
    "version": 3
   },
   "file_extension": ".py",
   "mimetype": "text/x-python",
   "name": "python",
   "nbconvert_exporter": "python",
   "pygments_lexer": "ipython3",
   "version": "3.7.4"
  }
 },
 "nbformat": 4,
 "nbformat_minor": 5
}
