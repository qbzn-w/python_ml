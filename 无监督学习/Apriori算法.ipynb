{
 "cells": [
  {
   "cell_type": "code",
   "execution_count": 10,
   "id": "83e35fb3",
   "metadata": {
    "scrolled": true
   },
   "outputs": [
    {
     "data": {
      "text/plain": [
       "[['1', '3', '4'], ['2', '3', '5'], ['1', '2', '3', '5'], ['2', '5']]"
      ]
     },
     "execution_count": 10,
     "metadata": {},
     "output_type": "execute_result"
    }
   ],
   "source": [
    "def load_data_set():\n",
    "    data_set = [['1', '3', '4'], ['2', '3',\"5\"], ['1', '2','3','5'],\n",
    "            ['2', '5']]\n",
    "    return data_set\n",
    "data = load_data_set()\n",
    "data"
   ]
  },
  {
   "cell_type": "code",
   "execution_count": 14,
   "id": "6719fd86",
   "metadata": {},
   "outputs": [
    {
     "data": {
      "text/plain": [
       "2"
      ]
     },
     "execution_count": 14,
     "metadata": {},
     "output_type": "execute_result"
    }
   ],
   "source": [
    "class Apriori:\n",
    "    # k 最大项数，min_sup 最小支持度，data数据\n",
    "    def __init__(self,k,min_sup,data):\n",
    "        self.k=k\n",
    "        self.min=min_sup\n",
    "        self.data=data\n",
    "        self.data_num=len(data)\n",
    "        self.min_num=int(self.data_num*min_sup)\n",
    "model= Apriori(3,0.5,data)\n",
    "model.min_num"
   ]
  },
  {
   "cell_type": "code",
   "execution_count": null,
   "id": "3965fc49",
   "metadata": {},
   "outputs": [],
   "source": []
  }
 ],
 "metadata": {
  "kernelspec": {
   "display_name": "Python 3",
   "language": "python",
   "name": "python3"
  },
  "language_info": {
   "codemirror_mode": {
    "name": "ipython",
    "version": 3
   },
   "file_extension": ".py",
   "mimetype": "text/x-python",
   "name": "python",
   "nbconvert_exporter": "python",
   "pygments_lexer": "ipython3",
   "version": "3.8.8"
  }
 },
 "nbformat": 4,
 "nbformat_minor": 5
}
