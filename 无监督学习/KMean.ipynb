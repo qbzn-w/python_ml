{
 "cells": [
  {
   "cell_type": "code",
   "execution_count": null,
   "metadata": {},
   "outputs": [],
   "source": [
    "import numpy as np\n",
    "import matplotlib.pyplot as plt\n",
    "\n",
    "# 训练数据\n",
    "x = np.array([ [1,2],[1.5,1.8],[5,8],[8,8],[1,0.6],[9,11] ])\n",
    "plt.scatter(x[:,0],x[:,1])\n",
    "# 预测数据\n",
    "predict = [[2,1], [6,9]]\n",
    "plt.show()\n"
   ]
  },
  {
   "cell_type": "code",
   "execution_count": null,
   "metadata": {},
   "outputs": [],
   "source": [
    "import numpy as p\n",
    "import copy\n",
    "class KMeans :\n",
    "    # k个分类，max_iter 最大迭代次数，min_error \n",
    "    def __init__(self,k,max_iter=30,min_error=0.001):\n",
    "        self.k=k\n",
    "        self.max_iter=max_iter\n",
    "        self.min_error=min_error\n",
    "        # trainX 训练数据\n",
    "    def fit(self,data):\n",
    "        self.centers={}\n",
    "        # 获取前k个点作为初始化中心点\n",
    "        \n",
    "        for i in range(self.k):\n",
    "            self.centers[i]=data[i]\n",
    "            #\n",
    "        for i in range(self.max_iter):\n",
    "            class_k={}\n",
    "            for k_i in range(self.k):\n",
    "            \n",
    "                class_k[k_i]=[]   \n",
    "            for i in range(len(data)):\n",
    "                distances=[]\n",
    "                for  center_key in self.centers:\n",
    "                 # 欧式距离\n",
    "                    distances.append(np.sqrt(np.sum((self.centers[center_key]-data[i])**2)))\n",
    "                # 选出离最近的点，并且分类到该点    \n",
    "                class_k[distances.index(min(distances))].append(data[i])\n",
    "            # 拷贝原来的点\n",
    "            preCenters=copy.deepcopy(self.centers)\n",
    "            # 取平均值重新计算中心点\n",
    "            for class_key in class_k:\n",
    "                self.centers[class_key]=np.average(class_k[class_key],axis=0)\n",
    "            isBreak=True\n",
    "            for center_key in range(len(self.centers)):\n",
    "                 # 如果有一个维二范氏大于最小阈值\n",
    "                if np.sum((self.centers[center_key]-preCenters[center_key]))**2>self.min_error:\n",
    "                    isBreak=False\n",
    "            if isBreak:\n",
    "                break\n",
    "    def predict(self,testX):\n",
    "        result=[]\n",
    "        for x in testX:\n",
    "            result.append(self.singlePredict(x))\n",
    "        return result\n",
    "    # 单个预测\n",
    "    def singlePredict(self,testx):      \n",
    "            distances=[]\n",
    "            for  center_key in self.centers:\n",
    "                distances.append(np.sqrt(np.sum((self.centers[center_key]-testx)**2)))\n",
    "            return distances.index(min(distances))        \n",
    "kmeans=KMeans(2)\n",
    "kmeans.fit(x)\n",
    "print(\"centers\",kmeans.centers)\n",
    "\n",
    "print(\"预测结果\",kmeans.predict(predict)) "
   ]
  },
  {
   "cell_type": "code",
   "execution_count": null,
   "metadata": {},
   "outputs": [],
   "source": []
  },
  {
   "cell_type": "code",
   "execution_count": null,
   "metadata": {},
   "outputs": [],
   "source": [
    "from sklearn.cluster import KMeans\n",
    "# sklearn 下的KMeans\n",
    "kmeans = KMeans(2)\n",
    "kmeans.fit(x)\n",
    "centers=kmeans.cluster_centers_\n",
    "print(\"sklean kmean\",centers)\n",
    "preLabels=kmeans.predict(predict)\n",
    "print(\"sklean预测结果\",preLabels)"
   ]
  },
  {
   "cell_type": "code",
   "execution_count": null,
   "metadata": {},
   "outputs": [],
   "source": []
  },
  {
   "cell_type": "code",
   "execution_count": null,
   "metadata": {},
   "outputs": [],
   "source": [
    "       "
   ]
  },
  {
   "cell_type": "code",
   "execution_count": null,
   "metadata": {},
   "outputs": [],
   "source": [
    "\n"
   ]
  },
  {
   "cell_type": "code",
   "execution_count": null,
   "metadata": {},
   "outputs": [],
   "source": []
  },
  {
   "cell_type": "code",
   "execution_count": null,
   "metadata": {},
   "outputs": [],
   "source": []
  },
  {
   "cell_type": "code",
   "execution_count": null,
   "metadata": {},
   "outputs": [],
   "source": []
  },
  {
   "cell_type": "code",
   "execution_count": null,
   "metadata": {},
   "outputs": [],
   "source": []
  }
 ],
 "metadata": {
  "kernelspec": {
   "display_name": "Python 3",
   "language": "python",
   "name": "python3"
  },
  "language_info": {
   "codemirror_mode": {
    "name": "ipython",
    "version": 3
   },
   "file_extension": ".py",
   "mimetype": "text/x-python",
   "name": "python",
   "nbconvert_exporter": "python",
   "pygments_lexer": "ipython3",
   "version": "3.7.4"
  }
 },
 "nbformat": 4,
 "nbformat_minor": 5
}
