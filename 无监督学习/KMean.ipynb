{
 "cells": [
  {
   "cell_type": "code",
   "execution_count": 24,
   "id": "1e13a7f2",
   "metadata": {},
   "outputs": [
    {
     "data": {
      "image/png": "[encoded data removed]",
      "text/plain": [
       "<Figure size 432x288 with 1 Axes>"
      ]
     },
     "metadata": {
      "needs_background": "light"
     },
     "output_type": "display_data"
    }
   ],
   "source": [
    "import numpy as np\n",
    "import matplotlib.pyplot as plt\n",
    "from sklearn.cluster import KMeans\n",
    "# 训练数据\n",
    "x = np.array([ [1,2],[1.5,1.8],[5,8],[8,8],[1,0.6],[9,11] ])\n",
    "plt.scatter(x[:,0],x[:,1])\n",
    "plt.show()\n",
    "# 预测数据\n",
    "predict = [[2,1], [6,9]]"
   ]
  },
  {
   "cell_type": "code",
   "execution_count": 25,
   "id": "78d1a1b1",
   "metadata": {},
   "outputs": [
    {
     "data": {
      "image/png": "[encoded data removed]",
      "text/plain": [
       "<Figure size 432x288 with 1 Axes>"
      ]
     },
     "metadata": {
      "needs_background": "light"
     },
     "output_type": "display_data"
    }
   ],
   "source": [
    "# sklearn 下的KMeans\n",
    "kmeans = KMeans(2)\n",
    "kmeans.fit(x)\n",
    "centers=kmeans.cluster_centers_\n",
    "labels=kmeans.labels_\n",
    "preLabels=kmeans.predict(predict)\n",
    "for i in range(len(x)):\n",
    "    plt.scatter(x[i][0],x[i][1],c=('r' if labels[i]==0 else 'b'))\n",
    "plt.scatter(centers[0][0],centers[0][1],marker='*',c='r')\n",
    "plt.scatter(centers[1][0],centers[1][1],marker='*',c='b')\n",
    "for i in range(len(preLabels)):\n",
    "     plt.scatter(predict[i][0],predict[i][1],marker='x',c=('r' if preLabels[i]==0 else 'b'))\n",
    "    \n",
    "plt.show()"
   ]
  },
  {
   "cell_type": "code",
   "execution_count": 104,
   "id": "29ab2c00",
   "metadata": {},
   "outputs": [],
   "source": [
    "# 实现自己的Kmean算法\n",
    "import numpy as np\n",
    "\n",
    "class KMeans:\n",
    "    # k组数，min_error 上次和和最初的中心点最小误差,max_iter迭代次数\n",
    "    def __init__(self,k,min_error=0.0001,max_iter=200):\n",
    "        self.k=k\n",
    "        self.min_error=min_error\n",
    "        self.max_iter=max_iter\n",
    "        #训练\n",
    "    def fit(self,trainX):\n",
    "        self.centers={}\n",
    "        \n",
    "            \n",
    "        \n",
    "        # 获取训练集前k个点做初始中心点\n",
    "        for i in range(self.k):\n",
    "            self.centers[i]=trainX[i]\n",
    "        # 计算各个点到中心点的欧式距离，并归类到最近的中心点，超过最大迭代次数停止\n",
    "        for i in range(self.max_iter):\n",
    "            self.clf = {}\n",
    "            for i in range(self.k):\n",
    "                self.clf[i]=[]\n",
    "           \n",
    "                \n",
    "            for x in trainX:\n",
    "                distance=[]\n",
    "                for center_i in self.centers:\n",
    "                    distance.append(np.sqrt(np.linalg.norm(x - self.centers[center_i])))\n",
    "                    \n",
    "                classification = distance.index(min(distance))               \n",
    "                self.clf[classification].append(x)\n",
    "            pre_centers=self.centers\n",
    "            for c in self.clf:\n",
    "                self.centers[c] = np.average(self.clf[c], axis=0)\n",
    "               # '中心点'是否在误差范围\n",
    "            optimized = True\n",
    "            for center in self.centers:\n",
    "                org_centers = pre_centers[center]\n",
    "                cur_centers = self.centers[center]\n",
    "             \n",
    "                if np.sum((cur_centers - org_centers) / org_centers * 100.0) > self.min_error:\n",
    "                    optimized = False    \n",
    "#             if optimized:\n",
    "#                 break;\n",
    "                \n",
    "        print(self.centers)    \n",
    "    # 预测\n",
    "    def predict(self,testX):\n",
    "        \n",
    "        pass"
   ]
  },
  {
   "cell_type": "code",
   "execution_count": 105,
   "id": "a3ede814",
   "metadata": {},
   "outputs": [
    {
     "name": "stdout",
     "output_type": "stream",
     "text": [
      "{0: array([1.16666667, 1.46666667]), 1: array([7.33333333, 9.        ])}\n"
     ]
    }
   ],
   "source": [
    "kmeans=KMeans(2)\n",
    "kmeans.fit(x)"
   ]
  },
  {
   "cell_type": "code",
   "execution_count": 26,
   "id": "2a374cc4",
   "metadata": {},
   "outputs": [],
   "source": [
    "# -*- coding:utf-8 -*-\n",
    "\n"
   ]
  },
  {
   "cell_type": "code",
   "execution_count": 82,
   "id": "cf4b2814",
   "metadata": {},
   "outputs": [
    {
     "name": "stdout",
     "output_type": "stream",
     "text": [
      "之前 {0: array([1.16666667, 1.46666667]), 1: array([7.33333333, 9.        ])}\n",
      "现在 {0: array([1.16666667, 1.46666667]), 1: array([7.33333333, 9.        ])}\n",
      "{0: array([1.16666667, 1.46666667]), 1: array([7.33333333, 9.        ])}\n"
     ]
    },
    {
     "data": {
      "image/png": "[encoded data removed]",
      "text/plain": [
       "<Figure size 432x288 with 1 Axes>"
      ]
     },
     "metadata": {
      "needs_background": "light"
     },
     "output_type": "display_data"
    }
   ],
   "source": [
    "import numpy as np\n",
    "from matplotlib import pyplot\n",
    "\n",
    "\n",
    "class K_Means(object):\n",
    "    # k是分组数；tolerance‘中心点误差’；max_iter是迭代次数\n",
    "    def __init__(self, k=2, tolerance=0.0001, max_iter=300):\n",
    "        self.k_ = k\n",
    "        self.tolerance_ = tolerance\n",
    "        self.max_iter_ = max_iter\n",
    "\n",
    "    def fit(self, data):\n",
    "        self.centers_ = {}\n",
    "        for i in range(self.k_):\n",
    "            self.centers_[i] = data[i]\n",
    "\n",
    "        for i in range(self.max_iter_):\n",
    "            self.clf_ = {}\n",
    "            \n",
    "            for i in range(self.k_):\n",
    "                self.clf_[i] = []\n",
    "            # print(\"质点:\",self.centers_)\n",
    "            for feature in data:\n",
    "                # distances = [np.linalg.norm(feature-self.centers[center]) for center in self.centers]\n",
    "                distances = []\n",
    "                for center in self.centers_:\n",
    "                    # 欧拉距离\n",
    "                    # np.sqrt(np.sum((features-self.centers_[center])**2))\n",
    "                    distances.append(np.linalg.norm(feature - self.centers_[center]))\n",
    "                classification = distances.index(min(distances))\n",
    "                self.clf_[classification].append(feature)\n",
    "\n",
    "            # print(\"分组情况:\",self.clf_)\n",
    "            prev_centers = dict(self.centers_)\n",
    "            for c in self.clf_:\n",
    "                self.centers_[c] = np.average(self.clf_[c], axis=0)\n",
    "\n",
    "            # '中心点'是否在误差范围\n",
    "            optimized = True\n",
    "            for center in self.centers_:\n",
    "                org_centers = prev_centers[center]\n",
    "                cur_centers = self.centers_[center]\n",
    "               \n",
    "                if np.sum((cur_centers - org_centers) / org_centers * 100.0) > self.tolerance_:\n",
    "                    optimized = False\n",
    "            if optimized:\n",
    "                print(\"之前\",prev_centers)\n",
    "                print(\"现在\",self.centers_)\n",
    "                \n",
    "                break\n",
    "\n",
    "    def predict(self, p_data):\n",
    "        distances = [np.linalg.norm(p_data - self.centers_[center]) for center in self.centers_]\n",
    "        index = distances.index(min(distances))\n",
    "        return index\n",
    "\n",
    "\n",
    "if __name__ == '__main__':\n",
    "    x = np.array([[1, 2], [1.5, 1.8], [5, 8], [8, 8], [1, 0.6], [9, 11]])\n",
    "    k_means = K_Means(k=2)\n",
    "    k_means.fit(x)\n",
    "    print(k_means.centers_)\n",
    "    for center in k_means.centers_:\n",
    "        pyplot.scatter(k_means.centers_[center][0], k_means.centers_[center][1], marker='*', s=150)\n",
    "\n",
    "    for cat in k_means.clf_:\n",
    "        for point in k_means.clf_[cat]:\n",
    "            pyplot.scatter(point[0], point[1], c=('r' if cat == 0 else 'b'))\n",
    "\n",
    "    predict = [[2, 1], [6, 9]]\n",
    "    for feature in predict:\n",
    "        cat = k_means.predict(predict)\n",
    "        pyplot.scatter(feature[0], feature[1], c=('r' if cat == 0 else 'b'), marker='x')\n",
    "\n",
    "    pyplot.show()"
   ]
  },
  {
   "cell_type": "code",
   "execution_count": 83,
   "id": "d591c35f",
   "metadata": {},
   "outputs": [
    {
     "data": {
      "text/plain": [
       "5"
      ]
     },
     "execution_count": 83,
     "metadata": {},
     "output_type": "execute_result"
    }
   ],
   "source": []
  },
  {
   "cell_type": "code",
   "execution_count": null,
   "id": "88df53e6",
   "metadata": {},
   "outputs": [],
   "source": []
  }
 ],
 "metadata": {
  "kernelspec": {
   "display_name": "Python 3",
   "language": "python",
   "name": "python3"
  },
  "language_info": {
   "codemirror_mode": {
    "name": "ipython",
    "version": 3
   },
   "file_extension": ".py",
   "mimetype": "text/x-python",
   "name": "python",
   "nbconvert_exporter": "python",
   "pygments_lexer": "ipython3",
   "version": "3.8.8"
  }
 },
 "nbformat": 4,
 "nbformat_minor": 5
}
