{
 "cells": [
  {
   "cell_type": "code",
   "execution_count": 16,
   "metadata": {},
   "outputs": [],
   "source": [
    "# 实现统计学习方法 里的硬币模型\n",
    "import numpy as np\n",
    "import math\n",
    "class EM:\n",
    "    def __init__(self,probs):\n",
    "        self.proA=probs[0]\n",
    "        self.proB=probs[1]\n",
    "        self.proC=probs[2]\n",
    "    #e步    \n",
    "    def e_step(self,i):\n",
    "        pro_1=self.proA*math.pow(self.proB,self.data[i])*math.pow((1-self.proB),self.data[i])\n",
    "        pro_2=(1-self.proA)*math.pow(self.proC,self.data[i])*math.pow((1-self.proC),self.data[i])\n",
    "\n",
    "        return pro_1/(pro_1+pro_2)\n",
    "    def fit(self,data):\n",
    "        self.data=data\n",
    "        return \"fit success\"\n",
    "    def iter(self):\n",
    "          # e_步\n",
    "        e_step_list=[ self.e_step(i) for i in range(len(data))]\n",
    "        \n",
    "        # m_步\n",
    "        self.proB=np.sum([ data[i]*e_step_list[i] for i in range(len(e_step_list))])/(np.sum(e_step_list))\n",
    "        self.proC=np.sum([ data[i]*(1-e_step_list[i]) for i in range(len(e_step_list))])/(np.sum(1-np.array(e_step_list)))\n",
    "        self.proA=np.average(e_step_list)\n",
    "        print(\"硬币A\",self.proA,\"硬币B\",self.proB,\"硬币C\",self.proC)"
   ]
  },
  {
   "cell_type": "code",
   "execution_count": 17,
   "metadata": {},
   "outputs": [
    {
     "name": "stdout",
     "output_type": "stream",
     "text": [
      "硬币A 0.5 硬币B 0.6 硬币C 0.6\n",
      "硬币A 0.5 硬币B 0.6 硬币C 0.6\n",
      "硬币A 0.5 硬币B 0.6 硬币C 0.6\n",
      "硬币A 0.5 硬币B 0.6 硬币C 0.6\n",
      "硬币A 0.5 硬币B 0.6 硬币C 0.6\n",
      "硬币A 0.5 硬币B 0.6 硬币C 0.6\n",
      "硬币A 0.5 硬币B 0.6 硬币C 0.6\n",
      "硬币A 0.5 硬币B 0.6 硬币C 0.6\n",
      "硬币A 0.5 硬币B 0.6 硬币C 0.6\n",
      "硬币A 0.5 硬币B 0.6 硬币C 0.6\n"
     ]
    }
   ],
   "source": [
    "data=[1,1,0,1,0,0,1,0,1,1]\n",
    "em = EM([0.5, 0.5, 0.5])\n",
    "em.fit(data)\n",
    "for i in range(10):\n",
    "    em.iter()"
   ]
  },
  {
   "cell_type": "code",
   "execution_count": 18,
   "metadata": {},
   "outputs": [
    {
     "name": "stdout",
     "output_type": "stream",
     "text": [
      "硬币A 0.4074538332400672 硬币B 0.6073174751414601 硬币C 0.594968268359021\n",
      "硬币A 0.4059457976860781 硬币B 0.598514052306899 硬币C 0.6010154195008571\n",
      "硬币A 0.4062466971153628 硬币B 0.6002962726160447 硬币C 0.5997972899331604\n",
      "硬币A 0.40618648906152177 硬币B 0.5999407089546676 硬币C 0.6000405568770208\n",
      "硬币A 0.4061985295444629 硬币B 0.6000118567469503 硬币C 0.5999918892198554\n",
      "硬币A 0.4061961214027704 硬币B 0.5999976285921352 硬币C 0.6000016221798335\n",
      "硬币A 0.4061966030293046 硬币B 0.6000004742792339 硬币C 0.5999996755649856\n",
      "硬币A 0.4061965067039256 硬币B 0.5999999051440597 硬币C 0.600000064887041\n",
      "硬币A 0.4061965259689986 硬币B 0.6000000189711843 硬币C 0.5999999870225934\n",
      "硬币A 0.4061965221159839 硬币B 0.599999996205763 硬币C 0.6000000025954815\n"
     ]
    }
   ],
   "source": [
    "data=[1,1,0,1,0,0,1,0,1,1]\n",
    "em = EM([0.4, 0.67, 0.7])\n",
    "em.fit(data)\n",
    "for i in range(10):\n",
    "    em.iter()"
   ]
  },
  {
   "cell_type": "code",
   "execution_count": null,
   "metadata": {},
   "outputs": [],
   "source": []
  },
  {
   "cell_type": "code",
   "execution_count": null,
   "metadata": {},
   "outputs": [],
   "source": []
  },
  {
   "cell_type": "code",
   "execution_count": null,
   "metadata": {},
   "outputs": [],
   "source": []
  },
  {
   "cell_type": "code",
   "execution_count": null,
   "metadata": {},
   "outputs": [],
   "source": []
  },
  {
   "cell_type": "code",
   "execution_count": null,
   "metadata": {},
   "outputs": [],
   "source": [
    "\n",
    "    \n",
    "    "
   ]
  },
  {
   "cell_type": "code",
   "execution_count": null,
   "metadata": {},
   "outputs": [],
   "source": []
  },
  {
   "cell_type": "code",
   "execution_count": null,
   "metadata": {},
   "outputs": [],
   "source": []
  },
  {
   "cell_type": "code",
   "execution_count": null,
   "metadata": {},
   "outputs": [],
   "source": []
  },
  {
   "cell_type": "code",
   "execution_count": null,
   "metadata": {},
   "outputs": [],
   "source": []
  }
 ],
 "metadata": {
  "kernelspec": {
   "display_name": "Python 3",
   "language": "python",
   "name": "python3"
  },
  "language_info": {
   "codemirror_mode": {
    "name": "ipython",
    "version": 3
   },
   "file_extension": ".py",
   "mimetype": "text/x-python",
   "name": "python",
   "nbconvert_exporter": "python",
   "pygments_lexer": "ipython3",
   "version": "3.8.8"
  }
 },
 "nbformat": 4,
 "nbformat_minor": 2
}
