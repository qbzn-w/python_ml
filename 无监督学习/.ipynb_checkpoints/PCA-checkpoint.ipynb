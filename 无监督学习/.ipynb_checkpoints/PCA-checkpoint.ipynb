{
 "cells": [
  {
   "cell_type": "code",
   "execution_count": 4,
   "id": "464c22d4",
   "metadata": {},
   "outputs": [
    {
     "data": {
      "text/plain": [
       "array([[-0.9676677 ,  2.22222029],\n",
       "       [ 2.81489934, -0.51433054],\n",
       "       [ 3.36696154, -0.61846078],\n",
       "       [-5.21419319, -1.08942898]])"
      ]
     },
     "execution_count": 4,
     "metadata": {},
     "output_type": "execute_result"
    }
   ],
   "source": [
    "import numpy as np\n",
    "from sklearn.decomposition import PCA\n",
    "train_X = np.array([[1,5,6],[4,3,9],[4,2,9],[4,7,2]])\n",
    "def pca(train_X,k):\n",
    "    mean_v=np.mean(train_X,axis=0)\n",
    "    train_X=train_X-mean_v\n",
    "    omega_X=np.dot(train_X.T,train_X)\n",
    "    eig_val, eig_vec = np.linalg.eig(omega_X)\n",
    "    Ord_eig_val = np.flipud(np.argsort(eig_val))\n",
    "    feature = []\n",
    "    for i in range(k):\n",
    "        feature.append(eig_vec[:,Ord_eig_val[i]])\n",
    "    feature = np.array(feature)\n",
    "    data = np.dot(train_X,feature.T)\n",
    "    return data\n",
    "pca(train_X,k=2)"
   ]
  },
  {
   "cell_type": "code",
   "execution_count": 5,
   "id": "d50afab0",
   "metadata": {},
   "outputs": [
    {
     "data": {
      "text/plain": [
       "array([[ 0.9676677 ,  2.22222029],\n",
       "       [-2.81489934, -0.51433054],\n",
       "       [-3.36696154, -0.61846078],\n",
       "       [ 5.21419319, -1.08942898]])"
      ]
     },
     "execution_count": 5,
     "metadata": {},
     "output_type": "execute_result"
    }
   ],
   "source": [
    "\n",
    "#sklearn 里的PCA\n",
    "sklearn_pca = PCA(n_components=2)\n",
    "sklearn_pca.fit(train_X)\n",
    "sklearn_pca.transform(train_X)"
   ]
  },
  {
   "cell_type": "code",
   "execution_count": 8,
   "id": "43a6e068",
   "metadata": {},
   "outputs": [
    {
     "name": "stdout",
     "output_type": "stream",
     "text": [
      "[3.25 4.25 6.5 ]\n"
     ]
    }
   ],
   "source": []
  },
  {
   "cell_type": "code",
   "execution_count": null,
   "id": "cb14cc96",
   "metadata": {},
   "outputs": [],
   "source": []
  }
 ],
 "metadata": {
  "kernelspec": {
   "display_name": "Python 3",
   "language": "python",
   "name": "python3"
  },
  "language_info": {
   "codemirror_mode": {
    "name": "ipython",
    "version": 3
   },
   "file_extension": ".py",
   "mimetype": "text/x-python",
   "name": "python",
   "nbconvert_exporter": "python",
   "pygments_lexer": "ipython3",
   "version": "3.8.8"
  }
 },
 "nbformat": 4,
 "nbformat_minor": 5
}
