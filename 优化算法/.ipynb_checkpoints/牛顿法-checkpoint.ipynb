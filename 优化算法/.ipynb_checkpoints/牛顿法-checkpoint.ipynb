{
 "cells": [
  {
   "cell_type": "markdown",
   "id": "c5f88a3a",
   "metadata": {},
   "source": [
    "## 牛顿法理论  https://zhuanlan.zhihu.com/p/105265432\n",
    "\n"
   ]
  },
  {
   "cell_type": "code",
   "execution_count": 20,
   "id": "d99934f1",
   "metadata": {},
   "outputs": [
    {
     "name": "stdout",
     "output_type": "stream",
     "text": [
      "CPU times: user 2 µs, sys: 1 µs, total: 3 µs\n",
      "Wall time: 5.01 µs\n"
     ]
    },
    {
     "data": {
      "text/plain": [
       "1.0"
      ]
     },
     "execution_count": 20,
     "metadata": {},
     "output_type": "execute_result"
    }
   ],
   "source": [
    "%time\n",
    "# 实现根号的代码\n",
    "def sqrt(n,max_iter=1000):\n",
    "    last_x=n/2\n",
    "    eta=1e-20\n",
    "    for i in range(max_iter):\n",
    "        x=last_x- (last_x**2-n)/(2*last_x)\n",
    "        if abs(x-last_x)<eta:\n",
    "            break\n",
    "        last_x=x\n",
    "    return last_x\n",
    "sqrt(1)"
   ]
  },
  {
   "cell_type": "code",
   "execution_count": 21,
   "id": "eb37c1d7",
   "metadata": {},
   "outputs": [
    {
     "name": "stdout",
     "output_type": "stream",
     "text": [
      "CPU times: user 2 µs, sys: 0 ns, total: 2 µs\n",
      "Wall time: 6.2 µs\n"
     ]
    },
    {
     "data": {
      "text/plain": [
       "1.0"
      ]
     },
     "execution_count": 21,
     "metadata": {},
     "output_type": "execute_result"
    }
   ],
   "source": [
    "\n"
   ]
  },
  {
   "cell_type": "markdown",
   "id": "5519edfd",
   "metadata": {},
   "source": []
  },
  {
   "cell_type": "markdown",
   "id": "22d61db1",
   "metadata": {},
   "source": [
    "\n",
    "Newton法\n",
    "Rosenbrock函数\n",
    "函数 $f(x)=100*(x_2-x_1^2)^2+(1-x_1)^2 $\n"
   ]
  },
  {
   "cell_type": "code",
   "execution_count": 16,
   "id": "284387f9",
   "metadata": {},
   "outputs": [
    {
     "name": "stdout",
     "output_type": "stream",
     "text": [
      "[1. 1.] 103\n"
     ]
    }
   ],
   "source": [
    "import numpy as np\n",
    "# 梯度\n",
    "def d(data):\n",
    "    return np.array([-400*(data[1]-data[0]**2)*data[0]-2*(1-data[0]),200*(data[1]-data[0]**2)])\n",
    "\n",
    "# 黑塞矩阵\n",
    "def h(data):\n",
    "    return np.array([[-400*(data[1]-3*data[0]**2)+2,-400*data[0]],[-400*data[0],200]])\n",
    "# 原函数\n",
    "def f(data):\n",
    "    return 100*(data[1]-data[0]**2)**2+(1-data[0])**2\n",
    "\n",
    "eta=1e-20\n",
    "alpha=0.5\n",
    "data=np.array([10,-20])\n",
    "max_iter=1000\n",
    "iter_num=0\n",
    "current_data=None\n",
    "for i in range(max_iter):\n",
    "    iter_num=i\n",
    "    current_data=data- alpha*np.linalg.inv(h(data)).dot(d(data))\n",
    "    if abs(f(current_data)-f(data))<eta:\n",
    "        break\n",
    "    data=current_data\n",
    "print(current_data,iter_num)    \n",
    "        \n",
    "    "
   ]
  },
  {
   "cell_type": "code",
   "execution_count": null,
   "id": "a4f95386",
   "metadata": {},
   "outputs": [],
   "source": []
  }
 ],
 "metadata": {
  "kernelspec": {
   "display_name": "Python 3",
   "language": "python",
   "name": "python3"
  },
  "language_info": {
   "codemirror_mode": {
    "name": "ipython",
    "version": 3
   },
   "file_extension": ".py",
   "mimetype": "text/x-python",
   "name": "python",
   "nbconvert_exporter": "python",
   "pygments_lexer": "ipython3",
   "version": "3.8.8"
  }
 },
 "nbformat": 4,
 "nbformat_minor": 5
}
