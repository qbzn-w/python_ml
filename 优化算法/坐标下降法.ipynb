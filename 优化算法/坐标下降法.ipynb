{
 "cells": [
  {
   "cell_type": "markdown",
   "metadata": {},
   "source": [
    "求解最小值$f(x,y)=5x^2−6xy+5y^2$"
   ]
  },
  {
   "cell_type": "code",
   "execution_count": 3,
   "metadata": {},
   "outputs": [
    {
     "name": "stdout",
     "output_type": "stream",
     "text": [
      "[4.49045154e-11 7.48408590e-11] 94\n"
     ]
    }
   ],
   "source": [
    "import numpy as np\n",
    "def dx(y):\n",
    "    return 3*y/5\n",
    "def dy(x):\n",
    "    return 3*x/5\n",
    "def f(data):\n",
    "    return 5 *data[0] **2 -6*data[0]*data[1]+5*data[1]**2\n",
    "initparams=np.array([2,2])\n",
    "curparams=None\n",
    "eta=1e-20\n",
    "iter_num=0\n",
    "max_iter=1000\n",
    "for i in range(max_iter):\n",
    "    curparams = initparams;\n",
    "    iter_num=i\n",
    "    if i %2==0:\n",
    "        # 优化x\n",
    "        initparams=np.array([dx(initparams[1]),initparams[1]])\n",
    "    elif i%2==1:\n",
    "        # 优化y\n",
    "        initparams=np.array([initparams[0],dy(initparams[1])])\n",
    "    if abs(f(initparams)-f(curparams))< eta:\n",
    "        break\n",
    "print(initparams,iter_num)\n"
   ]
  },
  {
   "cell_type": "code",
   "execution_count": null,
   "metadata": {},
   "outputs": [],
   "source": []
  },
  {
   "cell_type": "code",
   "execution_count": null,
   "metadata": {},
   "outputs": [],
   "source": []
  },
  {
   "cell_type": "code",
   "execution_count": null,
   "metadata": {},
   "outputs": [],
   "source": []
  }
 ],
 "metadata": {
  "kernelspec": {
   "display_name": "Python 3",
   "language": "python",
   "name": "python3"
  },
  "language_info": {
   "codemirror_mode": {
    "name": "ipython",
    "version": 3
   },
   "file_extension": ".py",
   "mimetype": "text/x-python",
   "name": "python",
   "nbconvert_exporter": "python",
   "pygments_lexer": "ipython3",
   "version": "3.8.8"
  }
 },
 "nbformat": 4,
 "nbformat_minor": 2
}
