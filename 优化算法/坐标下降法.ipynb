{
 "cells": [
  {
   "cell_type": "markdown",
   "metadata": {},
   "source": [
    "求解最小值$f(x,y)=5x^2−6xy+5y^2$"
   ]
  },
  {
   "cell_type": "code",
   "execution_count": 1,
   "metadata": {},
   "outputs": [
    {
     "name": "stdout",
     "output_type": "stream",
     "text": [
      "[7.87679118e-10 7.89263991e-10] 12028\n"
     ]
    }
   ],
   "source": [
    "import numpy as np\n",
    "def dx(x,y):\n",
    "    return 10*x -6*y\n",
    "def dy(x,y):\n",
    "    return 10*y-6*x\n",
    "def f(data):\n",
    "    return 5 *data[0] **2 -6*data[0]*data[1]+5*data[1]**2\n",
    "initparams=np.array([30,20])\n",
    "curparams=None\n",
    "eta=1e-20\n",
    "alpha=1e-3\n",
    "iter_num=0\n",
    "max_iter=30000\n",
    "for i in range(max_iter):\n",
    "    if i %2==0:\n",
    "        # 优化x\n",
    "        curparams=initparams-alpha*np.array([dx(initparams[0],initparams[1]),0])\n",
    "        \n",
    "    elif i%2==1:\n",
    "        # 优化y\n",
    "        curparams=initparams-alpha*np.array([0,dy(initparams[0],initparams[1])])\n",
    "        \n",
    "    if abs(f(initparams)-f(curparams))<eta:\n",
    "        break\n",
    "    iter_num=i\n",
    "    initparams=curparams\n",
    "print(initparams,iter_num)\n"
   ]
  },
  {
   "cell_type": "code",
   "execution_count": null,
   "metadata": {},
   "outputs": [],
   "source": []
  },
  {
   "cell_type": "code",
   "execution_count": null,
   "metadata": {},
   "outputs": [],
   "source": []
  },
  {
   "cell_type": "code",
   "execution_count": null,
   "metadata": {},
   "outputs": [],
   "source": []
  }
 ],
 "metadata": {
  "kernelspec": {
   "display_name": "Python 3",
   "language": "python",
   "name": "python3"
  },
  "language_info": {
   "codemirror_mode": {
    "name": "ipython",
    "version": 3
   },
   "file_extension": ".py",
   "mimetype": "text/x-python",
   "name": "python",
   "nbconvert_exporter": "python",
   "pygments_lexer": "ipython3",
   "version": "3.7.4"
  }
 },
 "nbformat": 4,
 "nbformat_minor": 2
}
