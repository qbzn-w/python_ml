{
 "cells": [
  {
   "cell_type": "markdown",
   "metadata": {},
   "source": [
    "# 1. 特征工程"
   ]
  },
  {
   "cell_type": "markdown",
   "metadata": {},
   "source": [
    "## 1.1 特征归一化"
   ]
  },
  {
   "cell_type": "markdown",
   "metadata": {},
   "source": [
    "### 1.1.1 线性函数归一化（Min-Max Scaling） "
   ]
  },
  {
   "cell_type": "code",
   "execution_count": null,
   "metadata": {
    "odps_configure": true
   },
   "outputs": [],
   "source": [
    "import numpy as np\n",
    "import sklearn.datasets as datasets\n",
    "train_X=datasets.load_iris().data\n",
    "def min_max_scaling(train_X):\n",
    "    max_v=np.max(train_X,axis=0)\n",
    "    min_v=np.min(train_X,axis=0)\n",
    "    return (train_X-min_v)/(max_v-min_v)\n",
    "min_max_scaling(train_X)\n",
    "# sklearn  里的\n",
    "scaler= MinMaxScaler()\n",
    "scaler.fit(train_X)\n",
    "scaler.transform(train_X)"
   ]
  },
  {
   "cell_type": "markdown",
   "metadata": {},
   "source": [
    "### 1.1.2 零均值归一化（Z-Score Normalization）\n"
   ]
  },
  {
   "cell_type": "code",
   "execution_count": null,
   "metadata": {},
   "outputs": [],
   "source": [
    "from sklearn.preprocessing import StandardScaler\n",
    "def z_score(train_X):\n",
    "    mean_v=np.mean(train_X,axis=0)\n",
    "    std_v=np.std(train_X,axis=0)\n",
    "    return (train_X-mean_v)/std_v\n",
    "z_score(train_X)\n",
    "std=StandardScaler()\n",
    "std.fit(train_X)\n",
    "std.transform(train_X)"
   ]
  },
  {
   "cell_type": "code",
   "execution_count": null,
   "metadata": {},
   "outputs": [],
   "source": []
  },
  {
   "cell_type": "code",
   "execution_count": null,
   "metadata": {
    "odps_sql_cell": true
   },
   "outputs": [],
   "source": []
  },
  {
   "cell_type": "code",
   "execution_count": null,
   "metadata": {},
   "outputs": [],
   "source": []
  },
  {
   "cell_type": "code",
   "execution_count": null,
   "metadata": {},
   "outputs": [],
   "source": []
  }
 ],
 "metadata": {
  "kernelspec": {
   "display_name": "Python 3",
   "language": "python",
   "name": "python3"
  },
  "language_info": {
   "codemirror_mode": {
    "name": "ipython",
    "version": 3
   },
   "file_extension": ".py",
   "mimetype": "text/x-python",
   "name": "python",
   "nbconvert_exporter": "python",
   "pygments_lexer": "ipython3",
   "version": "3.8.8"
  }
 },
 "nbformat": 4,
 "nbformat_minor": 4
}
