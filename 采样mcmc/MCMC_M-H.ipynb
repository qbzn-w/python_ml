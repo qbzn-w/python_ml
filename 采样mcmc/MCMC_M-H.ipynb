{
 "cells": [
  {
   "cell_type": "markdown",
   "id": "08145fb3",
   "metadata": {},
   "source": [
    "# https://www.cnblogs.com/pinard/p/6632399.html"
   ]
  },
  {
   "cell_type": "code",
   "execution_count": 9,
   "id": "9865d878",
   "metadata": {},
   "outputs": [
    {
     "data": {
      "image/png": "[encoded data removed]",
      "text/plain": [
       "<Figure size 432x288 with 1 Axes>"
      ]
     },
     "metadata": {
      "needs_background": "light"
     },
     "output_type": "display_data"
    }
   ],
   "source": [
    "from scipy.stats import norm\n",
    "import matplotlib.pyplot as plt\n",
    "import random\n",
    "import math\n",
    "%matplotlib inline\n",
    "\n",
    "def norm_dist_prob(theta):\n",
    "    y = norm.pdf(theta, loc=3, scale=2)\n",
    "    return y\n",
    "\n",
    "T = 25000\n",
    "pi = [0 for i in range(T)]\n",
    "sigma = 1\n",
    "t = 0\n",
    "while t < T-1:\n",
    "    t = t + 1\n",
    "    pi_star = norm.rvs(loc=pi[t - 1], scale=sigma, size=1, random_state=None)\n",
    "    alpha = min(1, (norm_dist_prob(pi_star[0]) / norm_dist_prob(pi[t - 1])))\n",
    "\n",
    "    u = random.uniform(0, 1)\n",
    "    if u < alpha:\n",
    "        pi[t] = pi_star[0]\n",
    "    else:\n",
    "        pi[t] = pi[t - 1]\n",
    "\n",
    "\n",
    "plt.scatter(pi, norm.pdf(pi, loc=3, scale=2))\n",
    "num_bins = 50\n",
    "plt.hist(pi, num_bins, density =1, facecolor='red', alpha=0.7)\n",
    "plt.show()"
   ]
  },
  {
   "cell_type": "code",
   "execution_count": null,
   "id": "2088bf07",
   "metadata": {},
   "outputs": [],
   "source": []
  }
 ],
 "metadata": {
  "kernelspec": {
   "display_name": "Python 3",
   "language": "python",
   "name": "python3"
  },
  "language_info": {
   "codemirror_mode": {
    "name": "ipython",
    "version": 3
   },
   "file_extension": ".py",
   "mimetype": "text/x-python",
   "name": "python",
   "nbconvert_exporter": "python",
   "pygments_lexer": "ipython3",
   "version": "3.8.8"
  }
 },
 "nbformat": 4,
 "nbformat_minor": 5
}
